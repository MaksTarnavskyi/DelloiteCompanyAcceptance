{
 "cells": [
  {
   "cell_type": "code",
   "execution_count": 8,
   "metadata": {},
   "outputs": [],
   "source": [
    "from BertPreprocess import *\n",
    "model2 = BertPreprocess()\n",
    "model2.load_data()\n",
    "model2.train[i:i+1]"
   ]
  },
  {
   "cell_type": "code",
   "execution_count": 9,
   "metadata": {},
   "outputs": [],
   "source": []
  },
  {
   "cell_type": "code",
   "execution_count": 10,
   "metadata": {
    "scrolled": false
   },
   "outputs": [
    {
     "name": "stderr",
     "output_type": "stream",
     "text": [
      "[INFO] Data loaded\n",
      "INFO:__name__:[INFO] Data loaded\n"
     ]
    }
   ],
   "source": [
    "model2.load_data()\n",
    "# model.process_text()\n",
    "# model.create_datasets_for_bert()"
   ]
  },
  {
   "cell_type": "code",
   "execution_count": 65,
   "metadata": {},
   "outputs": [
    {
     "data": {
      "text/html": [
       "<div>\n",
       "<style scoped>\n",
       "    .dataframe tbody tr th:only-of-type {\n",
       "        vertical-align: middle;\n",
       "    }\n",
       "\n",
       "    .dataframe tbody tr th {\n",
       "        vertical-align: top;\n",
       "    }\n",
       "\n",
       "    .dataframe thead th {\n",
       "        text-align: right;\n",
       "    }\n",
       "</style>\n",
       "<table border=\"1\" class=\"dataframe\">\n",
       "  <thead>\n",
       "    <tr style=\"text-align: right;\">\n",
       "      <th></th>\n",
       "      <th>id</th>\n",
       "      <th>html</th>\n",
       "      <th>text</th>\n",
       "      <th>keywords</th>\n",
       "      <th>accepted_function</th>\n",
       "      <th>rejected_function</th>\n",
       "      <th>accepted_product</th>\n",
       "      <th>rejected_product</th>\n",
       "      <th>target</th>\n",
       "    </tr>\n",
       "  </thead>\n",
       "  <tbody>\n",
       "    <tr>\n",
       "      <th>11</th>\n",
       "      <td>197fc993-a14b-4bf2-80dd-cce0fd8206a9</td>\n",
       "      <td>[b'&lt;!DOCTYPE html&gt;\\n&lt;html lang=\"en\"&gt;\\n&lt;head&gt;\\n...</td>\n",
       "      <td>[Load\\nLoad\\n{{ menu.name }}\\n{{ menu.menu1_na...</td>\n",
       "      <td>[]</td>\n",
       "      <td>distribution, sale, supply, import, export, tr...</td>\n",
       "      <td>manufacture, production, retail sale, research...</td>\n",
       "      <td>product, water heaters, water purifiers, water...</td>\n",
       "      <td></td>\n",
       "      <td>2</td>\n",
       "    </tr>\n",
       "  </tbody>\n",
       "</table>\n",
       "</div>"
      ],
      "text/plain": [
       "                                      id  \\\n",
       "11  197fc993-a14b-4bf2-80dd-cce0fd8206a9   \n",
       "\n",
       "                                                 html  \\\n",
       "11  [b'<!DOCTYPE html>\\n<html lang=\"en\">\\n<head>\\n...   \n",
       "\n",
       "                                                 text keywords  \\\n",
       "11  [Load\\nLoad\\n{{ menu.name }}\\n{{ menu.menu1_na...       []   \n",
       "\n",
       "                                    accepted_function  \\\n",
       "11  distribution, sale, supply, import, export, tr...   \n",
       "\n",
       "                                    rejected_function  \\\n",
       "11  manufacture, production, retail sale, research...   \n",
       "\n",
       "                                     accepted_product rejected_product  target  \n",
       "11  product, water heaters, water purifiers, water...                        2  "
      ]
     },
     "execution_count": 65,
     "metadata": {},
     "output_type": "execute_result"
    }
   ],
   "source": [
    "model2.train[i:i+1]"
   ]
  },
  {
   "cell_type": "code",
   "execution_count": null,
   "metadata": {},
   "outputs": [],
   "source": []
  },
  {
   "cell_type": "code",
   "execution_count": 66,
   "metadata": {},
   "outputs": [],
   "source": [
    "i=11"
   ]
  },
  {
   "cell_type": "code",
   "execution_count": 67,
   "metadata": {},
   "outputs": [
    {
     "data": {
      "text/plain": [
       "array(['distribution, sale, supply, import, export, trade, wholesale, resale'],\n",
       "      dtype=object)"
      ]
     },
     "execution_count": 67,
     "metadata": {},
     "output_type": "execute_result"
    }
   ],
   "source": [
    "model2.train[i:i+1]['accepted_function'].values"
   ]
  },
  {
   "cell_type": "code",
   "execution_count": 68,
   "metadata": {
    "scrolled": true
   },
   "outputs": [
    {
     "data": {
      "text/plain": [
       "array(['manufacture, production, retail sale, research and development, real estate and property management services, IT consultancy, software development activities, civil engineering, engineering consultancy, water treatment and water perification services, product, cars, vehicles, toys, food, utensils homewares, electronic components (on the standalone basis), mechanical components, audio video products, IT components, printers, scanners, furniture, chemicals'],\n",
       "      dtype=object)"
      ]
     },
     "execution_count": 68,
     "metadata": {},
     "output_type": "execute_result"
    }
   ],
   "source": [
    "model2.train[i:i+1]['rejected_function'].values"
   ]
  },
  {
   "cell_type": "code",
   "execution_count": 69,
   "metadata": {},
   "outputs": [
    {
     "data": {
      "text/plain": [
       "array([''], dtype=object)"
      ]
     },
     "execution_count": 69,
     "metadata": {},
     "output_type": "execute_result"
    }
   ],
   "source": [
    "model2.train[i:i+1]['rejected_product'].values"
   ]
  },
  {
   "cell_type": "code",
   "execution_count": 70,
   "metadata": {},
   "outputs": [
    {
     "data": {
      "text/plain": [
       "array([''], dtype=object)"
      ]
     },
     "execution_count": 70,
     "metadata": {},
     "output_type": "execute_result"
    }
   ],
   "source": [
    "model2.train[i:i+1]['rejected_product'].values"
   ]
  },
  {
   "cell_type": "code",
   "execution_count": 71,
   "metadata": {},
   "outputs": [
    {
     "data": {
      "text/plain": [
       "array([list(['Load\\nLoad\\n{{ menu.name }}\\n{{ menu.menu1_name }}\\n{{ menu2.menu2_name }}\\n{{ menu3.name }}\\n{{ menu.menu1_name }}\\n{{ menu2.menu2_name }}\\n{{ menu3.name }}\\n{{ menu.name }}\\nMENU\\nInquiry\\nCatalogue\\nApplication\\nTOP\\nAnnouncement of Company Name Change\\n[Upcoming Events] analytica 2020\\n[Upcoming Events] Pittcon 2020\\nAgilent\\'s Acquisition of Asset from Young In Scientific has Nothing to Do with YL Instruments\\nThe brand new ChroZen GC with the fancy design and intuitive LCD display features substantially enhanced sensitivity and reproducibility with the new powerful UPC (Ultimate Pneumatic Control) to enable more reliable and accurate data.\\nGas Chromatography GC System (ChroZen GC)\\nChroZen UHPLC perfectly satisfies productivity and efficiency by producing the results 4~10 times faster than conventional HPLCs while ensuring both superior sensitivity and resolution.\\nLiquid Chromatography ChroZen UHPLC\\nYCM’s 5th-generation GC is starting to be a new powerful leader in a GC market. With strongly enhanced APCs (Advanced Pneumatic Control), installation of three units of inlet and detector for each enables to extend the various GC                     configurations to perform complex analyses.\\nGas Chromatography GC System (YL6500 GC)\\nThe YL6900 GC/MS is a new powerful mass spectrometer developed by dedication for gas chromatography and mass spectrometry technologists backed by twenty two years of experience in this field.\\nMass Spectrometry GC/MS System (YL6900 GC/MS)\\nYL9100 Plus HPLC is a modular HPLC built to provide an exceptional cost/performance ratio. Continued research and development provide high-end performance and features, while a state of the art manufacturing facility ensures                     outstanding quality.\\nLiquid Chromatography YL9100 Plus HPLC (Analytical HPLC)\\nThe NEW aquapuri 5 produces ultra-pure and pure water directly from tap water without reservoir.\\nWater Purification System aquapuri 5 (Super Water Purification System)\\nWe wish to extend our heart-felt appreciation to all of our customers using our analytical instruments.\\n60, Anyangcheondong-ro, Dongan-gu, Anyang-si, Gyeonggi-do, 14042, Korea\\nTel : +82-31-428-8700 | Fax : +82-31-428-8787\\nDesignd by OllySite.com\\n{\"0efrfg\":\"\\\\ub9cc\\\\uc871\\\\ub3c4\\\\uc870\\\\uc0ac\",\"0fy5mk\":\"Contact\",\"0lqi1y\":\"Primary Category\",\"1km60y\":\"\\\\ub354\\\\ubcf4\\\\uae30\",\"1pcz10\":\"agree\",\"2idru6\":\"Deletion cannot be undone.\",\"2zn6c0\":\"Won\",\"36a16f\":\"Reception date\",\"38vrta\":\"Order number\",\"3ayqt8\":\"No data.\",\"3gta72\":\"Search address\",\"3q1yy4\":\"OllySite\",\"3tom3q\":\"wed\",\"3tv4ax\":\"Delete?\",\"3yg3qs\":\"Sat\",\"4hhh7g\":\"\\\\uc218\\\\ub0a9\",\"4j4pqh\":\"List\",\"4rh5eo\":\"File name too long.\",\"5kro8x\":\"tue\",\"5t9eux\":\"Write\",\"5u61n9\":\"\\\\ucde8\\\\uc18c\\\\ud558\\\\uc2dc\\\\uaca0\\\\uc2b5\\\\ub2c8\\\\uae4c?\",\"6c8dju\":\"No\",\"6rzipa\":\"\\\\ubbf8\\\\ub0a9\",\"6v71mm\":\"An error occurred.\",\"73zqea\":\"Select\",\"7j9nqn\":\"\\\\ub2e4\\\\uc74c\",\"7rt416\":\"Title\",\"7v47pl\":\"\\\\ucde8\\\\uc18c\\\\ub41c \\\\uc815\\\\ubcf4\\\\ub294 \\\\ubcf5\\\\uad6c\\\\uac00 \\\\ubd88\\\\uac00\\\\ub2a5\\\\ud569\\\\ub2c8\\\\ub2e4.\",\"81ew5u\":\"mypage\",\"9t0zwk\":\"Wednesday\",\"avpe5s\":\"Address\",\"aw745p\":\"Month\",\"awi3a7\":\"category\",\"b0vxuw\":\"Representative image\",\"b1dxeo\":\"Add bookmark?\",\"bn4g62\":\"Thursday\",\"c65m50\":\"Confirm\",\"d5senu\":\"Cancel\",\"dk7qpq\":\"\\\\ub85c\\\\uadf8\\\\uc778 \\\\ud6c4 \\\\uc774\\\\uc6a9 \\\\uac00\\\\ub2a5 \\\\ud569\\\\ub2c8\\\\ub2e4.\",\"dlwvsa\":\"Status\",\"eq9jiq\":\"An error occupied\",\"ey1etz\":\"{{#1}} info not entered.\",\"f3rrqh\":\"Mon\",\"fktki7\":\"The previous operation was not completed.\",\"gbrgfl\":\"please select\",\"gfcbsy\":\"Remove bookmarks?\",\"gp5mxn\":\"\\\\ucd5c\\\\uc18c \\\\ud558\\\\ub098 \\\\uc774\\\\uc0c1\\\\uc758 \\\\uc815\\\\ubcf4\\\\uac00 \\\\ud544\\\\uc694\\\\ud569\\\\ub2c8\\\\ub2e4.\",\"hc38wh\":\"Content\",\"hcjrwz\":\"Mobile\",\"ifx127\":\"yes\",\"ii8y01\":\"All\",\"iq3hts\":\"Delete\",\"jaxjvx\":\"disagree\",\"kep3mo\":\"Gender\",\"khgm2t\":\"Contact\",\"kkhf0c\":\"Access not allowed.\",\"knv1xj\":\"Registration\",\"l53o8g\":\"Thu\",\"lkbny7\":\"Purchaser\\'s name\",\"lte5dt\":\"{{#1}} enter info following date format.\",\"ltsnle\":\"Add bookmark\",\"mk7egv\":\"\\\\ub4f1\\\\ub85d\\\\ub41c \\\\uc774\\\\ubbf8\\\\uc9c0\\\\uac00 \\\\uc5c6\\\\uc2b5\\\\ub2c8\\\\ub2e4.\",\"mqnxj9\":\"\\\\uc5f4\\\\ub78c\\\\uc911\",\"mrudhg\":\"VAT \\\\ubcc4\\\\ub3c4\",\"mtiwy2\":\"Enter search term.\\\\r\\\\n\",\"nokhdt\":\"Select info.\",\"nouc3g\":\"\\\\ucd5c\\\\uc18c \\\\ud55c \\\\uac1c\\\\uc758 \\\\ub300\\\\uc0c1\\\\uc744 \\\\uccb4\\\\ud06c\\\\ud574 \\\\uc8fc\\\\uc138\\\\uc694.\",\"nspswh\":\"Close search area\",\"nwzi21\":\"Tuesday\",\"o4twp6\":\"Hour\",\"o5urf5\":\"Belong\",\"opoow5\":\"Edit\",\"os7rml\":\"Thu\",\"outp8n\":\"Phone\",\"p3uf60\":\"Year\",\"p6zl5o\":\"Fri\",\"pe23tk\":\"VAT \\\\ud3ec\\\\ud568\",\"pgm07y\":\"Missing items\",\"pn7cly\":\"No result match.\",\"poau7k\":\"Open search area\",\"pp8imj\":\"Enter info.\",\"q24aee\":\"Submit\",\"qbx9ai\":\"Close\",\"qzfuxn\":\"No file.\",\"r1n0au\":\"Day\",\"r8tejp\":\"VAT \\\\ud3ec\\\\ud568\",\"rmb2si\":\"Minute\",\"rzfbz8\":\"Date of birth\",\"rzhzww\":\"Sunday\",\"s65unn\":\"Email\",\"sr02hx\":\"Required value was missing.\",\"tfyorq\":\"Search\",\"tjsno6\":\"Error in access.\",\"tnjkmc\":\"Male\",\"tx60e2\":\"Error occurred during registration.\",\"u8hsag\":\"\\\\ud30c\\\\uc77c\\\\uc6a9\\\\ub7c9\\\\uc744 {{#1}} \\\\uc774\\\\ud558\\\\ub85c \\\\uc62c\\\\ub824 \\\\uc8fc\\\\uc138\\\\uc694.\",\"uaxey3\":\"No registered content.\",\"uhky3h\":\"Unassigned\",\"uk0fzw\":\"back\",\"v4q66y\":\"Second category\",\"wbvcvq\":\"Friday\",\"wllms4\":\"Enter content.\",\"xfgwk2\":\"Saturday\",\"xguo8o\":\"ALL\",\"xmdo72\":\"All items\",\"xqgjk5\":\"persons\",\"y4v5wf\":\"Print\",\"y5s48q\":\"Enter title.\",\"yimyjm\":\"Open search area\",\"yoqx1q\":\"Will you proceed with the input details?\",\"zg6hjz\":\"Female\",\"zjzhqx\":\"View all\",\"cn67cj\":\"Help desk : Ollysite\",\"d9lgxp\":\"Auth Code for {{#1}}\",\"qjo6om\":\"Target file info is not correct.\",\"yjd1eq\":\"Source file info is not correct.\",\"8ivbvw\":\"Group community\",\"2lz13u\":\"Profile\",\"d1ecfz\":\"Login\",\"fbo0gr\":\"Shopping Cart\",\"h3y42e\":\"Logout\",\"qp6dah\":\"Purchase details\",\"rmy2er\":\"My Page\",\"sf3vxr\":\"Sign up\",\"uu6gag\":\"\\\\ub85c\\\\uadf8\\\\uc544\\\\uc6c3\\\\ud558\\\\uc2dc\\\\uaca0\\\\uc2b5\\\\ub2c8\\\\uae4c?\",\"wlu1ju\":\"Find your ID\\\\/Password\",\"37i595\":\"Shopping Mall\",\"89z0su\":\"Error in calling SNS information.\",\"dxa75x\":\"Popup Zone\",\"escpyb\":\"\\\\uba40\\\\ud2f0\\\\ubcf4\\\\ub4dc\",\"ol3xlz\":\"Bulletin Board\",\"rxlkr2\":\"Do not show this window for the next week.\",\"tey2rp\":\"Gallery\",\"vm5tst\":\"\\\\ub3d9\\\\uc601\\\\uc0c1 URL \\\\uc815\\\\ubcf4\\\\ub97c \\\\ud655\\\\uc778\\\\ud574 \\\\uc8fc\\\\uc138\\\\uc694.\"}\\n', 'Load\\nLoad\\n{{ menu.name }}\\n{{ menu.menu1_name }}\\n{{ menu2.menu2_name }}\\n{{ menu3.name }}\\n{{ menu.menu1_name }}\\n{{ menu2.menu2_name }}\\n{{ menu3.name }}\\n{{ menu.name }}\\nMENU\\nInquiry\\nCatalogue\\nApplication\\nTOP\\n> Contact Us > Contact Us\\nContact Us\\nCustomer Center\\nTel : +82-31-428-8700 | Fax : +82-31-428-8787\\nCountry *\\nProducts\\nProducts\\nFirst Name *\\nLast Name\\nEmail Address  *\\nComments or Questions *\\nTo confirm your request, please check the box to let us know you’re human.\\nPlease enter the following characters before registering.\\nRefresh\\nRegistration\\nHome\\nProducts\\n60, Anyangcheondong-ro, Dongan-gu, Anyang-si, Gyeonggi-do, 14042, Korea\\nTel : +82-31-428-8700 | Fax : +82-31-428-8787\\nDesignd by OllySite.com\\n{\"config\":{\"bucket\":\"nx-ollysite-tmp\",\"region\":\"ap-northeast-2\"},\"lang\":{\"initializingErr\":\"\\\\ud30c\\\\uc77c\\\\uc5c5\\\\ub85c\\\\ub354 \\\\ucd08\\\\uae30\\\\ud654 \\\\uc624\\\\ub958\",\"templateErr\":\"\\\\ud30c\\\\uc77c\\\\uc5c5\\\\ub85c\\\\ub354 \\\\ud15c\\\\ud50c\\\\ub9bf \\\\uc624\\\\ub958\",\"multiDel\":\"\\\\uc5c5\\\\ub85c\\\\ub4dc \\\\ub41c \\\\ud30c\\\\uc77c\\\\uc744 \\\\uc0ad\\\\uc81c \\\\ud558\\\\uc2dc\\\\uaca0\\\\uc2b5\\\\ub2c8\\\\uae4c?\",\"singleDel\":\"\\\\uc120\\\\ud0dd\\\\ud558\\\\uc2e0 \\\\ud30c\\\\uc77c\\\\uc744 \\\\uc0ad\\\\uc81c \\\\ud558\\\\uc2dc\\\\uaca0\\\\uc2b5\\\\ub2c8\\\\uae4c?\",\"maxUpload\":\"\\\\uc5c5\\\\ub85c\\\\ub4dc\\\\ub294 \\\\ud55c\\\\ubc88\\\\uc5d0 \\\\ucd5c\\\\ub300 10\\\\uac1c \\\\uac00\\\\ub2a5 \\\\ud569\\\\ub2c8\\\\ub2e4.\",\"notSupport\":\"\\\\uc0ac\\\\uc6a9\\\\ud558\\\\uc2dc\\\\ub294 \\\\ube0c\\\\ub77c\\\\uc6b0\\\\uc800\\\\uc5d0\\\\uc11c\\\\ub294 \\\\ud30c\\\\uc77c\\\\uc5c5\\\\ub85c\\\\ub4dc\\\\uac00 \\\\uc9c0\\\\uc6d0\\\\ub418\\\\uc9c0 \\\\uc54a\\\\uc2b5\\\\ub2c8\\\\ub2e4. (\\\\uc9c0\\\\uc6d0 \\\\ube0c\\\\ub77c\\\\uc6b0\\\\uc800 : IE10 \\\\uc774\\\\uc0c1)\",\"fileCnt\":\"\\\\uc120\\\\ud0dd\\\\ud55c \\\\ud30c\\\\uc77c [#xx#]\\\\uac1c\"}}\\n{\"0efrfg\":\"\\\\ub9cc\\\\uc871\\\\ub3c4\\\\uc870\\\\uc0ac\",\"0fy5mk\":\"Contact\",\"0lqi1y\":\"Primary Category\",\"1km60y\":\"\\\\ub354\\\\ubcf4\\\\uae30\",\"1pcz10\":\"agree\",\"2idru6\":\"Deletion cannot be undone.\",\"2zn6c0\":\"Won\",\"36a16f\":\"Reception date\",\"38vrta\":\"Order number\",\"3ayqt8\":\"No data.\",\"3gta72\":\"Search address\",\"3q1yy4\":\"OllySite\",\"3tom3q\":\"wed\",\"3tv4ax\":\"Delete?\",\"3yg3qs\":\"Sat\",\"4hhh7g\":\"\\\\uc218\\\\ub0a9\",\"4j4pqh\":\"List\",\"4rh5eo\":\"File name too long.\",\"5kro8x\":\"tue\",\"5t9eux\":\"Write\",\"5u61n9\":\"\\\\ucde8\\\\uc18c\\\\ud558\\\\uc2dc\\\\uaca0\\\\uc2b5\\\\ub2c8\\\\uae4c?\",\"6c8dju\":\"No\",\"6rzipa\":\"\\\\ubbf8\\\\ub0a9\",\"6v71mm\":\"An error occurred.\",\"73zqea\":\"Select\",\"7j9nqn\":\"\\\\ub2e4\\\\uc74c\",\"7rt416\":\"Title\",\"7v47pl\":\"\\\\ucde8\\\\uc18c\\\\ub41c \\\\uc815\\\\ubcf4\\\\ub294 \\\\ubcf5\\\\uad6c\\\\uac00 \\\\ubd88\\\\uac00\\\\ub2a5\\\\ud569\\\\ub2c8\\\\ub2e4.\",\"81ew5u\":\"mypage\",\"9t0zwk\":\"Wednesday\",\"avpe5s\":\"Address\",\"aw745p\":\"Month\",\"awi3a7\":\"category\",\"b0vxuw\":\"Representative image\",\"b1dxeo\":\"Add bookmark?\",\"bn4g62\":\"Thursday\",\"c65m50\":\"Confirm\",\"d5senu\":\"Cancel\",\"dk7qpq\":\"\\\\ub85c\\\\uadf8\\\\uc778 \\\\ud6c4 \\\\uc774\\\\uc6a9 \\\\uac00\\\\ub2a5 \\\\ud569\\\\ub2c8\\\\ub2e4.\",\"dlwvsa\":\"Status\",\"eq9jiq\":\"An error occupied\",\"ey1etz\":\"{{#1}} info not entered.\",\"f3rrqh\":\"Mon\",\"fktki7\":\"The previous operation was not completed.\",\"gbrgfl\":\"please select\",\"gfcbsy\":\"Remove bookmarks?\",\"gp5mxn\":\"\\\\ucd5c\\\\uc18c \\\\ud558\\\\ub098 \\\\uc774\\\\uc0c1\\\\uc758 \\\\uc815\\\\ubcf4\\\\uac00 \\\\ud544\\\\uc694\\\\ud569\\\\ub2c8\\\\ub2e4.\",\"hc38wh\":\"Content\",\"hcjrwz\":\"Mobile\",\"ifx127\":\"yes\",\"ii8y01\":\"All\",\"iq3hts\":\"Delete\",\"jaxjvx\":\"disagree\",\"kep3mo\":\"Gender\",\"khgm2t\":\"Contact\",\"kkhf0c\":\"Access not allowed.\",\"knv1xj\":\"Registration\",\"l53o8g\":\"Thu\",\"lkbny7\":\"Purchaser\\'s name\",\"lte5dt\":\"{{#1}} enter info following date format.\",\"ltsnle\":\"Add bookmark\",\"mk7egv\":\"\\\\ub4f1\\\\ub85d\\\\ub41c \\\\uc774\\\\ubbf8\\\\uc9c0\\\\uac00 \\\\uc5c6\\\\uc2b5\\\\ub2c8\\\\ub2e4.\",\"mqnxj9\":\"\\\\uc5f4\\\\ub78c\\\\uc911\",\"mrudhg\":\"VAT \\\\ubcc4\\\\ub3c4\",\"mtiwy2\":\"Enter search term.\\\\r\\\\n\",\"nokhdt\":\"Select info.\",\"nouc3g\":\"\\\\ucd5c\\\\uc18c \\\\ud55c \\\\uac1c\\\\uc758 \\\\ub300\\\\uc0c1\\\\uc744 \\\\uccb4\\\\ud06c\\\\ud574 \\\\uc8fc\\\\uc138\\\\uc694.\",\"nspswh\":\"Close search area\",\"nwzi21\":\"Tuesday\",\"o4twp6\":\"Hour\",\"o5urf5\":\"Belong\",\"opoow5\":\"Edit\",\"os7rml\":\"Thu\",\"outp8n\":\"Phone\",\"p3uf60\":\"Year\",\"p6zl5o\":\"Fri\",\"pe23tk\":\"VAT \\\\ud3ec\\\\ud568\",\"pgm07y\":\"Missing items\",\"pn7cly\":\"No result match.\",\"poau7k\":\"Open search area\",\"pp8imj\":\"Enter info.\",\"q24aee\":\"Submit\",\"qbx9ai\":\"Close\",\"qzfuxn\":\"No file.\",\"r1n0au\":\"Day\",\"r8tejp\":\"VAT \\\\ud3ec\\\\ud568\",\"rmb2si\":\"Minute\",\"rzfbz8\":\"Date of birth\",\"rzhzww\":\"Sunday\",\"s65unn\":\"Email\",\"sr02hx\":\"Required value was missing.\",\"tfyorq\":\"Search\",\"tjsno6\":\"Error in access.\",\"tnjkmc\":\"Male\",\"tx60e2\":\"Error occurred during registration.\",\"u8hsag\":\"\\\\ud30c\\\\uc77c\\\\uc6a9\\\\ub7c9\\\\uc744 {{#1}} \\\\uc774\\\\ud558\\\\ub85c \\\\uc62c\\\\ub824 \\\\uc8fc\\\\uc138\\\\uc694.\",\"uaxey3\":\"No registered content.\",\"uhky3h\":\"Unassigned\",\"uk0fzw\":\"back\",\"v4q66y\":\"Second category\",\"wbvcvq\":\"Friday\",\"wllms4\":\"Enter content.\",\"xfgwk2\":\"Saturday\",\"xguo8o\":\"ALL\",\"xmdo72\":\"All items\",\"xqgjk5\":\"persons\",\"y4v5wf\":\"Print\",\"y5s48q\":\"Enter title.\",\"yimyjm\":\"Open search area\",\"yoqx1q\":\"Will you proceed with the input details?\",\"zg6hjz\":\"Female\",\"zjzhqx\":\"View all\",\"cn67cj\":\"Help desk : Ollysite\",\"d9lgxp\":\"Auth Code for {{#1}}\",\"qjo6om\":\"Target file info is not correct.\",\"yjd1eq\":\"Source file info is not correct.\",\"8ivbvw\":\"Group community\",\"17zljf\":\"The serial number is missing.\",\"26a1u0\":\"Will you proceed with the input details?\",\"4n2cnq\":\"Random code\",\"86tbqg\":\"Registration\",\"8tm9ow\":\"{{#1}} has expired.\",\"8vepfz\":\"Please enter {{#1}} info.\",\"ahhgjg\":\"Reception date\",\"b5e7ys\":\"Status\",\"b672x6\":\"{{#1}} \\\\uae30\\\\uac04\\\\uc774 \\\\uc544\\\\ub2d9\\\\ub2c8\\\\ub2e4.\",\"b78af1\":\"[[#xx#]] Your inquiry has been registered.\",\"c9eanq\":\"Unfold contents\",\"el8yuv\":\"{{#1}} \\\\uc911 \\\\ucd5c\\\\uc18c \\\\ud558\\\\ub098\\\\uc774\\\\uc0c1 \\\\uc120\\\\ud0dd\\\\ud574 \\\\uc8fc\\\\uc138\\\\uc694.\",\"h7ab0k\":\"\\\\uc120\\\\ud0dd\",\"i93jsn\":\"An error occurred during the deletion.\",\"inn9p9\":\"Thank you.\",\"j8iy9i\":\"Category\",\"lpkltp\":\"The personnel have been met. And {{#1}} has closed.\",\"m1jfit\":\"Select a second category.\",\"obacu3\":\"The input content has been registered.\",\"q4zn70\":\"Select your country.\",\"qq0l17\":\"The period has been met. And {{#1}} has cloesed.\",\"rt16bv\":\"\\\\ud544\\\\uc218\",\"rys1vl\":\"Select a first category.\",\"st8tal\":\"\\\\ub85c\\\\uadf8\\\\uc778 \\\\ud6c4 \\\\uc774\\\\uc6a9 \\\\uac00\\\\ub2a5 \\\\ud569\\\\ub2c8\\\\ub2e4.\",\"tb6sqg\":\"An error occurred during cancellation.\",\"tuhet7\":\"The page will be refreshed.\",\"ub3x5s\":\"Please read and agree to the terms below\",\"xs59nr\":\"Agree\",\"lok8sk\":\"\\\\uc815\\\\ub9d0\\\\ub85c \\\\ub85c\\\\uadf8\\\\uc544\\\\uc6c3\\\\ud558\\\\uc2dc\\\\uaca0\\\\uc2b5\\\\ub2c8\\\\uae4c?\",\"2lz13u\":\"Profile\",\"d1ecfz\":\"Login\",\"fbo0gr\":\"Shopping Cart\",\"h3y42e\":\"Logout\",\"qp6dah\":\"Purchase details\",\"rmy2er\":\"My Page\",\"sf3vxr\":\"Sign up\",\"uu6gag\":\"\\\\ub85c\\\\uadf8\\\\uc544\\\\uc6c3\\\\ud558\\\\uc2dc\\\\uaca0\\\\uc2b5\\\\ub2c8\\\\uae4c?\",\"wlu1ju\":\"Find your ID\\\\/Password\",\"jhdy00\":\"Greetings\",\"9kdzvm\":\"Please enter a text\",\"sck0bl\":\"To confirm your request, please check the box to let us know you\\\\u2019re human.\",\"t7nu2x\":\"Refresh\",\"zan1l7\":\"Please enter the following characters before registering.\",\"qls3jq\":\"\\\\ubbf8\\\\ub9ac\\\\ubcf4\\\\uae30\"}\\n'])],\n",
       "      dtype=object)"
      ]
     },
     "execution_count": 71,
     "metadata": {},
     "output_type": "execute_result"
    }
   ],
   "source": [
    "model2.train[i:i+1].text.values"
   ]
  },
  {
   "cell_type": "code",
   "execution_count": null,
   "metadata": {},
   "outputs": [],
   "source": []
  },
  {
   "cell_type": "code",
   "execution_count": null,
   "metadata": {},
   "outputs": [],
   "source": []
  },
  {
   "cell_type": "code",
   "execution_count": null,
   "metadata": {},
   "outputs": [],
   "source": []
  },
  {
   "cell_type": "code",
   "execution_count": null,
   "metadata": {},
   "outputs": [],
   "source": []
  },
  {
   "cell_type": "code",
   "execution_count": null,
   "metadata": {},
   "outputs": [],
   "source": [
    "re"
   ]
  },
  {
   "cell_type": "code",
   "execution_count": null,
   "metadata": {},
   "outputs": [],
   "source": []
  },
  {
   "cell_type": "code",
   "execution_count": null,
   "metadata": {},
   "outputs": [],
   "source": []
  },
  {
   "cell_type": "code",
   "execution_count": null,
   "metadata": {},
   "outputs": [],
   "source": []
  },
  {
   "cell_type": "code",
   "execution_count": null,
   "metadata": {},
   "outputs": [],
   "source": []
  },
  {
   "cell_type": "code",
   "execution_count": null,
   "metadata": {},
   "outputs": [],
   "source": []
  },
  {
   "cell_type": "code",
   "execution_count": null,
   "metadata": {},
   "outputs": [],
   "source": []
  },
  {
   "cell_type": "code",
   "execution_count": null,
   "metadata": {},
   "outputs": [],
   "source": []
  },
  {
   "cell_type": "code",
   "execution_count": 8,
   "metadata": {},
   "outputs": [
    {
     "name": "stderr",
     "output_type": "stream",
     "text": [
      "[INFO] The trainset is processed.\n",
      "INFO:__name__:[INFO] The trainset is processed.\n"
     ]
    },
    {
     "name": "stdout",
     "output_type": "stream",
     "text": [
      "___2\n",
      "       af_0     af_1      af_2      af_3      af_4      af_5     af_6  \\\n",
      "0 -0.322088 -0.23039 -0.269446  0.101492  0.105791  0.835378 -0.34964   \n",
      "\n",
      "       af_7      af_8      af_9  ...  tt2_758   tt2_759   tt2_760   tt2_761  \\\n",
      "0  0.986265 -0.939073 -0.086459  ...  0.27206  0.162704 -0.464612 -0.895258   \n",
      "\n",
      "    tt2_762  tt2_763   tt2_764   tt2_765   tt2_766   tt2_767  \n",
      "0 -0.055396 -0.02417 -0.212774  0.999093  0.734578 -0.362694  \n",
      "\n",
      "[1 rows x 4608 columns]\n"
     ]
    },
    {
     "name": "stderr",
     "output_type": "stream",
     "text": [
      "[INFO] The trainset is processed.\n",
      "INFO:__name__:[INFO] The trainset is processed.\n"
     ]
    },
    {
     "name": "stdout",
     "output_type": "stream",
     "text": [
      "2\n",
      "___2\n",
      "      af_0      af_1     af_2      af_3      af_4     af_5      af_6     af_7  \\\n",
      "0 -0.80188 -0.471264  0.29164  0.056734 -0.022282  0.49518 -0.435364  1.11605   \n",
      "\n",
      "       af_8      af_9  ...   tt2_758   tt2_759   tt2_760  tt2_761   tt2_762  \\\n",
      "0 -0.647637  0.374846  ... -0.338011  0.335448 -0.380994 -0.90176  0.181573   \n",
      "\n",
      "    tt2_763   tt2_764   tt2_765   tt2_766   tt2_767  \n",
      "0 -0.503546 -0.441609  0.615822  0.639227  0.287405  \n",
      "\n",
      "[1 rows x 4608 columns]\n"
     ]
    },
    {
     "name": "stderr",
     "output_type": "stream",
     "text": [
      "[INFO] The trainset is processed.\n",
      "INFO:__name__:[INFO] The trainset is processed.\n"
     ]
    },
    {
     "name": "stdout",
     "output_type": "stream",
     "text": [
      "2\n",
      "___1\n",
      "       af_0      af_1      af_2      af_3      af_4      af_5      af_6  \\\n",
      "0 -0.526551  0.238893 -0.335948  0.034782  0.228709  0.749223 -0.358663   \n",
      "\n",
      "       af_7      af_8      af_9  ...   tt2_758   tt2_759   tt2_760   tt2_761  \\\n",
      "0  0.667715 -1.030526 -0.512698  ... -0.282156  0.132705 -0.167159 -1.099543   \n",
      "\n",
      "    tt2_762   tt2_763   tt2_764   tt2_765   tt2_766   tt2_767  \n",
      "0 -0.040413 -0.689705 -0.269942  0.537733  0.963743 -0.052109  \n",
      "\n",
      "[1 rows x 4608 columns]\n"
     ]
    },
    {
     "name": "stderr",
     "output_type": "stream",
     "text": [
      "[INFO] The trainset is processed.\n",
      "INFO:__name__:[INFO] The trainset is processed.\n"
     ]
    },
    {
     "name": "stdout",
     "output_type": "stream",
     "text": [
      "1\n",
      "___2\n",
      "       af_0      af_1      af_2      af_3      af_4      af_5      af_6  \\\n",
      "0 -0.223541 -0.630417  0.357977  0.172611  0.354403  0.857011 -0.389875   \n",
      "\n",
      "       af_7      af_8      af_9  ...   tt2_758   tt2_759   tt2_760   tt2_761  \\\n",
      "0  1.043173 -0.822355 -0.589322  ...  0.104603 -0.429064 -0.279296 -1.236543   \n",
      "\n",
      "    tt2_762   tt2_763   tt2_764   tt2_765   tt2_766   tt2_767  \n",
      "0 -0.188663 -0.123087 -0.511202  0.831825  0.525294 -0.429184  \n",
      "\n",
      "[1 rows x 4608 columns]\n"
     ]
    },
    {
     "name": "stderr",
     "output_type": "stream",
     "text": [
      "[INFO] The trainset is processed.\n",
      "INFO:__name__:[INFO] The trainset is processed.\n"
     ]
    },
    {
     "name": "stdout",
     "output_type": "stream",
     "text": [
      "2\n",
      "___1\n",
      "       af_0      af_1      af_2     af_3     af_4      af_5      af_6  \\\n",
      "0 -0.292164 -0.539331  0.325359  0.22439  0.08516  1.032894 -0.282365   \n",
      "\n",
      "      af_7      af_8      af_9  ...   tt2_758   tt2_759   tt2_760  tt2_761  \\\n",
      "0  1.53425 -0.591585 -0.086884  ... -0.256274  0.256619 -0.026105 -0.90736   \n",
      "\n",
      "   tt2_762   tt2_763   tt2_764   tt2_765   tt2_766   tt2_767  \n",
      "0  0.23041 -0.667034 -0.163377  0.242698  0.812669  0.210497  \n",
      "\n",
      "[1 rows x 4608 columns]\n"
     ]
    },
    {
     "name": "stderr",
     "output_type": "stream",
     "text": [
      "[INFO] The trainset is processed.\n",
      "INFO:__name__:[INFO] The trainset is processed.\n"
     ]
    },
    {
     "name": "stdout",
     "output_type": "stream",
     "text": [
      "1\n",
      "___2\n",
      "       af_0      af_1      af_2      af_3      af_4      af_5      af_6  \\\n",
      "0  0.530054 -0.417119  0.668561  0.599021  0.524344  0.280873  0.130874   \n",
      "\n",
      "       af_7     af_8     af_9  ...   tt2_758   tt2_759   tt2_760   tt2_761  \\\n",
      "0  1.212371 -0.48873  0.19721  ... -0.117833 -0.156592 -0.384714 -1.013977   \n",
      "\n",
      "   tt2_762   tt2_763   tt2_764  tt2_765   tt2_766   tt2_767  \n",
      "0 -0.15197 -0.215872 -0.357097  0.80153  0.830858 -0.075646  \n",
      "\n",
      "[1 rows x 4608 columns]\n"
     ]
    },
    {
     "name": "stderr",
     "output_type": "stream",
     "text": [
      "[INFO] The trainset is processed.\n",
      "INFO:__name__:[INFO] The trainset is processed.\n"
     ]
    },
    {
     "name": "stdout",
     "output_type": "stream",
     "text": [
      "2\n",
      "___1\n",
      "       af_0      af_1      af_2      af_3      af_4      af_5      af_6  \\\n",
      "0 -0.073815 -0.562613  0.157317  0.363826  0.096957  0.956536 -0.565793   \n",
      "\n",
      "       af_7      af_8      af_9  ...   tt2_758   tt2_759   tt2_760   tt2_761  \\\n",
      "0  1.393713 -0.632239  0.172441  ... -0.295665  0.259311 -0.156433 -0.863331   \n",
      "\n",
      "    tt2_762  tt2_763   tt2_764  tt2_765   tt2_766   tt2_767  \n",
      "0  0.120663 -0.76884 -0.210326   0.7185  0.975257  0.369504  \n",
      "\n",
      "[1 rows x 4608 columns]\n"
     ]
    },
    {
     "name": "stderr",
     "output_type": "stream",
     "text": [
      "[INFO] The trainset is processed.\n",
      "INFO:__name__:[INFO] The trainset is processed.\n"
     ]
    },
    {
     "name": "stdout",
     "output_type": "stream",
     "text": [
      "1\n",
      "___1\n",
      "       af_0      af_1      af_2      af_3      af_4      af_5      af_6  \\\n",
      "0 -0.631447 -0.176347  0.420483  0.062012 -0.202533  0.860059 -0.281848   \n",
      "\n",
      "       af_7     af_8     af_9  ...   tt2_758   tt2_759   tt2_760   tt2_761  \\\n",
      "0  0.823354 -0.40971  0.07964  ...  0.033332  0.402034 -0.466794 -0.713062   \n",
      "\n",
      "    tt2_762   tt2_763   tt2_764   tt2_765   tt2_766   tt2_767  \n",
      "0  0.309394 -0.528284 -0.252344  0.559592  1.117145  0.208785  \n",
      "\n",
      "[1 rows x 4608 columns]\n"
     ]
    },
    {
     "name": "stderr",
     "output_type": "stream",
     "text": [
      "[INFO] The trainset is processed.\n",
      "INFO:__name__:[INFO] The trainset is processed.\n"
     ]
    },
    {
     "name": "stdout",
     "output_type": "stream",
     "text": [
      "1\n",
      "___0\n",
      "       af_0      af_1      af_2      af_3      af_4     af_5      af_6  \\\n",
      "0 -0.220709 -0.487999  0.190064  0.012411 -0.124674  0.95836 -0.275173   \n",
      "\n",
      "       af_7      af_8      af_9  ...   tt2_758   tt2_759   tt2_760   tt2_761  \\\n",
      "0  1.460627 -0.687284  0.231628  ... -0.237762  0.659352  0.026738 -0.369345   \n",
      "\n",
      "    tt2_762   tt2_763   tt2_764   tt2_765  tt2_766   tt2_767  \n",
      "0  0.391191 -0.478694 -0.239246  0.468164  1.00683  0.521894  \n",
      "\n",
      "[1 rows x 4608 columns]\n"
     ]
    },
    {
     "name": "stderr",
     "output_type": "stream",
     "text": [
      "[INFO] The trainset is processed.\n",
      "INFO:__name__:[INFO] The trainset is processed.\n"
     ]
    },
    {
     "name": "stdout",
     "output_type": "stream",
     "text": [
      "1\n",
      "___1\n",
      "       af_0      af_1      af_2      af_3      af_4      af_5      af_6  \\\n",
      "0 -0.337789 -0.501337 -0.096325  0.092543 -0.061336  0.927862 -0.105355   \n",
      "\n",
      "       af_7      af_8      af_9  ...   tt2_758   tt2_759   tt2_760   tt2_761  \\\n",
      "0  1.280323 -1.029416  0.152256  ... -0.258466  0.211348 -0.474058 -0.944682   \n",
      "\n",
      "    tt2_762  tt2_763   tt2_764   tt2_765   tt2_766   tt2_767  \n",
      "0  0.255683 -0.41231 -0.115119  0.499331  0.944777  0.078511  \n",
      "\n",
      "[1 rows x 4608 columns]\n"
     ]
    },
    {
     "name": "stderr",
     "output_type": "stream",
     "text": [
      "[INFO] The trainset is processed.\n",
      "INFO:__name__:[INFO] The trainset is processed.\n"
     ]
    },
    {
     "name": "stdout",
     "output_type": "stream",
     "text": [
      "1\n",
      "___1\n",
      "       af_0      af_1      af_2      af_3     af_4      af_5      af_6  \\\n",
      "0  0.343732 -0.191922  1.588983  0.257774  0.41055  0.783468 -0.206343   \n",
      "\n",
      "      af_7      af_8      af_9  ...   tt2_758   tt2_759   tt2_760   tt2_761  \\\n",
      "0  1.35906  0.138833  0.029062  ... -0.254497  0.386191 -0.424446 -1.148556   \n",
      "\n",
      "    tt2_762   tt2_763   tt2_764  tt2_765   tt2_766   tt2_767  \n",
      "0  0.188286 -0.667355  0.112236  0.36548  0.562941  0.008308  \n",
      "\n",
      "[1 rows x 4608 columns]\n"
     ]
    },
    {
     "name": "stderr",
     "output_type": "stream",
     "text": [
      "[INFO] The trainset is processed.\n",
      "INFO:__name__:[INFO] The trainset is processed.\n"
     ]
    },
    {
     "name": "stdout",
     "output_type": "stream",
     "text": [
      "1\n",
      "___2\n",
      "      af_0      af_1      af_2      af_3      af_4      af_5      af_6  \\\n",
      "0 -0.27767 -0.668967  0.284411  0.186326  0.046897  0.964109 -0.145524   \n",
      "\n",
      "       af_7      af_8      af_9  ...   tt2_758   tt2_759   tt2_760   tt2_761  \\\n",
      "0  1.599679 -0.662551 -0.013149  ... -0.402243  0.355437 -0.318406 -0.935768   \n",
      "\n",
      "    tt2_762   tt2_763  tt2_764   tt2_765   tt2_766   tt2_767  \n",
      "0  0.276564 -0.859686 -0.14791  0.314916  1.083148  0.197969  \n",
      "\n",
      "[1 rows x 4608 columns]\n"
     ]
    },
    {
     "name": "stderr",
     "output_type": "stream",
     "text": [
      "[INFO] The trainset is processed.\n",
      "INFO:__name__:[INFO] The trainset is processed.\n"
     ]
    },
    {
     "name": "stdout",
     "output_type": "stream",
     "text": [
      "2\n",
      "___1\n",
      "       af_0      af_1      af_2      af_3      af_4     af_5      af_6  \\\n",
      "0 -0.515424 -0.169313  0.515107  0.206748 -0.143342  0.80291 -0.123903   \n",
      "\n",
      "       af_7      af_8      af_9  ...  tt2_758   tt2_759   tt2_760   tt2_761  \\\n",
      "0  0.959019 -0.473621  0.256675  ... -0.07418  0.575035 -0.400325 -0.918848   \n",
      "\n",
      "   tt2_762   tt2_763   tt2_764   tt2_765   tt2_766   tt2_767  \n",
      "0  0.36334 -0.935859 -0.214601  0.121726  0.956604  0.099262  \n",
      "\n",
      "[1 rows x 4608 columns]\n"
     ]
    },
    {
     "name": "stderr",
     "output_type": "stream",
     "text": [
      "[INFO] The trainset is processed.\n",
      "INFO:__name__:[INFO] The trainset is processed.\n"
     ]
    },
    {
     "name": "stdout",
     "output_type": "stream",
     "text": [
      "1\n",
      "___1\n",
      "       af_0      af_1     af_2    af_3      af_4      af_5      af_6  \\\n",
      "0 -0.262486 -0.401916 -0.32503  0.2453 -0.015763  0.897165 -0.040095   \n",
      "\n",
      "       af_7      af_8     af_9  ...   tt2_758   tt2_759   tt2_760   tt2_761  \\\n",
      "0  1.167892 -0.936943  0.14724  ...  0.220042 -0.509723 -0.193277 -1.380252   \n",
      "\n",
      "    tt2_762  tt2_763   tt2_764   tt2_765   tt2_766   tt2_767  \n",
      "0 -0.272889 -0.18332 -0.612104  0.485698  0.310101 -0.403719  \n",
      "\n",
      "[1 rows x 4608 columns]\n"
     ]
    },
    {
     "name": "stderr",
     "output_type": "stream",
     "text": [
      "[INFO] The trainset is processed.\n",
      "INFO:__name__:[INFO] The trainset is processed.\n"
     ]
    },
    {
     "name": "stdout",
     "output_type": "stream",
     "text": [
      "1\n",
      "___1\n",
      "       af_0      af_1      af_2      af_3      af_4      af_5      af_6  \\\n",
      "0 -0.526551  0.238893 -0.335948  0.034782  0.228709  0.749223 -0.358663   \n",
      "\n",
      "       af_7      af_8      af_9  ...   tt2_758  tt2_759   tt2_760   tt2_761  \\\n",
      "0  0.667715 -1.030526 -0.512698  ... -0.350759  0.24647 -0.157825 -0.500253   \n",
      "\n",
      "    tt2_762  tt2_763   tt2_764   tt2_765   tt2_766   tt2_767  \n",
      "0  0.408738 -0.49561 -0.490704  0.447324  0.636933  0.165969  \n",
      "\n",
      "[1 rows x 4608 columns]\n"
     ]
    },
    {
     "name": "stderr",
     "output_type": "stream",
     "text": [
      "[INFO] The trainset is processed.\n",
      "INFO:__name__:[INFO] The trainset is processed.\n"
     ]
    },
    {
     "name": "stdout",
     "output_type": "stream",
     "text": [
      "1\n",
      "___1\n",
      "       af_0      af_1      af_2      af_3      af_4      af_5      af_6  \\\n",
      "0 -0.234192 -0.711808  0.320679  0.213461  0.071876  0.915478 -0.162898   \n",
      "\n",
      "       af_7      af_8      af_9  ...   tt2_758   tt2_759  tt2_760   tt2_761  \\\n",
      "0  1.616378 -0.649458 -0.091868  ... -0.389402  0.020073 -0.07255 -0.492945   \n",
      "\n",
      "    tt2_762   tt2_763   tt2_764   tt2_765   tt2_766   tt2_767  \n",
      "0  0.035581 -0.342469  0.045519  0.612149  1.000794  0.066554  \n",
      "\n",
      "[1 rows x 4608 columns]\n"
     ]
    },
    {
     "name": "stderr",
     "output_type": "stream",
     "text": [
      "[INFO] The trainset is processed.\n",
      "INFO:__name__:[INFO] The trainset is processed.\n"
     ]
    },
    {
     "name": "stdout",
     "output_type": "stream",
     "text": [
      "1\n",
      "___1\n",
      "       af_0      af_1      af_2      af_3      af_4      af_5      af_6  \\\n",
      "0 -0.453327 -0.014236 -0.323152  0.068928  0.178542  0.771703 -0.448241   \n",
      "\n",
      "       af_7      af_8      af_9  ...   tt2_758   tt2_759   tt2_760   tt2_761  \\\n",
      "0  0.778475 -1.046808 -0.225989  ... -0.282156  0.132705 -0.167159 -1.099543   \n",
      "\n",
      "    tt2_762   tt2_763   tt2_764   tt2_765   tt2_766   tt2_767  \n",
      "0 -0.040413 -0.689705 -0.269942  0.537733  0.963743 -0.052109  \n",
      "\n",
      "[1 rows x 4608 columns]\n"
     ]
    },
    {
     "name": "stderr",
     "output_type": "stream",
     "text": [
      "[INFO] The trainset is processed.\n",
      "INFO:__name__:[INFO] The trainset is processed.\n"
     ]
    },
    {
     "name": "stdout",
     "output_type": "stream",
     "text": [
      "1\n",
      "___1\n",
      "       af_0      af_1      af_2      af_3      af_4      af_5      af_6  \\\n",
      "0 -0.453327 -0.014236 -0.323152  0.068928  0.178542  0.771703 -0.448241   \n",
      "\n",
      "       af_7      af_8      af_9  ...   tt2_758   tt2_759   tt2_760   tt2_761  \\\n",
      "0  0.778475 -1.046808 -0.225989  ... -0.089276  0.317662 -0.468912 -0.901383   \n",
      "\n",
      "    tt2_762   tt2_763   tt2_764   tt2_765   tt2_766   tt2_767  \n",
      "0  0.304258 -0.540615 -0.204309  0.205291  0.787754  0.247212  \n",
      "\n",
      "[1 rows x 4608 columns]\n"
     ]
    },
    {
     "name": "stderr",
     "output_type": "stream",
     "text": [
      "[INFO] The trainset is processed.\n",
      "INFO:__name__:[INFO] The trainset is processed.\n"
     ]
    },
    {
     "name": "stdout",
     "output_type": "stream",
     "text": [
      "1\n",
      "___2\n",
      "       af_0      af_1      af_2      af_3      af_4      af_5      af_6  \\\n",
      "0 -0.248677 -0.243983  0.412618 -0.027593 -0.049219  1.028263  0.030648   \n",
      "\n",
      "      af_7      af_8      af_9  ...  tt2_758   tt2_759   tt2_760   tt2_761  \\\n",
      "0  1.60918 -0.589984  0.369094  ... -0.22308  0.305129 -0.326175 -1.023418   \n",
      "\n",
      "    tt2_762   tt2_763   tt2_764   tt2_765   tt2_766   tt2_767  \n",
      "0 -0.062807 -0.718844 -0.321364  0.462877  0.723114 -0.004485  \n",
      "\n",
      "[1 rows x 4608 columns]\n"
     ]
    },
    {
     "name": "stderr",
     "output_type": "stream",
     "text": [
      "[INFO] The trainset is processed.\n",
      "INFO:__name__:[INFO] The trainset is processed.\n"
     ]
    },
    {
     "name": "stdout",
     "output_type": "stream",
     "text": [
      "2\n",
      "___1\n",
      "       af_0      af_1      af_2     af_3      af_4      af_5      af_6  \\\n",
      "0 -0.757995 -0.252068  0.180651 -0.01153 -0.145389  0.508444 -0.120586   \n",
      "\n",
      "       af_7      af_8      af_9  ...   tt2_758   tt2_759   tt2_760   tt2_761  \\\n",
      "0  1.058404 -0.331643  0.415128  ... -0.216395  0.526954 -0.360945 -0.844133   \n",
      "\n",
      "    tt2_762   tt2_763   tt2_764   tt2_765   tt2_766   tt2_767  \n",
      "0  0.375534 -0.637976 -0.234282  0.326132  0.874719  0.447977  \n",
      "\n",
      "[1 rows x 4608 columns]\n"
     ]
    },
    {
     "name": "stderr",
     "output_type": "stream",
     "text": [
      "[INFO] The trainset is processed.\n",
      "INFO:__name__:[INFO] The trainset is processed.\n"
     ]
    },
    {
     "name": "stdout",
     "output_type": "stream",
     "text": [
      "1\n",
      "___1\n",
      "      af_0      af_1      af_2      af_3      af_4     af_5      af_6  \\\n",
      "0 -0.23603 -0.291985  0.519349  0.059922 -0.128874  0.94501 -0.094101   \n",
      "\n",
      "       af_7      af_8      af_9  ...   tt2_758   tt2_759   tt2_760   tt2_761  \\\n",
      "0  1.608622 -0.586324  0.378272  ... -0.306182  0.377438 -0.281057 -0.791481   \n",
      "\n",
      "    tt2_762   tt2_763   tt2_764   tt2_765   tt2_766   tt2_767  \n",
      "0  0.223363 -0.680696 -0.051586  0.243953  0.859497  0.213602  \n",
      "\n",
      "[1 rows x 4608 columns]\n"
     ]
    },
    {
     "name": "stderr",
     "output_type": "stream",
     "text": [
      "[INFO] The trainset is processed.\n",
      "INFO:__name__:[INFO] The trainset is processed.\n"
     ]
    },
    {
     "name": "stdout",
     "output_type": "stream",
     "text": [
      "1\n",
      "___1\n",
      "       af_0      af_1      af_2      af_3      af_4      af_5      af_6  \\\n",
      "0  0.374359 -0.210287  0.651405  0.143175  0.326048  1.342109 -0.559064   \n",
      "\n",
      "       af_7     af_8      af_9  ...   tt2_758   tt2_759   tt2_760   tt2_761  \\\n",
      "0  0.103259 -0.25327 -0.532458  ... -0.146476  0.028683 -0.267453 -0.933374   \n",
      "\n",
      "    tt2_762   tt2_763  tt2_764   tt2_765   tt2_766   tt2_767  \n",
      "0  0.225707 -0.502843 -0.36707  0.952585  0.697186  0.078648  \n",
      "\n",
      "[1 rows x 4608 columns]\n"
     ]
    },
    {
     "name": "stderr",
     "output_type": "stream",
     "text": [
      "[INFO] The trainset is processed.\n",
      "INFO:__name__:[INFO] The trainset is processed.\n"
     ]
    },
    {
     "name": "stdout",
     "output_type": "stream",
     "text": [
      "1\n",
      "___2\n",
      "       af_0      af_1      af_2      af_3     af_4      af_5      af_6  \\\n",
      "0 -0.262132 -0.480209  0.199206  0.151048 -0.19347  1.061643 -0.358953   \n",
      "\n",
      "       af_7      af_8     af_9  ...   tt2_758   tt2_759   tt2_760   tt2_761  \\\n",
      "0  1.609934 -0.650294  0.20769  ...  0.411154 -0.093815 -0.440501 -0.806583   \n",
      "\n",
      "    tt2_762   tt2_763   tt2_764  tt2_765   tt2_766   tt2_767  \n",
      "0 -0.041171  0.204141 -0.395104  0.97169  0.711588 -0.086269  \n",
      "\n",
      "[1 rows x 4608 columns]\n"
     ]
    },
    {
     "name": "stderr",
     "output_type": "stream",
     "text": [
      "[INFO] The trainset is processed.\n",
      "INFO:__name__:[INFO] The trainset is processed.\n"
     ]
    },
    {
     "name": "stdout",
     "output_type": "stream",
     "text": [
      "2\n",
      "___1\n",
      "      af_0      af_1      af_2      af_3      af_4      af_5      af_6  \\\n",
      "0 -0.27767 -0.668967  0.284411  0.186326  0.046897  0.964109 -0.145524   \n",
      "\n",
      "       af_7      af_8      af_9  ...   tt2_758  tt2_759   tt2_760   tt2_761  \\\n",
      "0  1.599679 -0.662551 -0.013149  ... -0.168732   0.0008 -0.524006 -0.919144   \n",
      "\n",
      "    tt2_762   tt2_763   tt2_764  tt2_765   tt2_766   tt2_767  \n",
      "0  0.221638 -0.641377 -0.083732  0.39946  1.001987  0.336352  \n",
      "\n",
      "[1 rows x 4608 columns]\n"
     ]
    },
    {
     "name": "stderr",
     "output_type": "stream",
     "text": [
      "[INFO] The trainset is processed.\n",
      "INFO:__name__:[INFO] The trainset is processed.\n"
     ]
    },
    {
     "name": "stdout",
     "output_type": "stream",
     "text": [
      "1\n",
      "___1\n",
      "       af_0      af_1      af_2      af_3      af_4      af_5      af_6  \\\n",
      "0 -0.403496 -0.484141  0.424266  0.162746 -0.157653  0.899321 -0.265584   \n",
      "\n",
      "       af_7      af_8      af_9  ...   tt2_758   tt2_759   tt2_760   tt2_761  \\\n",
      "0  0.799934 -0.220884  0.272931  ... -0.320108  0.230969 -0.278963 -0.889521   \n",
      "\n",
      "    tt2_762   tt2_763   tt2_764   tt2_765   tt2_766   tt2_767  \n",
      "0  0.104642 -0.534232 -0.221612  0.468307  0.875838  0.050647  \n",
      "\n",
      "[1 rows x 4608 columns]\n"
     ]
    },
    {
     "name": "stderr",
     "output_type": "stream",
     "text": [
      "[INFO] The trainset is processed.\n",
      "INFO:__name__:[INFO] The trainset is processed.\n"
     ]
    },
    {
     "name": "stdout",
     "output_type": "stream",
     "text": [
      "1\n",
      "___1\n",
      "       af_0     af_1      af_2      af_3      af_4      af_5     af_6  \\\n",
      "0 -0.422137 -0.11629 -0.268628 -0.019145  0.113691  0.774511 -0.50004   \n",
      "\n",
      "       af_7      af_8      af_9  ...  tt2_758   tt2_759   tt2_760   tt2_761  \\\n",
      "0  0.799161 -1.014141 -0.240144  ... -0.11374  0.470801 -0.419957 -0.683179   \n",
      "\n",
      "    tt2_762  tt2_763   tt2_764   tt2_765   tt2_766   tt2_767  \n",
      "0  0.386264 -0.58534 -0.274499  0.492815  0.778551  0.369373  \n",
      "\n",
      "[1 rows x 4608 columns]\n"
     ]
    },
    {
     "name": "stderr",
     "output_type": "stream",
     "text": [
      "[INFO] The trainset is processed.\n",
      "INFO:__name__:[INFO] The trainset is processed.\n"
     ]
    },
    {
     "name": "stdout",
     "output_type": "stream",
     "text": [
      "1\n",
      "___1\n",
      "       af_0      af_1      af_2      af_3      af_4      af_5      af_6  \\\n",
      "0 -0.506303 -0.513278  0.641338  0.053461 -0.145632  0.560655 -0.165469   \n",
      "\n",
      "       af_7      af_8      af_9  ...   tt2_758   tt2_759   tt2_760   tt2_761  \\\n",
      "0  0.593763 -0.168254  0.547139  ... -0.233165  0.354576 -0.359021 -0.975646   \n",
      "\n",
      "    tt2_762   tt2_763   tt2_764   tt2_765   tt2_766   tt2_767  \n",
      "0  0.163254 -0.695425 -0.099524  0.254607  1.016062  0.148199  \n",
      "\n",
      "[1 rows x 4608 columns]\n"
     ]
    },
    {
     "name": "stderr",
     "output_type": "stream",
     "text": [
      "[INFO] The trainset is processed.\n",
      "INFO:__name__:[INFO] The trainset is processed.\n"
     ]
    },
    {
     "name": "stdout",
     "output_type": "stream",
     "text": [
      "1\n",
      "___1\n",
      "       af_0      af_1      af_2     af_3     af_4      af_5      af_6  \\\n",
      "0 -0.292164 -0.539331  0.325359  0.22439  0.08516  1.032894 -0.282365   \n",
      "\n",
      "      af_7      af_8      af_9  ...   tt2_758   tt2_759   tt2_760   tt2_761  \\\n",
      "0  1.53425 -0.591585 -0.086884  ... -0.511483  0.207946 -0.382593 -0.731469   \n",
      "\n",
      "    tt2_762   tt2_763   tt2_764   tt2_765   tt2_766   tt2_767  \n",
      "0  0.209414 -0.803999  0.043585  0.518794  0.868789  0.046177  \n",
      "\n",
      "[1 rows x 4608 columns]\n"
     ]
    },
    {
     "name": "stderr",
     "output_type": "stream",
     "text": [
      "[INFO] The trainset is processed.\n",
      "INFO:__name__:[INFO] The trainset is processed.\n"
     ]
    },
    {
     "name": "stdout",
     "output_type": "stream",
     "text": [
      "1\n",
      "___1\n",
      "       af_0      af_1      af_2      af_3      af_4      af_5      af_6  \\\n",
      "0 -0.341002 -0.638452  0.005723  0.011491 -0.162981  0.901584 -0.170267   \n",
      "\n",
      "      af_7      af_8      af_9  ...   tt2_758   tt2_759   tt2_760   tt2_761  \\\n",
      "0  1.38787 -0.868491  0.292082  ...  0.004571 -0.065775 -0.265364 -1.145948   \n",
      "\n",
      "    tt2_762   tt2_763   tt2_764   tt2_765   tt2_766   tt2_767  \n",
      "0 -0.204313 -0.385893 -0.372279  0.924882  0.695721 -0.241251  \n",
      "\n",
      "[1 rows x 4608 columns]\n"
     ]
    },
    {
     "name": "stderr",
     "output_type": "stream",
     "text": [
      "[INFO] The trainset is processed.\n",
      "INFO:__name__:[INFO] The trainset is processed.\n"
     ]
    },
    {
     "name": "stdout",
     "output_type": "stream",
     "text": [
      "1\n",
      "___1\n",
      "       af_0      af_1      af_2      af_3      af_4     af_5      af_6  \\\n",
      "0 -0.520388 -0.630357  0.368902  0.355725 -0.032199  0.91954 -0.650437   \n",
      "\n",
      "       af_7     af_8      af_9  ...   tt2_758   tt2_759  tt2_760   tt2_761  \\\n",
      "0  1.179212 -0.97028  0.109999  ... -0.271723  0.311467  0.37525  0.112076   \n",
      "\n",
      "    tt2_762   tt2_763  tt2_764   tt2_765   tt2_766   tt2_767  \n",
      "0  0.249814 -0.587575 -0.00721  0.996398  0.968319 -0.015856  \n",
      "\n",
      "[1 rows x 4608 columns]\n"
     ]
    },
    {
     "name": "stderr",
     "output_type": "stream",
     "text": [
      "[INFO] The trainset is processed.\n",
      "INFO:__name__:[INFO] The trainset is processed.\n"
     ]
    },
    {
     "name": "stdout",
     "output_type": "stream",
     "text": [
      "1\n",
      "___1\n",
      "       af_0      af_1    af_2      af_3     af_4      af_5     af_6    af_7  \\\n",
      "0 -0.790956 -0.818327  0.5168  0.399981 -0.10136  0.291265 -0.25325  1.5686   \n",
      "\n",
      "     af_8      af_9  ...   tt2_758   tt2_759   tt2_760   tt2_761   tt2_762  \\\n",
      "0 -0.7203 -0.004728  ... -0.165324  0.259009 -0.196177 -0.590274  0.224481   \n",
      "\n",
      "    tt2_763  tt2_764   tt2_765   tt2_766   tt2_767  \n",
      "0 -0.563161 -0.19302  0.548884  1.032739  0.111326  \n",
      "\n",
      "[1 rows x 4608 columns]\n"
     ]
    },
    {
     "name": "stderr",
     "output_type": "stream",
     "text": [
      "[INFO] The trainset is processed.\n",
      "INFO:__name__:[INFO] The trainset is processed.\n"
     ]
    },
    {
     "name": "stdout",
     "output_type": "stream",
     "text": [
      "1\n",
      "___2\n",
      "       af_0      af_1      af_2      af_3     af_4      af_5      af_6  \\\n",
      "0 -0.262132 -0.480209  0.199206  0.151048 -0.19347  1.061643 -0.358953   \n",
      "\n",
      "       af_7      af_8     af_9  ...   tt2_758   tt2_759   tt2_760   tt2_761  \\\n",
      "0  1.609934 -0.650294  0.20769  ...  0.189512 -0.300203 -0.272326 -0.748851   \n",
      "\n",
      "    tt2_762   tt2_763   tt2_764   tt2_765   tt2_766   tt2_767  \n",
      "0 -0.897577  0.560203 -0.360074  1.464916  0.468405 -0.194172  \n",
      "\n",
      "[1 rows x 4608 columns]\n"
     ]
    },
    {
     "name": "stderr",
     "output_type": "stream",
     "text": [
      "[INFO] The trainset is processed.\n",
      "INFO:__name__:[INFO] The trainset is processed.\n"
     ]
    },
    {
     "name": "stdout",
     "output_type": "stream",
     "text": [
      "2\n",
      "___1\n",
      "       af_0      af_1     af_2    af_3      af_4      af_5      af_6  \\\n",
      "0 -0.262486 -0.401916 -0.32503  0.2453 -0.015763  0.897165 -0.040095   \n",
      "\n",
      "       af_7      af_8     af_9  ...   tt2_758   tt2_759   tt2_760  tt2_761  \\\n",
      "0  1.167892 -0.936943  0.14724  ... -0.091867  0.226601 -0.464177 -1.21871   \n",
      "\n",
      "   tt2_762   tt2_763   tt2_764   tt2_765   tt2_766   tt2_767  \n",
      "0  0.27882 -0.607408 -0.441363  0.233107  0.544746  0.107171  \n",
      "\n",
      "[1 rows x 4608 columns]\n"
     ]
    },
    {
     "name": "stderr",
     "output_type": "stream",
     "text": [
      "[INFO] The trainset is processed.\n",
      "INFO:__name__:[INFO] The trainset is processed.\n"
     ]
    },
    {
     "name": "stdout",
     "output_type": "stream",
     "text": [
      "1\n",
      "___1\n",
      "       af_0      af_1      af_2      af_3      af_4      af_5      af_6  \\\n",
      "0 -0.223883 -0.232296  0.463497 -0.049627 -0.021806  1.004748  0.060705   \n",
      "\n",
      "       af_7      af_8     af_9  ...   tt2_758   tt2_759   tt2_760   tt2_761  \\\n",
      "0  1.669223 -0.621322  0.35921  ... -0.090078  0.546998 -0.556865 -0.904398   \n",
      "\n",
      "    tt2_762   tt2_763   tt2_764   tt2_765   tt2_766   tt2_767  \n",
      "0  0.420113 -0.866433 -0.087486 -0.076034  0.675853  0.061891  \n",
      "\n",
      "[1 rows x 4608 columns]\n"
     ]
    },
    {
     "name": "stderr",
     "output_type": "stream",
     "text": [
      "[INFO] The trainset is processed.\n",
      "INFO:__name__:[INFO] The trainset is processed.\n"
     ]
    },
    {
     "name": "stdout",
     "output_type": "stream",
     "text": [
      "1\n",
      "___1\n",
      "       af_0     af_1      af_2      af_3      af_4      af_5      af_6  \\\n",
      "0 -0.342538 -0.56475  0.507252  0.238382  0.158412  0.555661 -0.321925   \n",
      "\n",
      "       af_7      af_8      af_9  ...   tt2_758   tt2_759   tt2_760   tt2_761  \\\n",
      "0  1.358809 -0.682627  0.285509  ... -0.234916  0.486648 -0.430317 -0.694215   \n",
      "\n",
      "    tt2_762   tt2_763   tt2_764   tt2_765   tt2_766   tt2_767  \n",
      "0  0.333038 -0.669096 -0.117305  0.345436  0.900044  0.291372  \n",
      "\n",
      "[1 rows x 4608 columns]\n"
     ]
    },
    {
     "name": "stderr",
     "output_type": "stream",
     "text": [
      "[INFO] The trainset is processed.\n",
      "INFO:__name__:[INFO] The trainset is processed.\n"
     ]
    },
    {
     "name": "stdout",
     "output_type": "stream",
     "text": [
      "1\n",
      "___1\n",
      "       af_0      af_1      af_2      af_3      af_4     af_5      af_6  \\\n",
      "0 -0.220709 -0.487999  0.190064  0.012411 -0.124674  0.95836 -0.275173   \n",
      "\n",
      "       af_7      af_8      af_9  ...   tt2_758   tt2_759   tt2_760  tt2_761  \\\n",
      "0  1.460627 -0.687284  0.231628  ... -0.016317  0.328704 -0.436825 -1.09668   \n",
      "\n",
      "    tt2_762   tt2_763   tt2_764   tt2_765   tt2_766   tt2_767  \n",
      "0  0.119769 -0.677881 -0.328978  0.430926  0.907403  0.154678  \n",
      "\n",
      "[1 rows x 4608 columns]\n"
     ]
    },
    {
     "name": "stderr",
     "output_type": "stream",
     "text": [
      "[INFO] The trainset is processed.\n",
      "INFO:__name__:[INFO] The trainset is processed.\n"
     ]
    },
    {
     "name": "stdout",
     "output_type": "stream",
     "text": [
      "1\n",
      "___1\n",
      "       af_0      af_1      af_2      af_3      af_4      af_5      af_6  \\\n",
      "0 -0.135029 -0.671381  0.376678  0.375348  0.292619  0.589606 -0.311157   \n",
      "\n",
      "       af_7      af_8      af_9  ...   tt2_758   tt2_759   tt2_760   tt2_761  \\\n",
      "0  1.691194 -0.711361 -0.001868  ...  0.004501  0.097921 -0.603797 -0.823968   \n",
      "\n",
      "    tt2_762  tt2_763   tt2_764   tt2_765   tt2_766   tt2_767  \n",
      "0 -0.318774  0.01423 -0.448621  1.180957  0.485235 -0.320911  \n",
      "\n",
      "[1 rows x 4608 columns]\n"
     ]
    },
    {
     "name": "stderr",
     "output_type": "stream",
     "text": [
      "[INFO] The trainset is processed.\n",
      "INFO:__name__:[INFO] The trainset is processed.\n"
     ]
    },
    {
     "name": "stdout",
     "output_type": "stream",
     "text": [
      "1\n",
      "___1\n",
      "       af_0      af_1     af_2      af_3      af_4      af_5      af_6  \\\n",
      "0 -0.827224 -0.515616  0.24444  0.101376 -0.233474  0.407617 -0.478615   \n",
      "\n",
      "       af_7     af_8      af_9  ...   tt2_758   tt2_759   tt2_760   tt2_761  \\\n",
      "0  1.225059 -0.71907  0.483969  ... -0.161046  0.412235 -0.532911 -0.767921   \n",
      "\n",
      "    tt2_762   tt2_763  tt2_764   tt2_765   tt2_766   tt2_767  \n",
      "0  0.270157 -0.505314  -0.2025  0.293635  0.858744  0.373524  \n",
      "\n",
      "[1 rows x 4608 columns]\n"
     ]
    },
    {
     "name": "stderr",
     "output_type": "stream",
     "text": [
      "[INFO] The trainset is processed.\n",
      "INFO:__name__:[INFO] The trainset is processed.\n"
     ]
    },
    {
     "name": "stdout",
     "output_type": "stream",
     "text": [
      "1\n",
      "___2\n",
      "       af_0      af_1      af_2      af_3     af_4      af_5      af_6  \\\n",
      "0 -0.508151 -0.524227  0.075547 -0.096627 -0.08058  0.805852 -0.568929   \n",
      "\n",
      "       af_7    af_8      af_9  ...   tt2_758   tt2_759   tt2_760   tt2_761  \\\n",
      "0  1.212059 -0.8795  0.262943  ...  0.256922 -0.168914 -0.124785 -0.925934   \n",
      "\n",
      "    tt2_762   tt2_763   tt2_764   tt2_765   tt2_766   tt2_767  \n",
      "0 -0.472496  0.414169 -0.615797  1.106626  0.331836 -0.481858  \n",
      "\n",
      "[1 rows x 4608 columns]\n"
     ]
    },
    {
     "name": "stderr",
     "output_type": "stream",
     "text": [
      "[INFO] The trainset is processed.\n",
      "INFO:__name__:[INFO] The trainset is processed.\n"
     ]
    },
    {
     "name": "stdout",
     "output_type": "stream",
     "text": [
      "2\n",
      "___2\n",
      "       af_0      af_1      af_2      af_3      af_4      af_5      af_6  \\\n",
      "0  0.374359 -0.210287  0.651405  0.143175  0.326048  1.342109 -0.559064   \n",
      "\n",
      "       af_7     af_8      af_9  ...   tt2_758   tt2_759   tt2_760   tt2_761  \\\n",
      "0  0.103259 -0.25327 -0.532458  ... -0.201998  0.442928 -0.314622 -1.023745   \n",
      "\n",
      "    tt2_762   tt2_763   tt2_764   tt2_765   tt2_766   tt2_767  \n",
      "0  0.350416 -0.801634 -0.111155  0.318618  0.787924  0.116196  \n",
      "\n",
      "[1 rows x 4608 columns]\n"
     ]
    },
    {
     "name": "stderr",
     "output_type": "stream",
     "text": [
      "[INFO] The trainset is processed.\n",
      "INFO:__name__:[INFO] The trainset is processed.\n"
     ]
    },
    {
     "name": "stdout",
     "output_type": "stream",
     "text": [
      "2\n",
      "___0\n"
     ]
    },
    {
     "name": "stderr",
     "output_type": "stream",
     "text": [
      "[INFO] The trainset is processed.\n",
      "INFO:__name__:[INFO] The trainset is processed.\n"
     ]
    },
    {
     "name": "stdout",
     "output_type": "stream",
     "text": [
      "       af_0      af_1     af_2      af_3      af_4      af_5     af_6  \\\n",
      "0 -0.397783 -0.178484  0.32539 -0.027427 -0.197778  1.050314 -0.03654   \n",
      "\n",
      "       af_7      af_8      af_9  ...   tt2_758   tt2_759   tt2_760   tt2_761  \\\n",
      "0  1.266377 -0.406514  0.207133  ... -0.013216  0.492138 -0.338438 -0.911737   \n",
      "\n",
      "    tt2_762   tt2_763   tt2_764   tt2_765   tt2_766   tt2_767  \n",
      "0  0.272418 -0.707945 -0.198837  0.178248  0.778891  0.285078  \n",
      "\n",
      "[1 rows x 4608 columns]\n",
      "0\n",
      "___0\n"
     ]
    },
    {
     "name": "stderr",
     "output_type": "stream",
     "text": [
      "[INFO] The trainset is processed.\n",
      "INFO:__name__:[INFO] The trainset is processed.\n"
     ]
    },
    {
     "name": "stdout",
     "output_type": "stream",
     "text": [
      "       af_0      af_1      af_2     af_3      af_4      af_5      af_6  \\\n",
      "0 -0.269008 -0.630988  0.404444  0.26537 -0.052984  1.079418 -0.140361   \n",
      "\n",
      "       af_7      af_8      af_9  ...   tt2_758   tt2_759   tt2_760   tt2_761  \\\n",
      "0  1.574194 -0.666206  0.211633  ... -0.124873  0.171474 -0.168099 -0.760573   \n",
      "\n",
      "    tt2_762   tt2_763   tt2_764   tt2_765   tt2_766   tt2_767  \n",
      "0  0.298569 -0.533779 -0.245901  0.697275  0.772534  0.161191  \n",
      "\n",
      "[1 rows x 4608 columns]\n",
      "0\n",
      "___1\n",
      "       af_0      af_1      af_2      af_3      af_4      af_5      af_6  \\\n",
      "0 -0.453327 -0.014236 -0.323152  0.068928  0.178542  0.771703 -0.448241   \n",
      "\n",
      "       af_7      af_8      af_9  ...  tt2_758   tt2_759  tt2_760   tt2_761  \\\n",
      "0  0.778475 -1.046808 -0.225989  ...  0.04035  0.290441 -0.12678 -0.653842   \n",
      "\n",
      "    tt2_762   tt2_763   tt2_764  tt2_765  tt2_766  tt2_767  \n",
      "0  0.522556 -0.381236 -0.342974  0.31699  0.61804  0.38164  \n",
      "\n",
      "[1 rows x 4608 columns]\n"
     ]
    },
    {
     "name": "stderr",
     "output_type": "stream",
     "text": [
      "[INFO] The trainset is processed.\n",
      "INFO:__name__:[INFO] The trainset is processed.\n"
     ]
    },
    {
     "name": "stdout",
     "output_type": "stream",
     "text": [
      "1\n",
      "___1\n",
      "       af_0      af_1      af_2      af_3     af_4      af_5      af_6  \\\n",
      "0 -0.262132 -0.480209  0.199206  0.151048 -0.19347  1.061643 -0.358953   \n",
      "\n",
      "       af_7      af_8     af_9  ...   tt2_758   tt2_759   tt2_760   tt2_761  \\\n",
      "0  1.609934 -0.650294  0.20769  ...  0.020654 -0.344389 -0.320402 -0.743387   \n",
      "\n",
      "    tt2_762   tt2_763   tt2_764   tt2_765   tt2_766   tt2_767  \n",
      "0 -0.434523 -0.417889 -0.369467  1.139195  0.901473 -0.115355  \n",
      "\n",
      "[1 rows x 4608 columns]\n"
     ]
    },
    {
     "name": "stderr",
     "output_type": "stream",
     "text": [
      "[INFO] The trainset is processed.\n",
      "INFO:__name__:[INFO] The trainset is processed.\n"
     ]
    },
    {
     "name": "stdout",
     "output_type": "stream",
     "text": [
      "1\n",
      "___1\n",
      "       af_0      af_1      af_2     af_3      af_4      af_5     af_6  \\\n",
      "0 -0.424101 -0.840544  0.176359 -0.02623 -0.123321  1.046075 -0.45475   \n",
      "\n",
      "       af_7      af_8      af_9  ...   tt2_758   tt2_759   tt2_760   tt2_761  \\\n",
      "0  1.363421 -0.714758  0.188363  ...  0.111553 -0.030108 -0.176813 -0.889256   \n",
      "\n",
      "   tt2_762   tt2_763   tt2_764   tt2_765   tt2_766   tt2_767  \n",
      "0  0.39044 -0.280196 -0.420557  0.664572  0.936146 -0.134707  \n",
      "\n",
      "[1 rows x 4608 columns]\n"
     ]
    },
    {
     "name": "stderr",
     "output_type": "stream",
     "text": [
      "[INFO] The trainset is processed.\n",
      "INFO:__name__:[INFO] The trainset is processed.\n"
     ]
    },
    {
     "name": "stdout",
     "output_type": "stream",
     "text": [
      "1\n",
      "___2\n",
      "       af_0      af_1      af_2      af_3      af_4      af_5      af_6  \\\n",
      "0 -0.258871 -0.209133 -0.182164  0.000353  0.064179  0.669421 -0.558112   \n",
      "\n",
      "       af_7      af_8      af_9  ...   tt2_758  tt2_759   tt2_760   tt2_761  \\\n",
      "0  0.618592 -0.716407 -0.039984  ...  0.041348 -0.40821  0.105212 -0.825788   \n",
      "\n",
      "    tt2_762   tt2_763   tt2_764   tt2_765   tt2_766   tt2_767  \n",
      "0 -0.253899 -0.010582 -0.420402  0.818526  0.620037 -0.705882  \n",
      "\n",
      "[1 rows x 4608 columns]\n"
     ]
    },
    {
     "name": "stderr",
     "output_type": "stream",
     "text": [
      "[INFO] The trainset is processed.\n",
      "INFO:__name__:[INFO] The trainset is processed.\n"
     ]
    },
    {
     "name": "stdout",
     "output_type": "stream",
     "text": [
      "2\n",
      "___2\n",
      "       af_0      af_1      af_2      af_3      af_4      af_5      af_6  \\\n",
      "0 -0.590906 -0.249528 -0.047778  0.031795 -0.074788  0.700981 -0.539752   \n",
      "\n",
      "       af_7      af_8      af_9  ...   tt2_758   tt2_759   tt2_760   tt2_761  \\\n",
      "0  0.999109 -0.645748  0.254877  ...  0.365699 -0.417839 -0.414736 -0.957941   \n",
      "\n",
      "    tt2_762   tt2_763   tt2_764   tt2_765   tt2_766   tt2_767  \n",
      "0 -0.207085  0.023363 -0.530779  0.822722  0.514617 -0.497877  \n",
      "\n",
      "[1 rows x 4608 columns]\n"
     ]
    },
    {
     "name": "stderr",
     "output_type": "stream",
     "text": [
      "[INFO] The trainset is processed.\n",
      "INFO:__name__:[INFO] The trainset is processed.\n"
     ]
    },
    {
     "name": "stdout",
     "output_type": "stream",
     "text": [
      "2\n",
      "___1\n",
      "       af_0     af_1      af_2      af_3      af_4      af_5     af_6  \\\n",
      "0 -0.422137 -0.11629 -0.268628 -0.019145  0.113691  0.774511 -0.50004   \n",
      "\n",
      "       af_7      af_8      af_9  ...   tt2_758  tt2_759   tt2_760   tt2_761  \\\n",
      "0  0.799161 -1.014141 -0.240144  ... -0.087042  0.30119 -0.491899 -0.607838   \n",
      "\n",
      "    tt2_762   tt2_763   tt2_764   tt2_765   tt2_766  tt2_767  \n",
      "0  0.459264 -0.390169 -0.161562  0.484219  0.839464  0.25829  \n",
      "\n",
      "[1 rows x 4608 columns]\n"
     ]
    },
    {
     "name": "stderr",
     "output_type": "stream",
     "text": [
      "[INFO] The trainset is processed.\n",
      "INFO:__name__:[INFO] The trainset is processed.\n"
     ]
    },
    {
     "name": "stdout",
     "output_type": "stream",
     "text": [
      "1\n",
      "___2\n",
      "       af_0      af_1      af_2      af_3     af_4      af_5      af_6  \\\n",
      "0 -0.695723 -0.499265  0.248956  0.072469 -0.11844  0.634732 -0.486055   \n",
      "\n",
      "      af_7      af_8      af_9  ...   tt2_758   tt2_759   tt2_760   tt2_761  \\\n",
      "0  1.19214 -0.718248  0.383215  ...  0.362877  0.295732 -0.719853 -0.674479   \n",
      "\n",
      "    tt2_762   tt2_763   tt2_764   tt2_765   tt2_766   tt2_767  \n",
      "0 -1.490596  0.539737  0.290676  1.261615 -0.744543  0.063934  \n",
      "\n",
      "[1 rows x 4608 columns]\n"
     ]
    },
    {
     "name": "stderr",
     "output_type": "stream",
     "text": [
      "[INFO] The trainset is processed.\n",
      "INFO:__name__:[INFO] The trainset is processed.\n"
     ]
    },
    {
     "name": "stdout",
     "output_type": "stream",
     "text": [
      "2\n",
      "___2\n",
      "       af_0      af_1      af_2      af_3      af_4      af_5      af_6  \\\n",
      "0 -0.526551  0.238893 -0.335948  0.034782  0.228709  0.749223 -0.358663   \n",
      "\n",
      "       af_7      af_8      af_9  ...   tt2_758   tt2_759   tt2_760   tt2_761  \\\n",
      "0  0.667715 -1.030526 -0.512698  ...  0.220042 -0.509723 -0.193277 -1.380252   \n",
      "\n",
      "    tt2_762  tt2_763   tt2_764   tt2_765   tt2_766   tt2_767  \n",
      "0 -0.272889 -0.18332 -0.612104  0.485698  0.310101 -0.403719  \n",
      "\n",
      "[1 rows x 4608 columns]\n"
     ]
    },
    {
     "name": "stderr",
     "output_type": "stream",
     "text": [
      "[INFO] The trainset is processed.\n",
      "INFO:__name__:[INFO] The trainset is processed.\n"
     ]
    },
    {
     "name": "stdout",
     "output_type": "stream",
     "text": [
      "2\n",
      "___1\n",
      "       af_0      af_1     af_2    af_3      af_4      af_5      af_6  \\\n",
      "0 -0.262486 -0.401916 -0.32503  0.2453 -0.015763  0.897165 -0.040095   \n",
      "\n",
      "       af_7      af_8     af_9  ...   tt2_758   tt2_759   tt2_760   tt2_761  \\\n",
      "0  1.167892 -0.936943  0.14724  ... -0.115614  0.316623 -0.309453 -1.130856   \n",
      "\n",
      "    tt2_762  tt2_763   tt2_764   tt2_765   tt2_766   tt2_767  \n",
      "0  0.146239 -0.61765 -0.259861  0.386589  0.843908  0.094101  \n",
      "\n",
      "[1 rows x 4608 columns]\n"
     ]
    },
    {
     "name": "stderr",
     "output_type": "stream",
     "text": [
      "[INFO] The trainset is processed.\n",
      "INFO:__name__:[INFO] The trainset is processed.\n"
     ]
    },
    {
     "name": "stdout",
     "output_type": "stream",
     "text": [
      "1\n",
      "___1\n",
      "       af_0      af_1      af_2      af_3      af_4      af_5      af_6  \\\n",
      "0 -0.151856 -0.832512  0.307806  0.114265  0.395658  0.677992 -0.773703   \n",
      "\n",
      "       af_7      af_8      af_9  ...   tt2_758  tt2_759   tt2_760   tt2_761  \\\n",
      "0  1.230919 -0.353299 -0.213475  ... -0.075415   0.2679 -0.331399 -0.654281   \n",
      "\n",
      "    tt2_762   tt2_763   tt2_764   tt2_765   tt2_766   tt2_767  \n",
      "0  0.322641 -0.392179 -0.417732  0.452897  0.798663  0.069913  \n",
      "\n",
      "[1 rows x 4608 columns]\n"
     ]
    },
    {
     "name": "stderr",
     "output_type": "stream",
     "text": [
      "[INFO] The trainset is processed.\n",
      "INFO:__name__:[INFO] The trainset is processed.\n"
     ]
    },
    {
     "name": "stdout",
     "output_type": "stream",
     "text": [
      "1\n",
      "___1\n",
      "       af_0     af_1      af_2      af_3     af_4     af_5      af_6  \\\n",
      "0 -0.218772 -0.72296  0.336036  0.210119  0.05815  0.94108 -0.184374   \n",
      "\n",
      "       af_7      af_8      af_9  ...   tt2_758   tt2_759   tt2_760  tt2_761  \\\n",
      "0  1.679084 -0.629592 -0.063957  ... -0.274666 -0.090723 -0.231573 -0.48167   \n",
      "\n",
      "    tt2_762   tt2_763   tt2_764   tt2_765   tt2_766   tt2_767  \n",
      "0  0.231313 -0.635294 -0.201374  0.398694  0.713899  0.166432  \n",
      "\n",
      "[1 rows x 4608 columns]\n"
     ]
    },
    {
     "name": "stderr",
     "output_type": "stream",
     "text": [
      "[INFO] The trainset is processed.\n",
      "INFO:__name__:[INFO] The trainset is processed.\n"
     ]
    },
    {
     "name": "stdout",
     "output_type": "stream",
     "text": [
      "1\n",
      "___1\n",
      "       af_0      af_1      af_2      af_3      af_4      af_5      af_6  \\\n",
      "0 -0.392324 -0.839496  0.332307  0.050473 -0.075045  0.872697 -0.662445   \n",
      "\n",
      "       af_7     af_8      af_9  ...   tt2_758  tt2_759   tt2_760  tt2_761  \\\n",
      "0  1.319912 -0.62595  0.088762  ... -0.263757  0.16457 -0.141456 -0.94269   \n",
      "\n",
      "    tt2_762   tt2_763   tt2_764   tt2_765   tt2_766   tt2_767  \n",
      "0 -0.079166 -0.078319 -0.722928  1.085901  0.506131  0.254237  \n",
      "\n",
      "[1 rows x 4608 columns]\n"
     ]
    },
    {
     "name": "stderr",
     "output_type": "stream",
     "text": [
      "[INFO] The trainset is processed.\n",
      "INFO:__name__:[INFO] The trainset is processed.\n"
     ]
    },
    {
     "name": "stdout",
     "output_type": "stream",
     "text": [
      "1\n",
      "___1\n",
      "       af_0      af_1      af_2      af_3     af_4      af_5      af_6  \\\n",
      "0 -0.543131 -0.378295  0.470223  0.154443  0.13339  0.902821 -0.210411   \n",
      "\n",
      "       af_7     af_8      af_9  ...   tt2_758   tt2_759   tt2_760   tt2_761  \\\n",
      "0  1.198999 -0.74544  0.217549  ... -0.291519  0.217797 -0.198632 -1.287464   \n",
      "\n",
      "    tt2_762   tt2_763   tt2_764   tt2_765   tt2_766   tt2_767  \n",
      "0  0.075369 -0.552241 -0.271718  0.308317  0.820565  0.435748  \n",
      "\n",
      "[1 rows x 4608 columns]\n"
     ]
    },
    {
     "name": "stderr",
     "output_type": "stream",
     "text": [
      "[INFO] The trainset is processed.\n",
      "INFO:__name__:[INFO] The trainset is processed.\n"
     ]
    },
    {
     "name": "stdout",
     "output_type": "stream",
     "text": [
      "1\n",
      "___1\n",
      "       af_0      af_1      af_2     af_3     af_4      af_5      af_6  \\\n",
      "0 -0.292164 -0.539331  0.325359  0.22439  0.08516  1.032894 -0.282365   \n",
      "\n",
      "      af_7      af_8      af_9  ...   tt2_758  tt2_759   tt2_760   tt2_761  \\\n",
      "0  1.53425 -0.591585 -0.086884  ... -0.008747  0.10353 -0.280479 -1.103782   \n",
      "\n",
      "    tt2_762   tt2_763   tt2_764   tt2_765   tt2_766   tt2_767  \n",
      "0  0.154831 -0.539417 -0.285764  0.271552  0.806212 -0.154201  \n",
      "\n",
      "[1 rows x 4608 columns]\n"
     ]
    },
    {
     "name": "stderr",
     "output_type": "stream",
     "text": [
      "[INFO] The trainset is processed.\n",
      "INFO:__name__:[INFO] The trainset is processed.\n"
     ]
    },
    {
     "name": "stdout",
     "output_type": "stream",
     "text": [
      "1\n",
      "___1\n",
      "       af_0      af_1      af_2      af_3      af_4      af_5      af_6  \\\n",
      "0 -0.320788 -0.392464 -0.201703  0.065622  0.181864  0.816217 -0.501102   \n",
      "\n",
      "       af_7      af_8      af_9  ...   tt2_758   tt2_759   tt2_760   tt2_761  \\\n",
      "0  0.869639 -0.989635  0.082093  ... -0.089276  0.317662 -0.468912 -0.901383   \n",
      "\n",
      "    tt2_762   tt2_763   tt2_764   tt2_765   tt2_766   tt2_767  \n",
      "0  0.304258 -0.540615 -0.204309  0.205291  0.787754  0.247212  \n",
      "\n",
      "[1 rows x 4608 columns]\n"
     ]
    },
    {
     "name": "stderr",
     "output_type": "stream",
     "text": [
      "[INFO] The trainset is processed.\n",
      "INFO:__name__:[INFO] The trainset is processed.\n"
     ]
    },
    {
     "name": "stdout",
     "output_type": "stream",
     "text": [
      "1\n",
      "___1\n",
      "      af_0      af_1      af_2      af_3     af_4      af_5      af_6  \\\n",
      "0 -0.52024 -0.593934  0.531913  0.203602  0.18294  0.648556 -0.453776   \n",
      "\n",
      "      af_7      af_8     af_9  ...   tt2_758   tt2_759   tt2_760   tt2_761  \\\n",
      "0  1.24134 -0.824912  0.19783  ... -0.269603  0.417959 -0.546747 -0.907335   \n",
      "\n",
      "    tt2_762   tt2_763   tt2_764   tt2_765   tt2_766   tt2_767  \n",
      "0  0.208207 -0.688732 -0.319086  0.317064  0.872846  0.381972  \n",
      "\n",
      "[1 rows x 4608 columns]\n"
     ]
    },
    {
     "name": "stderr",
     "output_type": "stream",
     "text": [
      "[INFO] The trainset is processed.\n",
      "INFO:__name__:[INFO] The trainset is processed.\n"
     ]
    },
    {
     "name": "stdout",
     "output_type": "stream",
     "text": [
      "1\n",
      "___1\n",
      "       af_0      af_1      af_2     af_3      af_4      af_5      af_6  \\\n",
      "0 -0.757995 -0.252068  0.180651 -0.01153 -0.145389  0.508444 -0.120586   \n",
      "\n",
      "       af_7      af_8      af_9  ...   tt2_758   tt2_759   tt2_760   tt2_761  \\\n",
      "0  1.058404 -0.331643  0.415128  ... -0.203783  0.425796 -0.569838 -0.856359   \n",
      "\n",
      "    tt2_762   tt2_763   tt2_764   tt2_765   tt2_766   tt2_767  \n",
      "0  0.348134 -0.453984 -0.166016  0.490072  0.826653  0.403296  \n",
      "\n",
      "[1 rows x 4608 columns]\n"
     ]
    },
    {
     "name": "stderr",
     "output_type": "stream",
     "text": [
      "[INFO] The trainset is processed.\n",
      "INFO:__name__:[INFO] The trainset is processed.\n"
     ]
    },
    {
     "name": "stdout",
     "output_type": "stream",
     "text": [
      "1\n",
      "___1\n",
      "       af_0      af_1      af_2      af_3      af_4      af_5      af_6  \\\n",
      "0 -0.590906 -0.249528 -0.047778  0.031795 -0.074788  0.700981 -0.539752   \n",
      "\n",
      "       af_7      af_8      af_9  ...   tt2_758   tt2_759   tt2_760   tt2_761  \\\n",
      "0  0.999109 -0.645748  0.254877  ... -0.364882  0.617126 -0.181276 -1.434905   \n",
      "\n",
      "   tt2_762   tt2_763   tt2_764   tt2_765   tt2_766   tt2_767  \n",
      "0  0.16917 -0.774238 -0.279457  0.118019  0.382142  0.221977  \n",
      "\n",
      "[1 rows x 4608 columns]\n"
     ]
    },
    {
     "name": "stderr",
     "output_type": "stream",
     "text": [
      "[INFO] The trainset is processed.\n",
      "INFO:__name__:[INFO] The trainset is processed.\n"
     ]
    },
    {
     "name": "stdout",
     "output_type": "stream",
     "text": [
      "1\n",
      "___1\n",
      "       af_0      af_1      af_2      af_3     af_4      af_5      af_6  \\\n",
      "0 -0.241685 -0.716763  0.327646  0.219831  0.07688  0.936166 -0.148858   \n",
      "\n",
      "       af_7      af_8      af_9  ...  tt2_758   tt2_759   tt2_760   tt2_761  \\\n",
      "0  1.636346 -0.666438 -0.062431  ... -0.18097  0.234575 -0.201872 -0.659201   \n",
      "\n",
      "    tt2_762   tt2_763   tt2_764   tt2_765   tt2_766   tt2_767  \n",
      "0  0.331058 -0.690763 -0.175636  0.207466  0.974196  0.231264  \n",
      "\n",
      "[1 rows x 4608 columns]\n"
     ]
    },
    {
     "name": "stderr",
     "output_type": "stream",
     "text": [
      "[INFO] The trainset is processed.\n",
      "INFO:__name__:[INFO] The trainset is processed.\n"
     ]
    },
    {
     "name": "stdout",
     "output_type": "stream",
     "text": [
      "1\n",
      "___0\n"
     ]
    },
    {
     "name": "stderr",
     "output_type": "stream",
     "text": [
      "[INFO] The trainset is processed.\n",
      "INFO:__name__:[INFO] The trainset is processed.\n"
     ]
    },
    {
     "name": "stdout",
     "output_type": "stream",
     "text": [
      "      af_0      af_1      af_2      af_3      af_4     af_5      af_6  \\\n",
      "0 -0.23603 -0.291985  0.519349  0.059922 -0.128874  0.94501 -0.094101   \n",
      "\n",
      "       af_7      af_8      af_9  ...   tt2_758   tt2_759   tt2_760   tt2_761  \\\n",
      "0  1.608622 -0.586324  0.378272  ... -0.211073  0.441965 -0.438988 -1.021294   \n",
      "\n",
      "    tt2_762   tt2_763   tt2_764   tt2_765   tt2_766   tt2_767  \n",
      "0  0.130896 -0.565388 -0.355036  0.399063  0.796709  0.221717  \n",
      "\n",
      "[1 rows x 4608 columns]\n",
      "0\n",
      "___1\n",
      "       af_0      af_1      af_2      af_3      af_4      af_5      af_6  \\\n",
      "0 -0.761752 -0.530333  0.408841  0.159346 -0.118831  0.352432 -0.250697   \n",
      "\n",
      "       af_7      af_8      af_9  ...   tt2_758   tt2_759   tt2_760   tt2_761  \\\n",
      "0  1.257965 -0.753319  0.267559  ... -0.352874  0.362821 -0.173051 -0.684133   \n",
      "\n",
      "    tt2_762   tt2_763   tt2_764  tt2_765   tt2_766   tt2_767  \n",
      "0  0.029335 -0.539969 -0.142139  0.31801  0.796244  0.267547  \n",
      "\n",
      "[1 rows x 4608 columns]\n"
     ]
    },
    {
     "name": "stderr",
     "output_type": "stream",
     "text": [
      "[INFO] The trainset is processed.\n",
      "INFO:__name__:[INFO] The trainset is processed.\n"
     ]
    },
    {
     "name": "stdout",
     "output_type": "stream",
     "text": [
      "1\n",
      "___1\n",
      "       af_0      af_1     af_2    af_3      af_4      af_5      af_6  \\\n",
      "0 -0.262486 -0.401916 -0.32503  0.2453 -0.015763  0.897165 -0.040095   \n",
      "\n",
      "       af_7      af_8     af_9  ...   tt2_758   tt2_759   tt2_760   tt2_761  \\\n",
      "0  1.167892 -0.936943  0.14724  ... -0.328013  0.328327 -0.454331 -0.812232   \n",
      "\n",
      "    tt2_762   tt2_763   tt2_764   tt2_765   tt2_766   tt2_767  \n",
      "0  0.326037 -0.501544 -0.243227  0.460313  0.712058  0.267704  \n",
      "\n",
      "[1 rows x 4608 columns]\n"
     ]
    },
    {
     "name": "stderr",
     "output_type": "stream",
     "text": [
      "[INFO] The trainset is processed.\n",
      "INFO:__name__:[INFO] The trainset is processed.\n"
     ]
    },
    {
     "name": "stdout",
     "output_type": "stream",
     "text": [
      "1\n",
      "___1\n",
      "       af_0     af_1      af_2      af_3      af_4      af_5      af_6  \\\n",
      "0 -0.537807  0.17364 -0.350331  0.073085  0.195581  0.761777 -0.381888   \n",
      "\n",
      "       af_7      af_8      af_9  ...   tt2_758   tt2_759   tt2_760   tt2_761  \\\n",
      "0  0.712105 -1.027122 -0.485433  ... -0.363416  0.463453 -0.186811 -1.018654   \n",
      "\n",
      "    tt2_762   tt2_763  tt2_764   tt2_765   tt2_766  tt2_767  \n",
      "0  0.120498 -0.539576 -0.27071  0.775109  0.910216 -0.23932  \n",
      "\n",
      "[1 rows x 4608 columns]\n"
     ]
    },
    {
     "name": "stderr",
     "output_type": "stream",
     "text": [
      "[INFO] The trainset is processed.\n",
      "INFO:__name__:[INFO] The trainset is processed.\n"
     ]
    },
    {
     "name": "stdout",
     "output_type": "stream",
     "text": [
      "1\n",
      "___2\n",
      "       af_0      af_1      af_2      af_3     af_4      af_5      af_6  \\\n",
      "0 -0.577803  0.911979 -0.673797  0.018554  0.39751  0.715991 -0.138057   \n",
      "\n",
      "       af_7      af_8      af_9  ...   tt2_758   tt2_759   tt2_760   tt2_761  \\\n",
      "0 -0.126787 -0.720891 -1.415028  ...  0.376495 -0.558075 -0.329482 -1.262303   \n",
      "\n",
      "    tt2_762   tt2_763   tt2_764   tt2_765   tt2_766   tt2_767  \n",
      "0 -0.505283 -0.127813 -0.567849  0.869299  0.588963 -0.512099  \n",
      "\n",
      "[1 rows x 4608 columns]\n"
     ]
    },
    {
     "name": "stderr",
     "output_type": "stream",
     "text": [
      "[INFO] The trainset is processed.\n",
      "INFO:__name__:[INFO] The trainset is processed.\n"
     ]
    },
    {
     "name": "stdout",
     "output_type": "stream",
     "text": [
      "2\n",
      "___2\n",
      "       af_0      af_1      af_2      af_3      af_4      af_5      af_6  \\\n",
      "0 -0.470481  0.045753 -0.342459  0.049029  0.174967  0.744881 -0.429614   \n",
      "\n",
      "       af_7      af_8      af_9  ...   tt2_758   tt2_759   tt2_760   tt2_761  \\\n",
      "0  0.751075 -1.048563 -0.317648  ... -0.224564 -0.057211 -0.466827 -1.014031   \n",
      "\n",
      "    tt2_762  tt2_763   tt2_764   tt2_765  tt2_766   tt2_767  \n",
      "0  0.182167 -0.27016 -0.407815  0.622971  0.56185 -0.000205  \n",
      "\n",
      "[1 rows x 4608 columns]\n"
     ]
    },
    {
     "name": "stderr",
     "output_type": "stream",
     "text": [
      "[INFO] The trainset is processed.\n",
      "INFO:__name__:[INFO] The trainset is processed.\n"
     ]
    },
    {
     "name": "stdout",
     "output_type": "stream",
     "text": [
      "2\n",
      "___1\n",
      "       af_0      af_1      af_2      af_3     af_4     af_5      af_6  \\\n",
      "0 -0.434146 -0.471242  0.516631  0.235201  0.12361  0.84631 -0.171991   \n",
      "\n",
      "       af_7      af_8      af_9  ...   tt2_758   tt2_759   tt2_760   tt2_761  \\\n",
      "0  1.303659 -0.748581  0.172204  ... -0.269014  0.311131 -0.230913 -1.075011   \n",
      "\n",
      "    tt2_762   tt2_763   tt2_764   tt2_765   tt2_766   tt2_767  \n",
      "0  0.216991 -0.847143 -0.240577  0.376826  0.587128 -0.035636  \n",
      "\n",
      "[1 rows x 4608 columns]\n"
     ]
    },
    {
     "name": "stderr",
     "output_type": "stream",
     "text": [
      "[INFO] The trainset is processed.\n",
      "INFO:__name__:[INFO] The trainset is processed.\n"
     ]
    },
    {
     "name": "stdout",
     "output_type": "stream",
     "text": [
      "1\n",
      "___1\n",
      "       af_0      af_1      af_2      af_3      af_4      af_5      af_6  \\\n",
      "0 -0.526551  0.238893 -0.335948  0.034782  0.228709  0.749223 -0.358663   \n",
      "\n",
      "       af_7      af_8      af_9  ...   tt2_758   tt2_759   tt2_760   tt2_761  \\\n",
      "0  0.667715 -1.030526 -0.512698  ... -0.262185  0.095902  0.023102 -1.197336   \n",
      "\n",
      "    tt2_762  tt2_763   tt2_764   tt2_765   tt2_766   tt2_767  \n",
      "0 -0.020257 -0.35286 -0.279428  0.676486  0.740888  0.179778  \n",
      "\n",
      "[1 rows x 4608 columns]\n"
     ]
    },
    {
     "name": "stderr",
     "output_type": "stream",
     "text": [
      "[INFO] The trainset is processed.\n",
      "INFO:__name__:[INFO] The trainset is processed.\n"
     ]
    },
    {
     "name": "stdout",
     "output_type": "stream",
     "text": [
      "1\n",
      "___1\n",
      "       af_0      af_1      af_2      af_3      af_4      af_5      af_6  \\\n",
      "0 -0.236823 -0.256452  0.506143  0.040788 -0.135926  0.934097 -0.077554   \n",
      "\n",
      "       af_7     af_8      af_9  ...   tt2_758   tt2_759   tt2_760   tt2_761  \\\n",
      "0  1.633359 -0.56667  0.400788  ... -0.152813  0.383932 -0.334501 -1.024506   \n",
      "\n",
      "    tt2_762   tt2_763   tt2_764   tt2_765   tt2_766   tt2_767  \n",
      "0 -0.023809 -0.871621 -0.142009  0.319083  1.123893  0.007958  \n",
      "\n",
      "[1 rows x 4608 columns]\n"
     ]
    },
    {
     "name": "stderr",
     "output_type": "stream",
     "text": [
      "[INFO] The trainset is processed.\n",
      "INFO:__name__:[INFO] The trainset is processed.\n"
     ]
    },
    {
     "name": "stdout",
     "output_type": "stream",
     "text": [
      "1\n",
      "___2\n",
      "       af_0      af_1      af_2      af_3      af_4      af_5      af_6  \\\n",
      "0 -0.231071 -0.704254  0.328844  0.212505  0.096498  0.920988 -0.147069   \n",
      "\n",
      "       af_7      af_8     af_9  ...   tt2_758   tt2_759   tt2_760   tt2_761  \\\n",
      "0  1.626396 -0.654459 -0.06989  ... -0.033441 -0.117592 -0.287446 -0.919125   \n",
      "\n",
      "    tt2_762   tt2_763   tt2_764   tt2_765   tt2_766   tt2_767  \n",
      "0 -0.116649 -0.289382 -0.334791  0.899268  0.919871 -0.078494  \n",
      "\n",
      "[1 rows x 4608 columns]\n"
     ]
    },
    {
     "name": "stderr",
     "output_type": "stream",
     "text": [
      "[INFO] The trainset is processed.\n",
      "INFO:__name__:[INFO] The trainset is processed.\n"
     ]
    },
    {
     "name": "stdout",
     "output_type": "stream",
     "text": [
      "2\n",
      "___1\n",
      "       af_0      af_1      af_2      af_3      af_4      af_5      af_6  \\\n",
      "0 -0.506303 -0.513278  0.641338  0.053461 -0.145632  0.560655 -0.165469   \n",
      "\n",
      "       af_7      af_8      af_9  ...   tt2_758   tt2_759   tt2_760   tt2_761  \\\n",
      "0  0.593763 -0.168254  0.547139  ... -0.350143  0.404885 -0.201307 -0.859649   \n",
      "\n",
      "    tt2_762   tt2_763  tt2_764  tt2_765   tt2_766  tt2_767  \n",
      "0 -0.202034 -0.305388 -0.24901  0.98675  1.078253  0.16719  \n",
      "\n",
      "[1 rows x 4608 columns]\n"
     ]
    },
    {
     "name": "stderr",
     "output_type": "stream",
     "text": [
      "[INFO] The trainset is processed.\n",
      "INFO:__name__:[INFO] The trainset is processed.\n"
     ]
    },
    {
     "name": "stdout",
     "output_type": "stream",
     "text": [
      "1\n",
      "___1\n",
      "       af_0      af_1      af_2      af_3      af_4      af_5      af_6  \\\n",
      "0 -0.436823 -0.017181 -0.327425  0.083052  0.189993  0.756028 -0.417026   \n",
      "\n",
      "       af_7      af_8      af_9  ...   tt2_758  tt2_759   tt2_760   tt2_761  \\\n",
      "0  0.811659 -1.068918 -0.202713  ... -0.234069  0.33966 -0.309823 -0.932586   \n",
      "\n",
      "    tt2_762   tt2_763   tt2_764   tt2_765   tt2_766   tt2_767  \n",
      "0  0.095804 -0.549508 -0.247443  0.460546  0.721119  0.288172  \n",
      "\n",
      "[1 rows x 4608 columns]\n"
     ]
    },
    {
     "name": "stderr",
     "output_type": "stream",
     "text": [
      "[INFO] The trainset is processed.\n",
      "INFO:__name__:[INFO] The trainset is processed.\n"
     ]
    },
    {
     "name": "stdout",
     "output_type": "stream",
     "text": [
      "1\n",
      "___2\n",
      "       af_0      af_1      af_2      af_3      af_4      af_5      af_6  \\\n",
      "0 -0.470481  0.045753 -0.342459  0.049029  0.174967  0.744881 -0.429614   \n",
      "\n",
      "       af_7      af_8      af_9  ...   tt2_758   tt2_759   tt2_760   tt2_761  \\\n",
      "0  0.751075 -1.048563 -0.317648  ...  0.004696 -0.252495 -0.542961 -1.243763   \n",
      "\n",
      "    tt2_762   tt2_763   tt2_764   tt2_765   tt2_766   tt2_767  \n",
      "0 -0.054114 -0.507165 -0.246493  0.477878  0.481997 -0.185592  \n",
      "\n",
      "[1 rows x 4608 columns]\n"
     ]
    },
    {
     "name": "stderr",
     "output_type": "stream",
     "text": [
      "[INFO] The trainset is processed.\n",
      "INFO:__name__:[INFO] The trainset is processed.\n"
     ]
    },
    {
     "name": "stdout",
     "output_type": "stream",
     "text": [
      "2\n",
      "___1\n",
      "      af_0      af_1      af_2      af_3      af_4      af_5      af_6  \\\n",
      "0 -0.51356 -0.629759  0.333142  0.191349  0.294542  0.762097 -0.415722   \n",
      "\n",
      "       af_7     af_8     af_9  ...   tt2_758   tt2_759   tt2_760   tt2_761  \\\n",
      "0  1.267331 -1.04448  0.21165  ... -0.089111  0.682533 -0.019077 -0.753017   \n",
      "\n",
      "   tt2_762   tt2_763   tt2_764   tt2_765   tt2_766   tt2_767  \n",
      "0  0.16413 -0.822445 -0.575384  0.686258  0.799085  0.466679  \n",
      "\n",
      "[1 rows x 4608 columns]\n"
     ]
    },
    {
     "name": "stderr",
     "output_type": "stream",
     "text": [
      "[INFO] The trainset is processed.\n",
      "INFO:__name__:[INFO] The trainset is processed.\n"
     ]
    },
    {
     "name": "stdout",
     "output_type": "stream",
     "text": [
      "1\n",
      "___1\n",
      "       af_0      af_1      af_2      af_3     af_4      af_5      af_6  \\\n",
      "0 -0.696433 -0.243557  0.246899 -0.039669 -0.29339  0.675072 -0.217916   \n",
      "\n",
      "       af_7      af_8    af_9  ...   tt2_758   tt2_759   tt2_760   tt2_761  \\\n",
      "0  0.999259 -0.345159  0.2758  ... -0.186024  0.102287 -0.331569 -0.772351   \n",
      "\n",
      "    tt2_762   tt2_763   tt2_764   tt2_765   tt2_766   tt2_767  \n",
      "0 -0.011495 -0.464289 -0.031486  0.781769  0.941649  0.004185  \n",
      "\n",
      "[1 rows x 4608 columns]\n"
     ]
    },
    {
     "name": "stderr",
     "output_type": "stream",
     "text": [
      "[INFO] The trainset is processed.\n",
      "INFO:__name__:[INFO] The trainset is processed.\n"
     ]
    },
    {
     "name": "stdout",
     "output_type": "stream",
     "text": [
      "1\n",
      "___1\n",
      "       af_0      af_1      af_2      af_3      af_4      af_5      af_6  \\\n",
      "0 -0.453327 -0.014236 -0.323152  0.068928  0.178542  0.771703 -0.448241   \n",
      "\n",
      "       af_7      af_8      af_9  ...   tt2_758   tt2_759   tt2_760   tt2_761  \\\n",
      "0  0.778475 -1.046808 -0.225989  ... -0.107566 -0.023895 -0.490688 -1.114579   \n",
      "\n",
      "    tt2_762   tt2_763  tt2_764   tt2_765   tt2_766   tt2_767  \n",
      "0  0.118375 -0.711741 -0.49983  0.124497  0.398619 -0.039863  \n",
      "\n",
      "[1 rows x 4608 columns]\n"
     ]
    },
    {
     "name": "stderr",
     "output_type": "stream",
     "text": [
      "[INFO] The trainset is processed.\n",
      "INFO:__name__:[INFO] The trainset is processed.\n"
     ]
    },
    {
     "name": "stdout",
     "output_type": "stream",
     "text": [
      "1\n",
      "___0\n"
     ]
    },
    {
     "name": "stderr",
     "output_type": "stream",
     "text": [
      "[INFO] The trainset is processed.\n",
      "INFO:__name__:[INFO] The trainset is processed.\n"
     ]
    },
    {
     "name": "stdout",
     "output_type": "stream",
     "text": [
      "      af_0      af_1      af_2      af_3      af_4      af_5      af_6  \\\n",
      "0 -0.24444 -0.732295  0.301483  0.235069  0.069739  0.916748 -0.157332   \n",
      "\n",
      "       af_7      af_8      af_9  ...   tt2_758   tt2_759   tt2_760   tt2_761  \\\n",
      "0  1.630213 -0.670421 -0.047192  ... -0.351861  0.525386 -0.383508 -1.013187   \n",
      "\n",
      "    tt2_762   tt2_763   tt2_764   tt2_765   tt2_766   tt2_767  \n",
      "0  0.222381 -0.658283  0.085549  0.349454  0.968097  0.149112  \n",
      "\n",
      "[1 rows x 4608 columns]\n",
      "0\n",
      "___1\n",
      "     af_0      af_1      af_2      af_3      af_4      af_5     af_6  \\\n",
      "0 -0.2551 -0.596925 -0.225224  0.246161  0.113771  1.037287 -0.38556   \n",
      "\n",
      "       af_7      af_8      af_9  ...  tt2_758  tt2_759  tt2_760   tt2_761  \\\n",
      "0  1.129362 -0.866206  0.135081  ...  -0.0633   0.2522 -0.26233 -0.800278   \n",
      "\n",
      "    tt2_762  tt2_763   tt2_764   tt2_765   tt2_766   tt2_767  \n",
      "0  0.294034 -0.53666 -0.327438  0.577981  0.736419  0.147095  \n",
      "\n",
      "[1 rows x 4608 columns]\n"
     ]
    },
    {
     "name": "stderr",
     "output_type": "stream",
     "text": [
      "[INFO] The trainset is processed.\n",
      "INFO:__name__:[INFO] The trainset is processed.\n"
     ]
    },
    {
     "name": "stdout",
     "output_type": "stream",
     "text": [
      "1\n",
      "___1\n",
      "       af_0      af_1      af_2      af_3      af_4      af_5      af_6  \\\n",
      "0 -0.321058 -0.614836  0.303638  0.226767  0.095114  0.862442 -0.191163   \n",
      "\n",
      "       af_7      af_8      af_9  ...  tt2_758   tt2_759   tt2_760   tt2_761  \\\n",
      "0  1.599856 -0.755779  0.061062  ...  -0.2053  0.073531  0.018012 -0.912716   \n",
      "\n",
      "    tt2_762   tt2_763   tt2_764   tt2_765   tt2_766   tt2_767  \n",
      "0 -0.147443 -0.749464 -0.288738  0.929403  0.862873 -0.210186  \n",
      "\n",
      "[1 rows x 4608 columns]\n"
     ]
    },
    {
     "name": "stderr",
     "output_type": "stream",
     "text": [
      "[INFO] The trainset is processed.\n",
      "INFO:__name__:[INFO] The trainset is processed.\n"
     ]
    },
    {
     "name": "stdout",
     "output_type": "stream",
     "text": [
      "1\n",
      "___1\n",
      "       af_0      af_1      af_2      af_3      af_4     af_5      af_6  \\\n",
      "0 -0.220709 -0.487999  0.190064  0.012411 -0.124674  0.95836 -0.275173   \n",
      "\n",
      "       af_7      af_8      af_9  ...   tt2_758   tt2_759   tt2_760  tt2_761  \\\n",
      "0  1.460627 -0.687284  0.231628  ... -0.337751  0.201073 -0.211829 -0.96373   \n",
      "\n",
      "    tt2_762   tt2_763   tt2_764   tt2_765   tt2_766   tt2_767  \n",
      "0  0.295408 -0.503835 -0.302362  0.570304  0.956313  0.097331  \n",
      "\n",
      "[1 rows x 4608 columns]\n"
     ]
    },
    {
     "name": "stderr",
     "output_type": "stream",
     "text": [
      "[INFO] The trainset is processed.\n",
      "INFO:__name__:[INFO] The trainset is processed.\n"
     ]
    },
    {
     "name": "stdout",
     "output_type": "stream",
     "text": [
      "1\n",
      "___1\n",
      "       af_0      af_1      af_2      af_3     af_4      af_5      af_6  \\\n",
      "0 -0.577803  0.911979 -0.673797  0.018554  0.39751  0.715991 -0.138057   \n",
      "\n",
      "       af_7      af_8      af_9  ...   tt2_758   tt2_759   tt2_760   tt2_761  \\\n",
      "0 -0.126787 -0.720891 -1.415028  ... -0.053585  0.115611 -0.408544 -1.077406   \n",
      "\n",
      "    tt2_762   tt2_763  tt2_764   tt2_765   tt2_766   tt2_767  \n",
      "0  0.399535 -0.523279 -0.43294  0.551144  0.648265 -0.071266  \n",
      "\n",
      "[1 rows x 4608 columns]\n"
     ]
    },
    {
     "name": "stderr",
     "output_type": "stream",
     "text": [
      "[INFO] The trainset is processed.\n",
      "INFO:__name__:[INFO] The trainset is processed.\n"
     ]
    },
    {
     "name": "stdout",
     "output_type": "stream",
     "text": [
      "2\n",
      "___1\n",
      "       af_0      af_1      af_2      af_3     af_4      af_5      af_6  \\\n",
      "0 -0.333744 -0.145661  0.299116 -0.064189 -0.13719  1.078973  0.054807   \n",
      "\n",
      "       af_7      af_8     af_9  ...   tt2_758   tt2_759   tt2_760   tt2_761  \\\n",
      "0  1.447339 -0.380502  0.26531  ... -0.336516  0.359941 -0.401346 -0.772069   \n",
      "\n",
      "    tt2_762   tt2_763  tt2_764   tt2_765   tt2_766   tt2_767  \n",
      "0  0.310027 -0.532679  -0.0186  0.368923  0.964201  0.281346  \n",
      "\n",
      "[1 rows x 4608 columns]\n"
     ]
    },
    {
     "name": "stderr",
     "output_type": "stream",
     "text": [
      "[INFO] The trainset is processed.\n",
      "INFO:__name__:[INFO] The trainset is processed.\n"
     ]
    },
    {
     "name": "stdout",
     "output_type": "stream",
     "text": [
      "1\n",
      "___1\n",
      "       af_0      af_1      af_2     af_3      af_4      af_5      af_6  \\\n",
      "0 -0.350589 -0.447899  0.006645  0.14396 -0.063655  1.085939 -0.545953   \n",
      "\n",
      "       af_7      af_8      af_9  ...   tt2_758   tt2_759   tt2_760   tt2_761  \\\n",
      "0  0.944005 -0.494329  0.031067  ... -0.397663  0.507308 -0.356467 -0.939524   \n",
      "\n",
      "    tt2_762   tt2_763   tt2_764   tt2_765   tt2_766   tt2_767  \n",
      "0  0.312492 -0.653461 -0.223868  0.261283  0.663324  0.361788  \n",
      "\n",
      "[1 rows x 4608 columns]\n"
     ]
    },
    {
     "name": "stderr",
     "output_type": "stream",
     "text": [
      "[INFO] The trainset is processed.\n",
      "INFO:__name__:[INFO] The trainset is processed.\n"
     ]
    },
    {
     "name": "stdout",
     "output_type": "stream",
     "text": [
      "1\n",
      "___1\n",
      "       af_0      af_1      af_2      af_3      af_4      af_5      af_6  \\\n",
      "0 -0.526551  0.238893 -0.335948  0.034782  0.228709  0.749223 -0.358663   \n",
      "\n",
      "       af_7      af_8      af_9  ...   tt2_758   tt2_759   tt2_760  tt2_761  \\\n",
      "0  0.667715 -1.030526 -0.512698  ... -0.099083  0.603768 -0.389943 -1.00056   \n",
      "\n",
      "    tt2_762   tt2_763   tt2_764   tt2_765   tt2_766   tt2_767  \n",
      "0  0.349763 -0.808089 -0.363848  0.312352  0.733955  0.295541  \n",
      "\n",
      "[1 rows x 4608 columns]\n"
     ]
    },
    {
     "name": "stderr",
     "output_type": "stream",
     "text": [
      "[INFO] The trainset is processed.\n",
      "INFO:__name__:[INFO] The trainset is processed.\n"
     ]
    },
    {
     "name": "stdout",
     "output_type": "stream",
     "text": [
      "1\n",
      "___1\n",
      "       af_0      af_1      af_2      af_3      af_4     af_5      af_6  \\\n",
      "0 -0.220709 -0.487999  0.190064  0.012411 -0.124674  0.95836 -0.275173   \n",
      "\n",
      "       af_7      af_8      af_9  ...   tt2_758   tt2_759   tt2_760   tt2_761  \\\n",
      "0  1.460627 -0.687284  0.231628  ...  0.436318 -0.561055 -0.141286 -1.194403   \n",
      "\n",
      "   tt2_762   tt2_763   tt2_764   tt2_765   tt2_766   tt2_767  \n",
      "0 -0.60864  0.135822 -0.426574  0.904226  0.214003 -0.467159  \n",
      "\n",
      "[1 rows x 4608 columns]\n"
     ]
    },
    {
     "name": "stderr",
     "output_type": "stream",
     "text": [
      "[INFO] The trainset is processed.\n",
      "INFO:__name__:[INFO] The trainset is processed.\n"
     ]
    },
    {
     "name": "stdout",
     "output_type": "stream",
     "text": [
      "1\n",
      "___2\n",
      "       af_0      af_1      af_2     af_3      af_4      af_5     af_6  \\\n",
      "0 -0.424101 -0.840544  0.176359 -0.02623 -0.123321  1.046075 -0.45475   \n",
      "\n",
      "       af_7      af_8      af_9  ...   tt2_758  tt2_759   tt2_760   tt2_761  \\\n",
      "0  1.363421 -0.714758  0.188363  ...  0.157736  0.10593 -0.476766 -0.767233   \n",
      "\n",
      "    tt2_762   tt2_763   tt2_764   tt2_765  tt2_766   tt2_767  \n",
      "0 -0.194238  0.088062 -0.544584  1.368392  0.58183 -0.235632  \n",
      "\n",
      "[1 rows x 4608 columns]\n"
     ]
    },
    {
     "name": "stderr",
     "output_type": "stream",
     "text": [
      "[INFO] The trainset is processed.\n",
      "INFO:__name__:[INFO] The trainset is processed.\n"
     ]
    },
    {
     "name": "stdout",
     "output_type": "stream",
     "text": [
      "2\n",
      "___1\n",
      "       af_0      af_1     af_2    af_3      af_4      af_5      af_6  \\\n",
      "0 -0.262486 -0.401916 -0.32503  0.2453 -0.015763  0.897165 -0.040095   \n",
      "\n",
      "       af_7      af_8     af_9  ...   tt2_758   tt2_759   tt2_760  tt2_761  \\\n",
      "0  1.167892 -0.936943  0.14724  ... -0.193148  0.491387 -0.252296  -0.6432   \n",
      "\n",
      "    tt2_762   tt2_763   tt2_764   tt2_765   tt2_766   tt2_767  \n",
      "0  0.252468 -0.593134 -0.271528  0.345326  0.909926  0.214744  \n",
      "\n",
      "[1 rows x 4608 columns]\n"
     ]
    },
    {
     "name": "stderr",
     "output_type": "stream",
     "text": [
      "[INFO] The trainset is processed.\n",
      "INFO:__name__:[INFO] The trainset is processed.\n"
     ]
    },
    {
     "name": "stdout",
     "output_type": "stream",
     "text": [
      "1\n",
      "___2\n",
      "       af_0      af_1      af_2      af_3      af_4      af_5      af_6  \\\n",
      "0 -0.392324 -0.839496  0.332307  0.050473 -0.075045  0.872697 -0.662445   \n",
      "\n",
      "       af_7     af_8      af_9  ...   tt2_758  tt2_759   tt2_760   tt2_761  \\\n",
      "0  1.319912 -0.62595  0.088762  ... -0.343364  0.06992 -0.053245 -1.225741   \n",
      "\n",
      "    tt2_762   tt2_763   tt2_764   tt2_765   tt2_766   tt2_767  \n",
      "0  0.358631 -0.550434 -0.439269  0.640191  0.633032  0.115378  \n",
      "\n",
      "[1 rows x 4608 columns]\n"
     ]
    },
    {
     "name": "stderr",
     "output_type": "stream",
     "text": [
      "[INFO] The trainset is processed.\n",
      "INFO:__name__:[INFO] The trainset is processed.\n"
     ]
    },
    {
     "name": "stdout",
     "output_type": "stream",
     "text": [
      "2\n",
      "___1\n",
      "       af_0      af_1      af_2     af_3      af_4      af_5      af_6  \\\n",
      "0 -0.757995 -0.252068  0.180651 -0.01153 -0.145389  0.508444 -0.120586   \n",
      "\n",
      "       af_7      af_8      af_9  ...   tt2_758   tt2_759   tt2_760   tt2_761  \\\n",
      "0  1.058404 -0.331643  0.415128  ... -0.374675  0.390223 -0.397431 -0.896836   \n",
      "\n",
      "    tt2_762  tt2_763   tt2_764   tt2_765  tt2_766   tt2_767  \n",
      "0  0.205115 -0.46323 -0.170827  0.473925   0.8017  0.328972  \n",
      "\n",
      "[1 rows x 4608 columns]\n"
     ]
    },
    {
     "name": "stderr",
     "output_type": "stream",
     "text": [
      "[INFO] The trainset is processed.\n",
      "INFO:__name__:[INFO] The trainset is processed.\n"
     ]
    },
    {
     "name": "stdout",
     "output_type": "stream",
     "text": [
      "1\n",
      "___1\n",
      "       af_0      af_1      af_2      af_3     af_4      af_5      af_6  \\\n",
      "0 -0.508151 -0.524227  0.075547 -0.096627 -0.08058  0.805852 -0.568929   \n",
      "\n",
      "       af_7    af_8      af_9  ...   tt2_758  tt2_759   tt2_760   tt2_761  \\\n",
      "0  1.212059 -0.8795  0.262943  ...  0.188792  0.16646 -0.481169 -0.944838   \n",
      "\n",
      "    tt2_762   tt2_763   tt2_764   tt2_765   tt2_766   tt2_767  \n",
      "0 -0.096899 -0.002716 -0.420596  0.817047  0.590488 -0.101971  \n",
      "\n",
      "[1 rows x 4608 columns]\n"
     ]
    },
    {
     "name": "stderr",
     "output_type": "stream",
     "text": [
      "[INFO] The trainset is processed.\n",
      "INFO:__name__:[INFO] The trainset is processed.\n"
     ]
    },
    {
     "name": "stdout",
     "output_type": "stream",
     "text": [
      "1\n",
      "___2\n",
      "       af_0      af_1      af_2     af_3      af_4      af_5      af_6  \\\n",
      "0 -0.757995 -0.252068  0.180651 -0.01153 -0.145389  0.508444 -0.120586   \n",
      "\n",
      "       af_7      af_8      af_9  ...   tt2_758  tt2_759  tt2_760   tt2_761  \\\n",
      "0  1.058404 -0.331643  0.415128  ... -0.332394  0.68735 -0.54259 -1.138634   \n",
      "\n",
      "    tt2_762   tt2_763   tt2_764   tt2_765   tt2_766   tt2_767  \n",
      "0  0.176949 -0.566344 -0.198569  0.555843  0.623785  0.489695  \n",
      "\n",
      "[1 rows x 4608 columns]\n"
     ]
    },
    {
     "name": "stderr",
     "output_type": "stream",
     "text": [
      "[INFO] The trainset is processed.\n",
      "INFO:__name__:[INFO] The trainset is processed.\n"
     ]
    },
    {
     "name": "stdout",
     "output_type": "stream",
     "text": [
      "2\n",
      "___1\n",
      "       af_0     af_1      af_2      af_3      af_4      af_5     af_6  \\\n",
      "0 -0.422137 -0.11629 -0.268628 -0.019145  0.113691  0.774511 -0.50004   \n",
      "\n",
      "       af_7      af_8      af_9  ...   tt2_758   tt2_759  tt2_760  tt2_761  \\\n",
      "0  0.799161 -1.014141 -0.240144  ... -0.077665  0.244953 -0.27412  -0.7935   \n",
      "\n",
      "    tt2_762   tt2_763   tt2_764   tt2_765   tt2_766   tt2_767  \n",
      "0  0.135335 -0.738324 -0.276911  0.743127  1.158986  0.010558  \n",
      "\n",
      "[1 rows x 4608 columns]\n"
     ]
    },
    {
     "name": "stderr",
     "output_type": "stream",
     "text": [
      "[INFO] The trainset is processed.\n",
      "INFO:__name__:[INFO] The trainset is processed.\n"
     ]
    },
    {
     "name": "stdout",
     "output_type": "stream",
     "text": [
      "1\n",
      "___1\n",
      "      af_0      af_1      af_2      af_3      af_4      af_5      af_6  \\\n",
      "0 -0.27148 -0.003589 -0.026481  0.235374  0.308049  1.142009 -0.065715   \n",
      "\n",
      "       af_7      af_8      af_9  ...   tt2_758   tt2_759   tt2_760   tt2_761  \\\n",
      "0  0.403511 -0.593906 -0.652689  ... -0.133497  0.106977 -0.410481 -1.036356   \n",
      "\n",
      "    tt2_762  tt2_763   tt2_764   tt2_765   tt2_766   tt2_767  \n",
      "0  0.219121  -0.6138 -0.319354  0.445207  0.714278  0.055241  \n",
      "\n",
      "[1 rows x 4608 columns]\n"
     ]
    },
    {
     "name": "stderr",
     "output_type": "stream",
     "text": [
      "[INFO] The trainset is processed.\n",
      "INFO:__name__:[INFO] The trainset is processed.\n"
     ]
    },
    {
     "name": "stdout",
     "output_type": "stream",
     "text": [
      "1\n",
      "___1\n",
      "       af_0      af_1      af_2      af_3      af_4      af_5      af_6  \\\n",
      "0 -0.190285 -0.638225  0.356222  0.065673  0.026695  0.636859 -0.256829   \n",
      "\n",
      "       af_7      af_8      af_9  ...   tt2_758   tt2_759   tt2_760   tt2_761  \\\n",
      "0  0.554607 -0.325416  0.429371  ...  0.025232  0.337127 -0.487603 -1.271592   \n",
      "\n",
      "    tt2_762   tt2_763   tt2_764   tt2_765   tt2_766   tt2_767  \n",
      "0 -0.323844 -0.194599 -0.218197  1.039193  0.807662 -0.223827  \n",
      "\n",
      "[1 rows x 4608 columns]\n"
     ]
    },
    {
     "name": "stderr",
     "output_type": "stream",
     "text": [
      "[INFO] The trainset is processed.\n",
      "INFO:__name__:[INFO] The trainset is processed.\n"
     ]
    },
    {
     "name": "stdout",
     "output_type": "stream",
     "text": [
      "1\n",
      "___1\n",
      "      af_0      af_1      af_2      af_3      af_4      af_5      af_6  \\\n",
      "0 -0.26684 -0.735768  0.295675  0.237257  0.060298  0.921407 -0.162451   \n",
      "\n",
      "       af_7      af_8      af_9  ...   tt2_758   tt2_759   tt2_760   tt2_761  \\\n",
      "0  1.637092 -0.685805 -0.033208  ... -0.360563  0.534088 -0.336937 -0.762655   \n",
      "\n",
      "    tt2_762   tt2_763   tt2_764  tt2_765   tt2_766   tt2_767  \n",
      "0  0.141398 -0.570577 -0.153406  0.32702  0.835089  0.262587  \n",
      "\n",
      "[1 rows x 4608 columns]\n"
     ]
    },
    {
     "name": "stderr",
     "output_type": "stream",
     "text": [
      "[INFO] The trainset is processed.\n",
      "INFO:__name__:[INFO] The trainset is processed.\n"
     ]
    },
    {
     "name": "stdout",
     "output_type": "stream",
     "text": [
      "1\n",
      "___1\n"
     ]
    },
    {
     "ename": "KeyboardInterrupt",
     "evalue": "",
     "output_type": "error",
     "traceback": [
      "\u001b[0;31m---------------------------------------------------------------------------\u001b[0m",
      "\u001b[0;31mKeyboardInterrupt\u001b[0m                         Traceback (most recent call last)",
      "\u001b[0;32m<ipython-input-8-e6d0a61fd2dd>\u001b[0m in \u001b[0;36m<module>\u001b[0;34m\u001b[0m\n\u001b[1;32m      8\u001b[0m     \u001b[0mdd\u001b[0m \u001b[0;34m=\u001b[0m \u001b[0mtmp\u001b[0m\u001b[0;34m.\u001b[0m\u001b[0mrejected_product\u001b[0m\u001b[0;34m\u001b[0m\u001b[0;34m\u001b[0m\u001b[0m\n\u001b[1;32m      9\u001b[0m     \u001b[0mprint\u001b[0m\u001b[0;34m(\u001b[0m\u001b[0;34m'_'\u001b[0m\u001b[0;34m*\u001b[0m\u001b[0;36m3\u001b[0m\u001b[0;34m+\u001b[0m\u001b[0mstr\u001b[0m\u001b[0;34m(\u001b[0m\u001b[0mtmp\u001b[0m\u001b[0;34m.\u001b[0m\u001b[0mtarget\u001b[0m\u001b[0;34m)\u001b[0m\u001b[0;34m)\u001b[0m\u001b[0;34m\u001b[0m\u001b[0;34m\u001b[0m\u001b[0m\n\u001b[0;32m---> 10\u001b[0;31m     \u001b[0mprint\u001b[0m\u001b[0;34m(\u001b[0m\u001b[0mmodel\u001b[0m\u001b[0;34m.\u001b[0m\u001b[0mpredict\u001b[0m\u001b[0;34m(\u001b[0m\u001b[0mc\u001b[0m\u001b[0;34m,\u001b[0m \u001b[0ma\u001b[0m\u001b[0;34m,\u001b[0m \u001b[0mb\u001b[0m\u001b[0;34m,\u001b[0m \u001b[0md\u001b[0m\u001b[0;34m,\u001b[0m \u001b[0mdd\u001b[0m\u001b[0;34m)\u001b[0m\u001b[0;34m)\u001b[0m\u001b[0;34m\u001b[0m\u001b[0;34m\u001b[0m\u001b[0m\n\u001b[0m",
      "\u001b[0;32m~/Documents/PROJECTS/deloitte/ModelProd.py\u001b[0m in \u001b[0;36mpredict\u001b[0;34m(self, text, af, rf, ap, rp)\u001b[0m\n\u001b[1;32m     40\u001b[0m                                      \u001b[0mself\u001b[0m\u001b[0;34m.\u001b[0m\u001b[0mpreprocess\u001b[0m\u001b[0;34m.\u001b[0m\u001b[0mtrain\u001b[0m\u001b[0;34m.\u001b[0m\u001b[0mvalues\u001b[0m\u001b[0;34m[\u001b[0m\u001b[0;36m0\u001b[0m\u001b[0;34m,\u001b[0m\u001b[0;36m2\u001b[0m\u001b[0;34m]\u001b[0m\u001b[0;34m,\u001b[0m\u001b[0;34m\u001b[0m\u001b[0;34m\u001b[0m\u001b[0m\n\u001b[1;32m     41\u001b[0m                                      \u001b[0mself\u001b[0m\u001b[0;34m.\u001b[0m\u001b[0mpreprocess\u001b[0m\u001b[0;34m.\u001b[0m\u001b[0mtrain\u001b[0m\u001b[0;34m.\u001b[0m\u001b[0mvalues\u001b[0m\u001b[0;34m[\u001b[0m\u001b[0;36m0\u001b[0m\u001b[0;34m,\u001b[0m\u001b[0;36m3\u001b[0m\u001b[0;34m]\u001b[0m\u001b[0;34m,\u001b[0m\u001b[0;34m\u001b[0m\u001b[0;34m\u001b[0m\u001b[0m\n\u001b[0;32m---> 42\u001b[0;31m                                      self.preprocess.train.values[0,4])\n\u001b[0m\u001b[1;32m     43\u001b[0m         \u001b[0mprint\u001b[0m\u001b[0;34m(\u001b[0m\u001b[0memb\u001b[0m\u001b[0;34m)\u001b[0m\u001b[0;34m\u001b[0m\u001b[0;34m\u001b[0m\u001b[0m\n\u001b[1;32m     44\u001b[0m         \u001b[0mpred\u001b[0m \u001b[0;34m=\u001b[0m \u001b[0mself\u001b[0m\u001b[0;34m.\u001b[0m\u001b[0mrf\u001b[0m\u001b[0;34m.\u001b[0m\u001b[0mmodel_predict_one\u001b[0m\u001b[0;34m(\u001b[0m\u001b[0memb\u001b[0m\u001b[0;34m)\u001b[0m\u001b[0;34m\u001b[0m\u001b[0;34m\u001b[0m\u001b[0m\n",
      "\u001b[0;32m~/Documents/PROJECTS/deloitte/BertModel.py\u001b[0m in \u001b[0;36mmodel_encode\u001b[0;34m(self, text, af, rf, ap, rp)\u001b[0m\n\u001b[1;32m    172\u001b[0m         \u001b[0mtrain\u001b[0m\u001b[0;34m[\u001b[0m\u001b[0;34m\"rp_embed\"\u001b[0m\u001b[0;34m]\u001b[0m \u001b[0;34m=\u001b[0m \u001b[0mself\u001b[0m\u001b[0;34m.\u001b[0m\u001b[0mmodel1\u001b[0m\u001b[0;34m.\u001b[0m\u001b[0mencode\u001b[0m\u001b[0;34m(\u001b[0m\u001b[0;34m[\u001b[0m\u001b[0mrp\u001b[0m\u001b[0;34m]\u001b[0m\u001b[0;34m)\u001b[0m\u001b[0;34m\u001b[0m\u001b[0;34m\u001b[0m\u001b[0m\n\u001b[1;32m    173\u001b[0m \u001b[0;34m\u001b[0m\u001b[0m\n\u001b[0;32m--> 174\u001b[0;31m         \u001b[0mtrain\u001b[0m\u001b[0;34m[\u001b[0m\u001b[0;34m\"text_embed\"\u001b[0m\u001b[0;34m]\u001b[0m \u001b[0;34m=\u001b[0m \u001b[0mself\u001b[0m\u001b[0;34m.\u001b[0m\u001b[0mmodel1\u001b[0m\u001b[0;34m.\u001b[0m\u001b[0mencode\u001b[0m\u001b[0;34m(\u001b[0m\u001b[0;34m[\u001b[0m\u001b[0mtext\u001b[0m\u001b[0;34m]\u001b[0m\u001b[0;34m)\u001b[0m\u001b[0;34m\u001b[0m\u001b[0;34m\u001b[0m\u001b[0m\n\u001b[0m\u001b[1;32m    175\u001b[0m         \u001b[0mtrain\u001b[0m\u001b[0;34m[\u001b[0m\u001b[0;34m\"text_embed_2\"\u001b[0m\u001b[0;34m]\u001b[0m \u001b[0;34m=\u001b[0m \u001b[0mself\u001b[0m\u001b[0;34m.\u001b[0m\u001b[0mmodel2\u001b[0m\u001b[0;34m.\u001b[0m\u001b[0mencode\u001b[0m\u001b[0;34m(\u001b[0m\u001b[0;34m[\u001b[0m\u001b[0mtext\u001b[0m\u001b[0;34m]\u001b[0m\u001b[0;34m)\u001b[0m\u001b[0;34m\u001b[0m\u001b[0;34m\u001b[0m\u001b[0m\n\u001b[1;32m    176\u001b[0m \u001b[0;34m\u001b[0m\u001b[0m\n",
      "\u001b[0;32m~/anaconda3/lib/python3.7/site-packages/sentence_transformers/SentenceTransformer.py\u001b[0m in \u001b[0;36mencode\u001b[0;34m(self, sentences, batch_size, show_progress_bar)\u001b[0m\n\u001b[1;32m    141\u001b[0m \u001b[0;34m\u001b[0m\u001b[0m\n\u001b[1;32m    142\u001b[0m             \u001b[0;32mwith\u001b[0m \u001b[0mtorch\u001b[0m\u001b[0;34m.\u001b[0m\u001b[0mno_grad\u001b[0m\u001b[0;34m(\u001b[0m\u001b[0;34m)\u001b[0m\u001b[0;34m:\u001b[0m\u001b[0;34m\u001b[0m\u001b[0;34m\u001b[0m\u001b[0m\n\u001b[0;32m--> 143\u001b[0;31m                 \u001b[0membeddings\u001b[0m \u001b[0;34m=\u001b[0m \u001b[0mself\u001b[0m\u001b[0;34m.\u001b[0m\u001b[0mforward\u001b[0m\u001b[0;34m(\u001b[0m\u001b[0mfeatures\u001b[0m\u001b[0;34m)\u001b[0m\u001b[0;34m\u001b[0m\u001b[0;34m\u001b[0m\u001b[0m\n\u001b[0m\u001b[1;32m    144\u001b[0m                 \u001b[0membeddings\u001b[0m \u001b[0;34m=\u001b[0m \u001b[0membeddings\u001b[0m\u001b[0;34m[\u001b[0m\u001b[0;34m'sentence_embedding'\u001b[0m\u001b[0;34m]\u001b[0m\u001b[0;34m.\u001b[0m\u001b[0mto\u001b[0m\u001b[0;34m(\u001b[0m\u001b[0;34m'cpu'\u001b[0m\u001b[0;34m)\u001b[0m\u001b[0;34m.\u001b[0m\u001b[0mnumpy\u001b[0m\u001b[0;34m(\u001b[0m\u001b[0;34m)\u001b[0m\u001b[0;34m\u001b[0m\u001b[0;34m\u001b[0m\u001b[0m\n\u001b[1;32m    145\u001b[0m                 \u001b[0mall_embeddings\u001b[0m\u001b[0;34m.\u001b[0m\u001b[0mextend\u001b[0m\u001b[0;34m(\u001b[0m\u001b[0membeddings\u001b[0m\u001b[0;34m)\u001b[0m\u001b[0;34m\u001b[0m\u001b[0;34m\u001b[0m\u001b[0m\n",
      "\u001b[0;32m~/anaconda3/lib/python3.7/site-packages/torch/nn/modules/container.py\u001b[0m in \u001b[0;36mforward\u001b[0;34m(self, input)\u001b[0m\n\u001b[1;32m     90\u001b[0m     \u001b[0;32mdef\u001b[0m \u001b[0mforward\u001b[0m\u001b[0;34m(\u001b[0m\u001b[0mself\u001b[0m\u001b[0;34m,\u001b[0m \u001b[0minput\u001b[0m\u001b[0;34m)\u001b[0m\u001b[0;34m:\u001b[0m\u001b[0;34m\u001b[0m\u001b[0;34m\u001b[0m\u001b[0m\n\u001b[1;32m     91\u001b[0m         \u001b[0;32mfor\u001b[0m \u001b[0mmodule\u001b[0m \u001b[0;32min\u001b[0m \u001b[0mself\u001b[0m\u001b[0;34m.\u001b[0m\u001b[0m_modules\u001b[0m\u001b[0;34m.\u001b[0m\u001b[0mvalues\u001b[0m\u001b[0;34m(\u001b[0m\u001b[0;34m)\u001b[0m\u001b[0;34m:\u001b[0m\u001b[0;34m\u001b[0m\u001b[0;34m\u001b[0m\u001b[0m\n\u001b[0;32m---> 92\u001b[0;31m             \u001b[0minput\u001b[0m \u001b[0;34m=\u001b[0m \u001b[0mmodule\u001b[0m\u001b[0;34m(\u001b[0m\u001b[0minput\u001b[0m\u001b[0;34m)\u001b[0m\u001b[0;34m\u001b[0m\u001b[0;34m\u001b[0m\u001b[0m\n\u001b[0m\u001b[1;32m     93\u001b[0m         \u001b[0;32mreturn\u001b[0m \u001b[0minput\u001b[0m\u001b[0;34m\u001b[0m\u001b[0;34m\u001b[0m\u001b[0m\n\u001b[1;32m     94\u001b[0m \u001b[0;34m\u001b[0m\u001b[0m\n",
      "\u001b[0;32m~/anaconda3/lib/python3.7/site-packages/torch/nn/modules/module.py\u001b[0m in \u001b[0;36m__call__\u001b[0;34m(self, *input, **kwargs)\u001b[0m\n\u001b[1;32m    539\u001b[0m             \u001b[0mresult\u001b[0m \u001b[0;34m=\u001b[0m \u001b[0mself\u001b[0m\u001b[0;34m.\u001b[0m\u001b[0m_slow_forward\u001b[0m\u001b[0;34m(\u001b[0m\u001b[0;34m*\u001b[0m\u001b[0minput\u001b[0m\u001b[0;34m,\u001b[0m \u001b[0;34m**\u001b[0m\u001b[0mkwargs\u001b[0m\u001b[0;34m)\u001b[0m\u001b[0;34m\u001b[0m\u001b[0;34m\u001b[0m\u001b[0m\n\u001b[1;32m    540\u001b[0m         \u001b[0;32melse\u001b[0m\u001b[0;34m:\u001b[0m\u001b[0;34m\u001b[0m\u001b[0;34m\u001b[0m\u001b[0m\n\u001b[0;32m--> 541\u001b[0;31m             \u001b[0mresult\u001b[0m \u001b[0;34m=\u001b[0m \u001b[0mself\u001b[0m\u001b[0;34m.\u001b[0m\u001b[0mforward\u001b[0m\u001b[0;34m(\u001b[0m\u001b[0;34m*\u001b[0m\u001b[0minput\u001b[0m\u001b[0;34m,\u001b[0m \u001b[0;34m**\u001b[0m\u001b[0mkwargs\u001b[0m\u001b[0;34m)\u001b[0m\u001b[0;34m\u001b[0m\u001b[0;34m\u001b[0m\u001b[0m\n\u001b[0m\u001b[1;32m    542\u001b[0m         \u001b[0;32mfor\u001b[0m \u001b[0mhook\u001b[0m \u001b[0;32min\u001b[0m \u001b[0mself\u001b[0m\u001b[0;34m.\u001b[0m\u001b[0m_forward_hooks\u001b[0m\u001b[0;34m.\u001b[0m\u001b[0mvalues\u001b[0m\u001b[0;34m(\u001b[0m\u001b[0;34m)\u001b[0m\u001b[0;34m:\u001b[0m\u001b[0;34m\u001b[0m\u001b[0;34m\u001b[0m\u001b[0m\n\u001b[1;32m    543\u001b[0m             \u001b[0mhook_result\u001b[0m \u001b[0;34m=\u001b[0m \u001b[0mhook\u001b[0m\u001b[0;34m(\u001b[0m\u001b[0mself\u001b[0m\u001b[0;34m,\u001b[0m \u001b[0minput\u001b[0m\u001b[0;34m,\u001b[0m \u001b[0mresult\u001b[0m\u001b[0;34m)\u001b[0m\u001b[0;34m\u001b[0m\u001b[0;34m\u001b[0m\u001b[0m\n",
      "\u001b[0;32m~/anaconda3/lib/python3.7/site-packages/sentence_transformers/models/BERT.py\u001b[0m in \u001b[0;36mforward\u001b[0;34m(self, features)\u001b[0m\n\u001b[1;32m     30\u001b[0m     \u001b[0;32mdef\u001b[0m \u001b[0mforward\u001b[0m\u001b[0;34m(\u001b[0m\u001b[0mself\u001b[0m\u001b[0;34m,\u001b[0m \u001b[0mfeatures\u001b[0m\u001b[0;34m)\u001b[0m\u001b[0;34m:\u001b[0m\u001b[0;34m\u001b[0m\u001b[0;34m\u001b[0m\u001b[0m\n\u001b[1;32m     31\u001b[0m         \u001b[0;34m\"\"\"Returns token_embeddings, cls_token\"\"\"\u001b[0m\u001b[0;34m\u001b[0m\u001b[0;34m\u001b[0m\u001b[0m\n\u001b[0;32m---> 32\u001b[0;31m         \u001b[0moutput_tokens\u001b[0m \u001b[0;34m=\u001b[0m \u001b[0mself\u001b[0m\u001b[0;34m.\u001b[0m\u001b[0mbert\u001b[0m\u001b[0;34m(\u001b[0m\u001b[0minput_ids\u001b[0m\u001b[0;34m=\u001b[0m\u001b[0mfeatures\u001b[0m\u001b[0;34m[\u001b[0m\u001b[0;34m'input_ids'\u001b[0m\u001b[0;34m]\u001b[0m\u001b[0;34m,\u001b[0m \u001b[0mtoken_type_ids\u001b[0m\u001b[0;34m=\u001b[0m\u001b[0mfeatures\u001b[0m\u001b[0;34m[\u001b[0m\u001b[0;34m'token_type_ids'\u001b[0m\u001b[0;34m]\u001b[0m\u001b[0;34m,\u001b[0m \u001b[0mattention_mask\u001b[0m\u001b[0;34m=\u001b[0m\u001b[0mfeatures\u001b[0m\u001b[0;34m[\u001b[0m\u001b[0;34m'input_mask'\u001b[0m\u001b[0;34m]\u001b[0m\u001b[0;34m)\u001b[0m\u001b[0;34m[\u001b[0m\u001b[0;36m0\u001b[0m\u001b[0;34m]\u001b[0m\u001b[0;34m\u001b[0m\u001b[0;34m\u001b[0m\u001b[0m\n\u001b[0m\u001b[1;32m     33\u001b[0m         \u001b[0mcls_tokens\u001b[0m \u001b[0;34m=\u001b[0m \u001b[0moutput_tokens\u001b[0m\u001b[0;34m[\u001b[0m\u001b[0;34m:\u001b[0m\u001b[0;34m,\u001b[0m \u001b[0;36m0\u001b[0m\u001b[0;34m,\u001b[0m \u001b[0;34m:\u001b[0m\u001b[0;34m]\u001b[0m  \u001b[0;31m# CLS token is first token\u001b[0m\u001b[0;34m\u001b[0m\u001b[0;34m\u001b[0m\u001b[0m\n\u001b[1;32m     34\u001b[0m         \u001b[0mfeatures\u001b[0m\u001b[0;34m.\u001b[0m\u001b[0mupdate\u001b[0m\u001b[0;34m(\u001b[0m\u001b[0;34m{\u001b[0m\u001b[0;34m'token_embeddings'\u001b[0m\u001b[0;34m:\u001b[0m \u001b[0moutput_tokens\u001b[0m\u001b[0;34m,\u001b[0m \u001b[0;34m'cls_token_embeddings'\u001b[0m\u001b[0;34m:\u001b[0m \u001b[0mcls_tokens\u001b[0m\u001b[0;34m,\u001b[0m \u001b[0;34m'input_mask'\u001b[0m\u001b[0;34m:\u001b[0m \u001b[0mfeatures\u001b[0m\u001b[0;34m[\u001b[0m\u001b[0;34m'input_mask'\u001b[0m\u001b[0;34m]\u001b[0m\u001b[0;34m}\u001b[0m\u001b[0;34m)\u001b[0m\u001b[0;34m\u001b[0m\u001b[0;34m\u001b[0m\u001b[0m\n",
      "\u001b[0;32m~/anaconda3/lib/python3.7/site-packages/torch/nn/modules/module.py\u001b[0m in \u001b[0;36m__call__\u001b[0;34m(self, *input, **kwargs)\u001b[0m\n\u001b[1;32m    539\u001b[0m             \u001b[0mresult\u001b[0m \u001b[0;34m=\u001b[0m \u001b[0mself\u001b[0m\u001b[0;34m.\u001b[0m\u001b[0m_slow_forward\u001b[0m\u001b[0;34m(\u001b[0m\u001b[0;34m*\u001b[0m\u001b[0minput\u001b[0m\u001b[0;34m,\u001b[0m \u001b[0;34m**\u001b[0m\u001b[0mkwargs\u001b[0m\u001b[0;34m)\u001b[0m\u001b[0;34m\u001b[0m\u001b[0;34m\u001b[0m\u001b[0m\n\u001b[1;32m    540\u001b[0m         \u001b[0;32melse\u001b[0m\u001b[0;34m:\u001b[0m\u001b[0;34m\u001b[0m\u001b[0;34m\u001b[0m\u001b[0m\n\u001b[0;32m--> 541\u001b[0;31m             \u001b[0mresult\u001b[0m \u001b[0;34m=\u001b[0m \u001b[0mself\u001b[0m\u001b[0;34m.\u001b[0m\u001b[0mforward\u001b[0m\u001b[0;34m(\u001b[0m\u001b[0;34m*\u001b[0m\u001b[0minput\u001b[0m\u001b[0;34m,\u001b[0m \u001b[0;34m**\u001b[0m\u001b[0mkwargs\u001b[0m\u001b[0;34m)\u001b[0m\u001b[0;34m\u001b[0m\u001b[0;34m\u001b[0m\u001b[0m\n\u001b[0m\u001b[1;32m    542\u001b[0m         \u001b[0;32mfor\u001b[0m \u001b[0mhook\u001b[0m \u001b[0;32min\u001b[0m \u001b[0mself\u001b[0m\u001b[0;34m.\u001b[0m\u001b[0m_forward_hooks\u001b[0m\u001b[0;34m.\u001b[0m\u001b[0mvalues\u001b[0m\u001b[0;34m(\u001b[0m\u001b[0;34m)\u001b[0m\u001b[0;34m:\u001b[0m\u001b[0;34m\u001b[0m\u001b[0;34m\u001b[0m\u001b[0m\n\u001b[1;32m    543\u001b[0m             \u001b[0mhook_result\u001b[0m \u001b[0;34m=\u001b[0m \u001b[0mhook\u001b[0m\u001b[0;34m(\u001b[0m\u001b[0mself\u001b[0m\u001b[0;34m,\u001b[0m \u001b[0minput\u001b[0m\u001b[0;34m,\u001b[0m \u001b[0mresult\u001b[0m\u001b[0;34m)\u001b[0m\u001b[0;34m\u001b[0m\u001b[0;34m\u001b[0m\u001b[0m\n",
      "\u001b[0;32m~/anaconda3/lib/python3.7/site-packages/transformers/modeling_bert.py\u001b[0m in \u001b[0;36mforward\u001b[0;34m(self, input_ids, attention_mask, token_type_ids, position_ids, head_mask, inputs_embeds, encoder_hidden_states, encoder_attention_mask)\u001b[0m\n\u001b[1;32m    725\u001b[0m                                        \u001b[0mhead_mask\u001b[0m\u001b[0;34m=\u001b[0m\u001b[0mhead_mask\u001b[0m\u001b[0;34m,\u001b[0m\u001b[0;34m\u001b[0m\u001b[0;34m\u001b[0m\u001b[0m\n\u001b[1;32m    726\u001b[0m                                        \u001b[0mencoder_hidden_states\u001b[0m\u001b[0;34m=\u001b[0m\u001b[0mencoder_hidden_states\u001b[0m\u001b[0;34m,\u001b[0m\u001b[0;34m\u001b[0m\u001b[0;34m\u001b[0m\u001b[0m\n\u001b[0;32m--> 727\u001b[0;31m                                        encoder_attention_mask=encoder_extended_attention_mask)\n\u001b[0m\u001b[1;32m    728\u001b[0m         \u001b[0msequence_output\u001b[0m \u001b[0;34m=\u001b[0m \u001b[0mencoder_outputs\u001b[0m\u001b[0;34m[\u001b[0m\u001b[0;36m0\u001b[0m\u001b[0;34m]\u001b[0m\u001b[0;34m\u001b[0m\u001b[0;34m\u001b[0m\u001b[0m\n\u001b[1;32m    729\u001b[0m         \u001b[0mpooled_output\u001b[0m \u001b[0;34m=\u001b[0m \u001b[0mself\u001b[0m\u001b[0;34m.\u001b[0m\u001b[0mpooler\u001b[0m\u001b[0;34m(\u001b[0m\u001b[0msequence_output\u001b[0m\u001b[0;34m)\u001b[0m\u001b[0;34m\u001b[0m\u001b[0;34m\u001b[0m\u001b[0m\n",
      "\u001b[0;32m~/anaconda3/lib/python3.7/site-packages/torch/nn/modules/module.py\u001b[0m in \u001b[0;36m__call__\u001b[0;34m(self, *input, **kwargs)\u001b[0m\n\u001b[1;32m    539\u001b[0m             \u001b[0mresult\u001b[0m \u001b[0;34m=\u001b[0m \u001b[0mself\u001b[0m\u001b[0;34m.\u001b[0m\u001b[0m_slow_forward\u001b[0m\u001b[0;34m(\u001b[0m\u001b[0;34m*\u001b[0m\u001b[0minput\u001b[0m\u001b[0;34m,\u001b[0m \u001b[0;34m**\u001b[0m\u001b[0mkwargs\u001b[0m\u001b[0;34m)\u001b[0m\u001b[0;34m\u001b[0m\u001b[0;34m\u001b[0m\u001b[0m\n\u001b[1;32m    540\u001b[0m         \u001b[0;32melse\u001b[0m\u001b[0;34m:\u001b[0m\u001b[0;34m\u001b[0m\u001b[0;34m\u001b[0m\u001b[0m\n\u001b[0;32m--> 541\u001b[0;31m             \u001b[0mresult\u001b[0m \u001b[0;34m=\u001b[0m \u001b[0mself\u001b[0m\u001b[0;34m.\u001b[0m\u001b[0mforward\u001b[0m\u001b[0;34m(\u001b[0m\u001b[0;34m*\u001b[0m\u001b[0minput\u001b[0m\u001b[0;34m,\u001b[0m \u001b[0;34m**\u001b[0m\u001b[0mkwargs\u001b[0m\u001b[0;34m)\u001b[0m\u001b[0;34m\u001b[0m\u001b[0;34m\u001b[0m\u001b[0m\n\u001b[0m\u001b[1;32m    542\u001b[0m         \u001b[0;32mfor\u001b[0m \u001b[0mhook\u001b[0m \u001b[0;32min\u001b[0m \u001b[0mself\u001b[0m\u001b[0;34m.\u001b[0m\u001b[0m_forward_hooks\u001b[0m\u001b[0;34m.\u001b[0m\u001b[0mvalues\u001b[0m\u001b[0;34m(\u001b[0m\u001b[0;34m)\u001b[0m\u001b[0;34m:\u001b[0m\u001b[0;34m\u001b[0m\u001b[0;34m\u001b[0m\u001b[0m\n\u001b[1;32m    543\u001b[0m             \u001b[0mhook_result\u001b[0m \u001b[0;34m=\u001b[0m \u001b[0mhook\u001b[0m\u001b[0;34m(\u001b[0m\u001b[0mself\u001b[0m\u001b[0;34m,\u001b[0m \u001b[0minput\u001b[0m\u001b[0;34m,\u001b[0m \u001b[0mresult\u001b[0m\u001b[0;34m)\u001b[0m\u001b[0;34m\u001b[0m\u001b[0;34m\u001b[0m\u001b[0m\n",
      "\u001b[0;32m~/anaconda3/lib/python3.7/site-packages/transformers/modeling_bert.py\u001b[0m in \u001b[0;36mforward\u001b[0;34m(self, hidden_states, attention_mask, head_mask, encoder_hidden_states, encoder_attention_mask)\u001b[0m\n\u001b[1;32m    378\u001b[0m                 \u001b[0mall_hidden_states\u001b[0m \u001b[0;34m=\u001b[0m \u001b[0mall_hidden_states\u001b[0m \u001b[0;34m+\u001b[0m \u001b[0;34m(\u001b[0m\u001b[0mhidden_states\u001b[0m\u001b[0;34m,\u001b[0m\u001b[0;34m)\u001b[0m\u001b[0;34m\u001b[0m\u001b[0;34m\u001b[0m\u001b[0m\n\u001b[1;32m    379\u001b[0m \u001b[0;34m\u001b[0m\u001b[0m\n\u001b[0;32m--> 380\u001b[0;31m             \u001b[0mlayer_outputs\u001b[0m \u001b[0;34m=\u001b[0m \u001b[0mlayer_module\u001b[0m\u001b[0;34m(\u001b[0m\u001b[0mhidden_states\u001b[0m\u001b[0;34m,\u001b[0m \u001b[0mattention_mask\u001b[0m\u001b[0;34m,\u001b[0m \u001b[0mhead_mask\u001b[0m\u001b[0;34m[\u001b[0m\u001b[0mi\u001b[0m\u001b[0;34m]\u001b[0m\u001b[0;34m,\u001b[0m \u001b[0mencoder_hidden_states\u001b[0m\u001b[0;34m,\u001b[0m \u001b[0mencoder_attention_mask\u001b[0m\u001b[0;34m)\u001b[0m\u001b[0;34m\u001b[0m\u001b[0;34m\u001b[0m\u001b[0m\n\u001b[0m\u001b[1;32m    381\u001b[0m             \u001b[0mhidden_states\u001b[0m \u001b[0;34m=\u001b[0m \u001b[0mlayer_outputs\u001b[0m\u001b[0;34m[\u001b[0m\u001b[0;36m0\u001b[0m\u001b[0;34m]\u001b[0m\u001b[0;34m\u001b[0m\u001b[0;34m\u001b[0m\u001b[0m\n\u001b[1;32m    382\u001b[0m \u001b[0;34m\u001b[0m\u001b[0m\n",
      "\u001b[0;32m~/anaconda3/lib/python3.7/site-packages/torch/nn/modules/module.py\u001b[0m in \u001b[0;36m__call__\u001b[0;34m(self, *input, **kwargs)\u001b[0m\n\u001b[1;32m    539\u001b[0m             \u001b[0mresult\u001b[0m \u001b[0;34m=\u001b[0m \u001b[0mself\u001b[0m\u001b[0;34m.\u001b[0m\u001b[0m_slow_forward\u001b[0m\u001b[0;34m(\u001b[0m\u001b[0;34m*\u001b[0m\u001b[0minput\u001b[0m\u001b[0;34m,\u001b[0m \u001b[0;34m**\u001b[0m\u001b[0mkwargs\u001b[0m\u001b[0;34m)\u001b[0m\u001b[0;34m\u001b[0m\u001b[0;34m\u001b[0m\u001b[0m\n\u001b[1;32m    540\u001b[0m         \u001b[0;32melse\u001b[0m\u001b[0;34m:\u001b[0m\u001b[0;34m\u001b[0m\u001b[0;34m\u001b[0m\u001b[0m\n\u001b[0;32m--> 541\u001b[0;31m             \u001b[0mresult\u001b[0m \u001b[0;34m=\u001b[0m \u001b[0mself\u001b[0m\u001b[0;34m.\u001b[0m\u001b[0mforward\u001b[0m\u001b[0;34m(\u001b[0m\u001b[0;34m*\u001b[0m\u001b[0minput\u001b[0m\u001b[0;34m,\u001b[0m \u001b[0;34m**\u001b[0m\u001b[0mkwargs\u001b[0m\u001b[0;34m)\u001b[0m\u001b[0;34m\u001b[0m\u001b[0;34m\u001b[0m\u001b[0m\n\u001b[0m\u001b[1;32m    542\u001b[0m         \u001b[0;32mfor\u001b[0m \u001b[0mhook\u001b[0m \u001b[0;32min\u001b[0m \u001b[0mself\u001b[0m\u001b[0;34m.\u001b[0m\u001b[0m_forward_hooks\u001b[0m\u001b[0;34m.\u001b[0m\u001b[0mvalues\u001b[0m\u001b[0;34m(\u001b[0m\u001b[0;34m)\u001b[0m\u001b[0;34m:\u001b[0m\u001b[0;34m\u001b[0m\u001b[0;34m\u001b[0m\u001b[0m\n\u001b[1;32m    543\u001b[0m             \u001b[0mhook_result\u001b[0m \u001b[0;34m=\u001b[0m \u001b[0mhook\u001b[0m\u001b[0;34m(\u001b[0m\u001b[0mself\u001b[0m\u001b[0;34m,\u001b[0m \u001b[0minput\u001b[0m\u001b[0;34m,\u001b[0m \u001b[0mresult\u001b[0m\u001b[0;34m)\u001b[0m\u001b[0;34m\u001b[0m\u001b[0;34m\u001b[0m\u001b[0m\n",
      "\u001b[0;32m~/anaconda3/lib/python3.7/site-packages/transformers/modeling_bert.py\u001b[0m in \u001b[0;36mforward\u001b[0;34m(self, hidden_states, attention_mask, head_mask, encoder_hidden_states, encoder_attention_mask)\u001b[0m\n\u001b[1;32m    359\u001b[0m \u001b[0;34m\u001b[0m\u001b[0m\n\u001b[1;32m    360\u001b[0m         \u001b[0mintermediate_output\u001b[0m \u001b[0;34m=\u001b[0m \u001b[0mself\u001b[0m\u001b[0;34m.\u001b[0m\u001b[0mintermediate\u001b[0m\u001b[0;34m(\u001b[0m\u001b[0mattention_output\u001b[0m\u001b[0;34m)\u001b[0m\u001b[0;34m\u001b[0m\u001b[0;34m\u001b[0m\u001b[0m\n\u001b[0;32m--> 361\u001b[0;31m         \u001b[0mlayer_output\u001b[0m \u001b[0;34m=\u001b[0m \u001b[0mself\u001b[0m\u001b[0;34m.\u001b[0m\u001b[0moutput\u001b[0m\u001b[0;34m(\u001b[0m\u001b[0mintermediate_output\u001b[0m\u001b[0;34m,\u001b[0m \u001b[0mattention_output\u001b[0m\u001b[0;34m)\u001b[0m\u001b[0;34m\u001b[0m\u001b[0;34m\u001b[0m\u001b[0m\n\u001b[0m\u001b[1;32m    362\u001b[0m         \u001b[0moutputs\u001b[0m \u001b[0;34m=\u001b[0m \u001b[0;34m(\u001b[0m\u001b[0mlayer_output\u001b[0m\u001b[0;34m,\u001b[0m\u001b[0;34m)\u001b[0m \u001b[0;34m+\u001b[0m \u001b[0moutputs\u001b[0m\u001b[0;34m\u001b[0m\u001b[0;34m\u001b[0m\u001b[0m\n\u001b[1;32m    363\u001b[0m         \u001b[0;32mreturn\u001b[0m \u001b[0moutputs\u001b[0m\u001b[0;34m\u001b[0m\u001b[0;34m\u001b[0m\u001b[0m\n",
      "\u001b[0;32m~/anaconda3/lib/python3.7/site-packages/torch/nn/modules/module.py\u001b[0m in \u001b[0;36m__call__\u001b[0;34m(self, *input, **kwargs)\u001b[0m\n\u001b[1;32m    539\u001b[0m             \u001b[0mresult\u001b[0m \u001b[0;34m=\u001b[0m \u001b[0mself\u001b[0m\u001b[0;34m.\u001b[0m\u001b[0m_slow_forward\u001b[0m\u001b[0;34m(\u001b[0m\u001b[0;34m*\u001b[0m\u001b[0minput\u001b[0m\u001b[0;34m,\u001b[0m \u001b[0;34m**\u001b[0m\u001b[0mkwargs\u001b[0m\u001b[0;34m)\u001b[0m\u001b[0;34m\u001b[0m\u001b[0;34m\u001b[0m\u001b[0m\n\u001b[1;32m    540\u001b[0m         \u001b[0;32melse\u001b[0m\u001b[0;34m:\u001b[0m\u001b[0;34m\u001b[0m\u001b[0;34m\u001b[0m\u001b[0m\n\u001b[0;32m--> 541\u001b[0;31m             \u001b[0mresult\u001b[0m \u001b[0;34m=\u001b[0m \u001b[0mself\u001b[0m\u001b[0;34m.\u001b[0m\u001b[0mforward\u001b[0m\u001b[0;34m(\u001b[0m\u001b[0;34m*\u001b[0m\u001b[0minput\u001b[0m\u001b[0;34m,\u001b[0m \u001b[0;34m**\u001b[0m\u001b[0mkwargs\u001b[0m\u001b[0;34m)\u001b[0m\u001b[0;34m\u001b[0m\u001b[0;34m\u001b[0m\u001b[0m\n\u001b[0m\u001b[1;32m    542\u001b[0m         \u001b[0;32mfor\u001b[0m \u001b[0mhook\u001b[0m \u001b[0;32min\u001b[0m \u001b[0mself\u001b[0m\u001b[0;34m.\u001b[0m\u001b[0m_forward_hooks\u001b[0m\u001b[0;34m.\u001b[0m\u001b[0mvalues\u001b[0m\u001b[0;34m(\u001b[0m\u001b[0;34m)\u001b[0m\u001b[0;34m:\u001b[0m\u001b[0;34m\u001b[0m\u001b[0;34m\u001b[0m\u001b[0m\n\u001b[1;32m    543\u001b[0m             \u001b[0mhook_result\u001b[0m \u001b[0;34m=\u001b[0m \u001b[0mhook\u001b[0m\u001b[0;34m(\u001b[0m\u001b[0mself\u001b[0m\u001b[0;34m,\u001b[0m \u001b[0minput\u001b[0m\u001b[0;34m,\u001b[0m \u001b[0mresult\u001b[0m\u001b[0;34m)\u001b[0m\u001b[0;34m\u001b[0m\u001b[0;34m\u001b[0m\u001b[0m\n",
      "\u001b[0;32m~/anaconda3/lib/python3.7/site-packages/transformers/modeling_bert.py\u001b[0m in \u001b[0;36mforward\u001b[0;34m(self, hidden_states, input_tensor)\u001b[0m\n\u001b[1;32m    332\u001b[0m \u001b[0;34m\u001b[0m\u001b[0m\n\u001b[1;32m    333\u001b[0m     \u001b[0;32mdef\u001b[0m \u001b[0mforward\u001b[0m\u001b[0;34m(\u001b[0m\u001b[0mself\u001b[0m\u001b[0;34m,\u001b[0m \u001b[0mhidden_states\u001b[0m\u001b[0;34m,\u001b[0m \u001b[0minput_tensor\u001b[0m\u001b[0;34m)\u001b[0m\u001b[0;34m:\u001b[0m\u001b[0;34m\u001b[0m\u001b[0;34m\u001b[0m\u001b[0m\n\u001b[0;32m--> 334\u001b[0;31m         \u001b[0mhidden_states\u001b[0m \u001b[0;34m=\u001b[0m \u001b[0mself\u001b[0m\u001b[0;34m.\u001b[0m\u001b[0mdense\u001b[0m\u001b[0;34m(\u001b[0m\u001b[0mhidden_states\u001b[0m\u001b[0;34m)\u001b[0m\u001b[0;34m\u001b[0m\u001b[0;34m\u001b[0m\u001b[0m\n\u001b[0m\u001b[1;32m    335\u001b[0m         \u001b[0mhidden_states\u001b[0m \u001b[0;34m=\u001b[0m \u001b[0mself\u001b[0m\u001b[0;34m.\u001b[0m\u001b[0mdropout\u001b[0m\u001b[0;34m(\u001b[0m\u001b[0mhidden_states\u001b[0m\u001b[0;34m)\u001b[0m\u001b[0;34m\u001b[0m\u001b[0;34m\u001b[0m\u001b[0m\n\u001b[1;32m    336\u001b[0m         \u001b[0mhidden_states\u001b[0m \u001b[0;34m=\u001b[0m \u001b[0mself\u001b[0m\u001b[0;34m.\u001b[0m\u001b[0mLayerNorm\u001b[0m\u001b[0;34m(\u001b[0m\u001b[0mhidden_states\u001b[0m \u001b[0;34m+\u001b[0m \u001b[0minput_tensor\u001b[0m\u001b[0;34m)\u001b[0m\u001b[0;34m\u001b[0m\u001b[0;34m\u001b[0m\u001b[0m\n",
      "\u001b[0;32m~/anaconda3/lib/python3.7/site-packages/torch/nn/modules/module.py\u001b[0m in \u001b[0;36m__call__\u001b[0;34m(self, *input, **kwargs)\u001b[0m\n\u001b[1;32m    539\u001b[0m             \u001b[0mresult\u001b[0m \u001b[0;34m=\u001b[0m \u001b[0mself\u001b[0m\u001b[0;34m.\u001b[0m\u001b[0m_slow_forward\u001b[0m\u001b[0;34m(\u001b[0m\u001b[0;34m*\u001b[0m\u001b[0minput\u001b[0m\u001b[0;34m,\u001b[0m \u001b[0;34m**\u001b[0m\u001b[0mkwargs\u001b[0m\u001b[0;34m)\u001b[0m\u001b[0;34m\u001b[0m\u001b[0;34m\u001b[0m\u001b[0m\n\u001b[1;32m    540\u001b[0m         \u001b[0;32melse\u001b[0m\u001b[0;34m:\u001b[0m\u001b[0;34m\u001b[0m\u001b[0;34m\u001b[0m\u001b[0m\n\u001b[0;32m--> 541\u001b[0;31m             \u001b[0mresult\u001b[0m \u001b[0;34m=\u001b[0m \u001b[0mself\u001b[0m\u001b[0;34m.\u001b[0m\u001b[0mforward\u001b[0m\u001b[0;34m(\u001b[0m\u001b[0;34m*\u001b[0m\u001b[0minput\u001b[0m\u001b[0;34m,\u001b[0m \u001b[0;34m**\u001b[0m\u001b[0mkwargs\u001b[0m\u001b[0;34m)\u001b[0m\u001b[0;34m\u001b[0m\u001b[0;34m\u001b[0m\u001b[0m\n\u001b[0m\u001b[1;32m    542\u001b[0m         \u001b[0;32mfor\u001b[0m \u001b[0mhook\u001b[0m \u001b[0;32min\u001b[0m \u001b[0mself\u001b[0m\u001b[0;34m.\u001b[0m\u001b[0m_forward_hooks\u001b[0m\u001b[0;34m.\u001b[0m\u001b[0mvalues\u001b[0m\u001b[0;34m(\u001b[0m\u001b[0;34m)\u001b[0m\u001b[0;34m:\u001b[0m\u001b[0;34m\u001b[0m\u001b[0;34m\u001b[0m\u001b[0m\n\u001b[1;32m    543\u001b[0m             \u001b[0mhook_result\u001b[0m \u001b[0;34m=\u001b[0m \u001b[0mhook\u001b[0m\u001b[0;34m(\u001b[0m\u001b[0mself\u001b[0m\u001b[0;34m,\u001b[0m \u001b[0minput\u001b[0m\u001b[0;34m,\u001b[0m \u001b[0mresult\u001b[0m\u001b[0;34m)\u001b[0m\u001b[0;34m\u001b[0m\u001b[0;34m\u001b[0m\u001b[0m\n",
      "\u001b[0;32m~/anaconda3/lib/python3.7/site-packages/torch/nn/modules/linear.py\u001b[0m in \u001b[0;36mforward\u001b[0;34m(self, input)\u001b[0m\n\u001b[1;32m     85\u001b[0m \u001b[0;34m\u001b[0m\u001b[0m\n\u001b[1;32m     86\u001b[0m     \u001b[0;32mdef\u001b[0m \u001b[0mforward\u001b[0m\u001b[0;34m(\u001b[0m\u001b[0mself\u001b[0m\u001b[0;34m,\u001b[0m \u001b[0minput\u001b[0m\u001b[0;34m)\u001b[0m\u001b[0;34m:\u001b[0m\u001b[0;34m\u001b[0m\u001b[0;34m\u001b[0m\u001b[0m\n\u001b[0;32m---> 87\u001b[0;31m         \u001b[0;32mreturn\u001b[0m \u001b[0mF\u001b[0m\u001b[0;34m.\u001b[0m\u001b[0mlinear\u001b[0m\u001b[0;34m(\u001b[0m\u001b[0minput\u001b[0m\u001b[0;34m,\u001b[0m \u001b[0mself\u001b[0m\u001b[0;34m.\u001b[0m\u001b[0mweight\u001b[0m\u001b[0;34m,\u001b[0m \u001b[0mself\u001b[0m\u001b[0;34m.\u001b[0m\u001b[0mbias\u001b[0m\u001b[0;34m)\u001b[0m\u001b[0;34m\u001b[0m\u001b[0;34m\u001b[0m\u001b[0m\n\u001b[0m\u001b[1;32m     88\u001b[0m \u001b[0;34m\u001b[0m\u001b[0m\n\u001b[1;32m     89\u001b[0m     \u001b[0;32mdef\u001b[0m \u001b[0mextra_repr\u001b[0m\u001b[0;34m(\u001b[0m\u001b[0mself\u001b[0m\u001b[0;34m)\u001b[0m\u001b[0;34m:\u001b[0m\u001b[0;34m\u001b[0m\u001b[0;34m\u001b[0m\u001b[0m\n",
      "\u001b[0;32m~/anaconda3/lib/python3.7/site-packages/torch/nn/functional.py\u001b[0m in \u001b[0;36mlinear\u001b[0;34m(input, weight, bias)\u001b[0m\n\u001b[1;32m   1370\u001b[0m         \u001b[0mret\u001b[0m \u001b[0;34m=\u001b[0m \u001b[0mtorch\u001b[0m\u001b[0;34m.\u001b[0m\u001b[0maddmm\u001b[0m\u001b[0;34m(\u001b[0m\u001b[0mbias\u001b[0m\u001b[0;34m,\u001b[0m \u001b[0minput\u001b[0m\u001b[0;34m,\u001b[0m \u001b[0mweight\u001b[0m\u001b[0;34m.\u001b[0m\u001b[0mt\u001b[0m\u001b[0;34m(\u001b[0m\u001b[0;34m)\u001b[0m\u001b[0;34m)\u001b[0m\u001b[0;34m\u001b[0m\u001b[0;34m\u001b[0m\u001b[0m\n\u001b[1;32m   1371\u001b[0m     \u001b[0;32melse\u001b[0m\u001b[0;34m:\u001b[0m\u001b[0;34m\u001b[0m\u001b[0;34m\u001b[0m\u001b[0m\n\u001b[0;32m-> 1372\u001b[0;31m         \u001b[0moutput\u001b[0m \u001b[0;34m=\u001b[0m \u001b[0minput\u001b[0m\u001b[0;34m.\u001b[0m\u001b[0mmatmul\u001b[0m\u001b[0;34m(\u001b[0m\u001b[0mweight\u001b[0m\u001b[0;34m.\u001b[0m\u001b[0mt\u001b[0m\u001b[0;34m(\u001b[0m\u001b[0;34m)\u001b[0m\u001b[0;34m)\u001b[0m\u001b[0;34m\u001b[0m\u001b[0;34m\u001b[0m\u001b[0m\n\u001b[0m\u001b[1;32m   1373\u001b[0m         \u001b[0;32mif\u001b[0m \u001b[0mbias\u001b[0m \u001b[0;32mis\u001b[0m \u001b[0;32mnot\u001b[0m \u001b[0;32mNone\u001b[0m\u001b[0;34m:\u001b[0m\u001b[0;34m\u001b[0m\u001b[0;34m\u001b[0m\u001b[0m\n\u001b[1;32m   1374\u001b[0m             \u001b[0moutput\u001b[0m \u001b[0;34m+=\u001b[0m \u001b[0mbias\u001b[0m\u001b[0;34m\u001b[0m\u001b[0;34m\u001b[0m\u001b[0m\n",
      "\u001b[0;31mKeyboardInterrupt\u001b[0m: "
     ]
    }
   ],
   "source": [
    "for i in range(100):\n",
    "    tmp = model2.train.loc[i]\n",
    "    a = tmp.accepted_function\n",
    "    b=tmp.rejected_function\n",
    "    c = tmp.text\n",
    "    c = '.'.join(c)\n",
    "    d = tmp.accepted_product\n",
    "    dd = tmp.rejected_product\n",
    "    print('_'*3+str(tmp.target))\n",
    "    print(model.predict(c, a, b, d, dd))"
   ]
  },
  {
   "cell_type": "code",
   "execution_count": null,
   "metadata": {},
   "outputs": [],
   "source": []
  },
  {
   "cell_type": "code",
   "execution_count": 22,
   "metadata": {},
   "outputs": [
    {
     "name": "stdout",
     "output_type": "stream",
     "text": [
      "id                                b5e3f6d4-30bc-443c-a9d6-8ed41d5c33b3\n",
      "html                 [b'<!DOCTYPE html>\\n<html lang=\"en-US\">\\n  <he...\n",
      "text                 [SAP Integrated Business Planning (IBP)\\nSAP A...\n",
      "keywords             [budgeting, decision, cycles, closing, Simplif...\n",
      "accepted_function    IT consultancy, IT support services, IT manage...\n",
      "rejected_function    distribution, sale, trade, wholesale, retail s...\n",
      "accepted_product                                                      \n",
      "rejected_product                                                      \n",
      "target                                                               2\n",
      "Name: 1, dtype: object\n"
     ]
    }
   ],
   "source": [
    "tmp = model2.train.loc[1]\n",
    "a = tmp.accepted_function\n",
    "b=tmp.rejected_function\n",
    "c = tmp.text\n",
    "c = '.'.join(c)\n",
    "d = tmp.accepted_product\n",
    "dd = tmp.rejected_product\n",
    "print(tmp)"
   ]
  },
  {
   "cell_type": "code",
   "execution_count": 25,
   "metadata": {},
   "outputs": [],
   "source": [
    "res = model3.model_encode(c, a, b, d, dd)"
   ]
  },
  {
   "cell_type": "code",
   "execution_count": 26,
   "metadata": {},
   "outputs": [
    {
     "data": {
      "text/plain": [
       "1"
      ]
     },
     "execution_count": 26,
     "metadata": {},
     "output_type": "execute_result"
    }
   ],
   "source": [
    "rf_model.model_predict_one(res)"
   ]
  },
  {
   "cell_type": "code",
   "execution_count": null,
   "metadata": {},
   "outputs": [],
   "source": []
  },
  {
   "cell_type": "code",
   "execution_count": null,
   "metadata": {},
   "outputs": [],
   "source": []
  },
  {
   "cell_type": "code",
   "execution_count": null,
   "metadata": {},
   "outputs": [],
   "source": []
  },
  {
   "cell_type": "code",
   "execution_count": 15,
   "metadata": {},
   "outputs": [],
   "source": [
    "from BertModel import *\n",
    "model3 = BertModel()"
   ]
  },
  {
   "cell_type": "code",
   "execution_count": 16,
   "metadata": {},
   "outputs": [],
   "source": [
    "model3.load_models()"
   ]
  },
  {
   "cell_type": "code",
   "execution_count": 42,
   "metadata": {},
   "outputs": [
    {
     "data": {
      "text/plain": [
       "0    \n",
       "Name: text, dtype: object"
      ]
     },
     "execution_count": 42,
     "metadata": {},
     "output_type": "execute_result"
    }
   ],
   "source": [
    "model2.train.text"
   ]
  },
  {
   "cell_type": "code",
   "execution_count": 41,
   "metadata": {},
   "outputs": [
    {
     "data": {
      "text/plain": [
       "'SAP Integrated Business Planning (IBP)\\nSAP Advanced Planning & Optimization (APO)\\nPP/DS for SAP S/4HANA\\nSAP Digital Manufacturing Cloud (DMC)\\nSAP Manufacturing Intelligence and Integration (MII)\\nSAP Analytics Cloud (SAC)\\nSAP BW 4HANA\\nSAP Business Planning and Consolidation (BPC)\\nSAP S/4HANA Cloud\\nSAP S/4 HANA\\nPP/DS for SAP S/4HANA\\nABOUT US\\nAbout Us\\nBLOG\\nTALENT\\nCONTACT\\nIdioma\\nShare\\nBuscador\\nes\\nTwitter\\nLinkedin\\nContactar\\nThe Best adjustment of plans and forecasts\\nSAP BPC- Business Planning and Consolidation\\nSAP Business Planning and Consolidation (SAP BPC) offers planning, budgeting, simulation and financial and legal consolidation capabilities. In this way you can easily generate plans and forecasts, accelerate the budget and closing cycles, and ensure compliance with financial regulations.\\nAvailable on-premise and Cloud\\nIntegration of SAP data and external data\\nReal-time access to data in SAP S/4 HANA\\nHybrid implementation with SAP Analytics Cloud\\nVersions available for SAP BW/4HANA, SAP S/4 HANA, SAP NetWeaver or the Microsoft platform\\nSimplification of the planning, consolidation, accounting closing and simulation processes\\nMore precise plans, budgets and forecasts\\nImprove decision making, based on what-if analysis and planning scenarios for better results\\nImprove data quality through the use of a single central repository\\nUse collaboration tools to improve planning accuracy\\nReduce cycle times, close books faster and aligh your plans with strategic objectives\\nBudgeting and consolidation guided process.\\nUser tool, allows end users to control the tool without going through IT\\nNative integration in the SAP ecosystem\\nWe are specialists: Saptools is a SAP SCM South EMEA Reference Partner.\\nWe strongly believe in SAP and its best innovative solutions, in order to provide to our clients the most added-value proposition.\\nCloseness and commitment to our clients are the pillars of our way of understanding projects.\\nExpert team, with in-depth knowledge and broad experience in the implementation of SAP projects in the industrial environment.\\nPrepare your company for the future and obtain a personalized DEMO.\\nREQUEST A DEMO\\nCompartir a redes sociales\\n'"
      ]
     },
     "execution_count": 41,
     "metadata": {},
     "output_type": "execute_result"
    }
   ],
   "source": [
    "c"
   ]
  },
  {
   "cell_type": "code",
   "execution_count": 27,
   "metadata": {},
   "outputs": [
    {
     "name": "stderr",
     "output_type": "stream",
     "text": [
      "[INFO] Data loaded\n",
      "INFO:__name__:[INFO] Data loaded\n"
     ]
    },
    {
     "name": "stdout",
     "output_type": "stream",
     "text": [
      "id                                997ae1ab-93c4-45a9-9bd0-a49b2b952f1f\n",
      "html                 [b'<!doctype html>\\n<html lang=\"en-US\">\\n<head...\n",
      "text                 [facebook\\ntwitter\\nlinkedin\\ninstagram\\nWelco...\n",
      "keywords                                                            []\n",
      "accepted_function    general accounting, auditing, book keeping act...\n",
      "rejected_function    manufacture, production, processing, distribut...\n",
      "accepted_product                                                      \n",
      "rejected_product                                                      \n",
      "target                                                               1\n",
      "Name: 2, dtype: object\n"
     ]
    },
    {
     "data": {
      "text/html": [
       "<div>\n",
       "<style scoped>\n",
       "    .dataframe tbody tr th:only-of-type {\n",
       "        vertical-align: middle;\n",
       "    }\n",
       "\n",
       "    .dataframe tbody tr th {\n",
       "        vertical-align: top;\n",
       "    }\n",
       "\n",
       "    .dataframe thead th {\n",
       "        text-align: right;\n",
       "    }\n",
       "</style>\n",
       "<table border=\"1\" class=\"dataframe\">\n",
       "  <thead>\n",
       "    <tr style=\"text-align: right;\">\n",
       "      <th></th>\n",
       "      <th>text</th>\n",
       "      <th>accepted_function</th>\n",
       "      <th>rejected_function</th>\n",
       "      <th>accepted_product</th>\n",
       "      <th>rejected_product</th>\n",
       "    </tr>\n",
       "  </thead>\n",
       "  <tbody>\n",
       "    <tr>\n",
       "      <th>0</th>\n",
       "      <td>[facebook\\ntwitter\\nlinkedin\\ninstagram\\nWelco...</td>\n",
       "      <td>general accounting, auditing, book keeping act...</td>\n",
       "      <td>manufacture, production, processing, distribut...</td>\n",
       "      <td></td>\n",
       "      <td></td>\n",
       "    </tr>\n",
       "  </tbody>\n",
       "</table>\n",
       "</div>"
      ],
      "text/plain": [
       "                                                text  \\\n",
       "0  [facebook\\ntwitter\\nlinkedin\\ninstagram\\nWelco...   \n",
       "\n",
       "                                   accepted_function  \\\n",
       "0  general accounting, auditing, book keeping act...   \n",
       "\n",
       "                                   rejected_function accepted_product  \\\n",
       "0  manufacture, production, processing, distribut...                    \n",
       "\n",
       "  rejected_product  \n",
       "0                   "
      ]
     },
     "execution_count": 27,
     "metadata": {},
     "output_type": "execute_result"
    }
   ],
   "source": [
    "model2.load_data()\n",
    "tmp = model2.train.loc[2]\n",
    "a = tmp.accepted_function\n",
    "b=tmp.rejected_function\n",
    "c = tmp.text\n",
    "c = '.'.join(c)\n",
    "d = tmp.accepted_product\n",
    "dd = tmp.rejected_product\n",
    "print(tmp)\n",
    "\n",
    "\n",
    "model2.train = pd.DataFrame({'text':[[c]],\n",
    "                                      'accepted_function':[a],\n",
    "                                      'rejected_function':[b],\n",
    "                                      'accepted_product':[d],\n",
    "                                      'rejected_product':[dd]})\n",
    "\n",
    "model2.train"
   ]
  },
  {
   "cell_type": "code",
   "execution_count": 28,
   "metadata": {},
   "outputs": [
    {
     "name": "stderr",
     "output_type": "stream",
     "text": [
      "/Users/trokhymovych/Documents/PROJECTS/deloitte/BertPreprocess.py:51: SettingWithCopyWarning: \n",
      "A value is trying to be set on a copy of a slice from a DataFrame.\n",
      "Try using .loc[row_indexer,col_indexer] = value instead\n",
      "\n",
      "See the caveats in the documentation: https://pandas.pydata.org/pandas-docs/stable/user_guide/indexing.html#returning-a-view-versus-a-copy\n",
      "  self.train[col] = self.train[col].apply(self._replace_nan)\n",
      "[INFO] The trainset is processed.\n",
      "INFO:__name__:[INFO] The trainset is processed.\n"
     ]
    }
   ],
   "source": [
    "model2.process_text()"
   ]
  },
  {
   "cell_type": "code",
   "execution_count": 29,
   "metadata": {},
   "outputs": [
    {
     "data": {
      "text/html": [
       "<div>\n",
       "<style scoped>\n",
       "    .dataframe tbody tr th:only-of-type {\n",
       "        vertical-align: middle;\n",
       "    }\n",
       "\n",
       "    .dataframe tbody tr th {\n",
       "        vertical-align: top;\n",
       "    }\n",
       "\n",
       "    .dataframe thead th {\n",
       "        text-align: right;\n",
       "    }\n",
       "</style>\n",
       "<table border=\"1\" class=\"dataframe\">\n",
       "  <thead>\n",
       "    <tr style=\"text-align: right;\">\n",
       "      <th></th>\n",
       "      <th>text</th>\n",
       "      <th>accepted_function</th>\n",
       "      <th>rejected_function</th>\n",
       "      <th>accepted_product</th>\n",
       "      <th>rejected_product</th>\n",
       "    </tr>\n",
       "  </thead>\n",
       "  <tbody>\n",
       "    <tr>\n",
       "      <th>0</th>\n",
       "      <td>ams media group fully accredited independent m...</td>\n",
       "      <td>general accounting, auditing, book keeping act...</td>\n",
       "      <td>manufacture, production, processing, distribut...</td>\n",
       "      <td></td>\n",
       "      <td></td>\n",
       "    </tr>\n",
       "  </tbody>\n",
       "</table>\n",
       "</div>"
      ],
      "text/plain": [
       "                                                text  \\\n",
       "0  ams media group fully accredited independent m...   \n",
       "\n",
       "                                   accepted_function  \\\n",
       "0  general accounting, auditing, book keeping act...   \n",
       "\n",
       "                                   rejected_function accepted_product  \\\n",
       "0  manufacture, production, processing, distribut...                    \n",
       "\n",
       "  rejected_product  \n",
       "0                   "
      ]
     },
     "execution_count": 29,
     "metadata": {},
     "output_type": "execute_result"
    }
   ],
   "source": [
    "model2.train"
   ]
  },
  {
   "cell_type": "code",
   "execution_count": 30,
   "metadata": {},
   "outputs": [
    {
     "data": {
      "text/html": [
       "<div>\n",
       "<style scoped>\n",
       "    .dataframe tbody tr th:only-of-type {\n",
       "        vertical-align: middle;\n",
       "    }\n",
       "\n",
       "    .dataframe tbody tr th {\n",
       "        vertical-align: top;\n",
       "    }\n",
       "\n",
       "    .dataframe thead th {\n",
       "        text-align: right;\n",
       "    }\n",
       "</style>\n",
       "<table border=\"1\" class=\"dataframe\">\n",
       "  <thead>\n",
       "    <tr style=\"text-align: right;\">\n",
       "      <th></th>\n",
       "      <th>af_0</th>\n",
       "      <th>af_1</th>\n",
       "      <th>af_2</th>\n",
       "      <th>af_3</th>\n",
       "      <th>af_4</th>\n",
       "      <th>af_5</th>\n",
       "      <th>af_6</th>\n",
       "      <th>af_7</th>\n",
       "      <th>af_8</th>\n",
       "      <th>af_9</th>\n",
       "      <th>...</th>\n",
       "      <th>tt2_758</th>\n",
       "      <th>tt2_759</th>\n",
       "      <th>tt2_760</th>\n",
       "      <th>tt2_761</th>\n",
       "      <th>tt2_762</th>\n",
       "      <th>tt2_763</th>\n",
       "      <th>tt2_764</th>\n",
       "      <th>tt2_765</th>\n",
       "      <th>tt2_766</th>\n",
       "      <th>tt2_767</th>\n",
       "    </tr>\n",
       "  </thead>\n",
       "  <tbody>\n",
       "    <tr>\n",
       "      <th>0</th>\n",
       "      <td>-0.545497</td>\n",
       "      <td>0.530825</td>\n",
       "      <td>-0.243328</td>\n",
       "      <td>-0.259352</td>\n",
       "      <td>-0.477612</td>\n",
       "      <td>0.593028</td>\n",
       "      <td>0.332686</td>\n",
       "      <td>-0.23006</td>\n",
       "      <td>-0.740062</td>\n",
       "      <td>-1.251289</td>\n",
       "      <td>...</td>\n",
       "      <td>0.346034</td>\n",
       "      <td>-0.436435</td>\n",
       "      <td>-1.035008</td>\n",
       "      <td>-0.521784</td>\n",
       "      <td>0.800145</td>\n",
       "      <td>-0.388197</td>\n",
       "      <td>-0.396973</td>\n",
       "      <td>0.20911</td>\n",
       "      <td>0.363553</td>\n",
       "      <td>0.264131</td>\n",
       "    </tr>\n",
       "  </tbody>\n",
       "</table>\n",
       "<p>1 rows × 4608 columns</p>\n",
       "</div>"
      ],
      "text/plain": [
       "       af_0      af_1      af_2      af_3      af_4      af_5      af_6  \\\n",
       "0 -0.545497  0.530825 -0.243328 -0.259352 -0.477612  0.593028  0.332686   \n",
       "\n",
       "      af_7      af_8      af_9  ...   tt2_758   tt2_759   tt2_760   tt2_761  \\\n",
       "0 -0.23006 -0.740062 -1.251289  ...  0.346034 -0.436435 -1.035008 -0.521784   \n",
       "\n",
       "    tt2_762   tt2_763   tt2_764  tt2_765   tt2_766   tt2_767  \n",
       "0  0.800145 -0.388197 -0.396973  0.20911  0.363553  0.264131  \n",
       "\n",
       "[1 rows x 4608 columns]"
      ]
     },
     "execution_count": 30,
     "metadata": {},
     "output_type": "execute_result"
    }
   ],
   "source": [
    "emb = model3.model_encode(model2.train.values[0,0],\n",
    "                             model2.train.values[0,1],\n",
    "                             model2.train.values[0,2],\n",
    "                             model2.train.values[0,3],\n",
    "                             model2.train.values[0,4])\n",
    "emb"
   ]
  },
  {
   "cell_type": "code",
   "execution_count": 40,
   "metadata": {},
   "outputs": [
    {
     "data": {
      "text/plain": [
       "af_0      -0.243054\n",
       "af_1      -0.926899\n",
       "af_2      -0.361463\n",
       "af_3       1.043820\n",
       "af_4      -0.167944\n",
       "             ...   \n",
       "tt2_763   -0.889591\n",
       "tt2_764   -0.587829\n",
       "tt2_765    0.435578\n",
       "tt2_766    0.147798\n",
       "tt2_767   -0.938173\n",
       "Name: 3, Length: 4608, dtype: float64"
      ]
     },
     "execution_count": 40,
     "metadata": {},
     "output_type": "execute_result"
    }
   ],
   "source": [
    "rf_model.X.loc[3]"
   ]
  },
  {
   "cell_type": "code",
   "execution_count": null,
   "metadata": {},
   "outputs": [],
   "source": []
  },
  {
   "cell_type": "code",
   "execution_count": null,
   "metadata": {},
   "outputs": [],
   "source": []
  },
  {
   "cell_type": "code",
   "execution_count": 38,
   "metadata": {
    "scrolled": true
   },
   "outputs": [
    {
     "data": {
      "text/html": [
       "<div>\n",
       "<style scoped>\n",
       "    .dataframe tbody tr th:only-of-type {\n",
       "        vertical-align: middle;\n",
       "    }\n",
       "\n",
       "    .dataframe tbody tr th {\n",
       "        vertical-align: top;\n",
       "    }\n",
       "\n",
       "    .dataframe thead th {\n",
       "        text-align: right;\n",
       "    }\n",
       "</style>\n",
       "<table border=\"1\" class=\"dataframe\">\n",
       "  <thead>\n",
       "    <tr style=\"text-align: right;\">\n",
       "      <th></th>\n",
       "      <th>id</th>\n",
       "      <th>html</th>\n",
       "      <th>text</th>\n",
       "      <th>keywords</th>\n",
       "      <th>accepted_function</th>\n",
       "      <th>rejected_function</th>\n",
       "      <th>accepted_product</th>\n",
       "      <th>rejected_product</th>\n",
       "      <th>target</th>\n",
       "    </tr>\n",
       "  </thead>\n",
       "  <tbody>\n",
       "    <tr>\n",
       "      <th>0</th>\n",
       "      <td>b811ea46-1bc5-4a18-a64c-7504c382da44</td>\n",
       "      <td>[b'&lt;!DOCTYPE html&gt;\\n&lt;html lang=\"en\" class=\"pre...</td>\n",
       "      <td>[Release\\n2020\\n2019\\n2018\\n2017\\n2020\\n2019\\n...</td>\n",
       "      <td>[tools, services, projects, incubates, investm...</td>\n",
       "      <td>accounting, bookeeping, auditing, finance, HR,...</td>\n",
       "      <td>manufacture production processing assembly, re...</td>\n",
       "      <td></td>\n",
       "      <td></td>\n",
       "      <td>2</td>\n",
       "    </tr>\n",
       "    <tr>\n",
       "      <th>1</th>\n",
       "      <td>b5e3f6d4-30bc-443c-a9d6-8ed41d5c33b3</td>\n",
       "      <td>[b'&lt;!DOCTYPE html&gt;\\n&lt;html lang=\"en-US\"&gt;\\n  &lt;he...</td>\n",
       "      <td>[SAP Integrated Business Planning (IBP)\\nSAP A...</td>\n",
       "      <td>[budgeting, decision, cycles, closing, Simplif...</td>\n",
       "      <td>IT consultancy, IT support services, IT manage...</td>\n",
       "      <td>distribution, sale, trade, wholesale, retail s...</td>\n",
       "      <td></td>\n",
       "      <td></td>\n",
       "      <td>2</td>\n",
       "    </tr>\n",
       "    <tr>\n",
       "      <th>2</th>\n",
       "      <td>997ae1ab-93c4-45a9-9bd0-a49b2b952f1f</td>\n",
       "      <td>[b'&lt;!doctype html&gt;\\n&lt;html lang=\"en-US\"&gt;\\n&lt;head...</td>\n",
       "      <td>[facebook\\ntwitter\\nlinkedin\\ninstagram\\nWelco...</td>\n",
       "      <td>[]</td>\n",
       "      <td>general accounting, auditing, book keeping act...</td>\n",
       "      <td>manufacture, production, processing, distribut...</td>\n",
       "      <td></td>\n",
       "      <td></td>\n",
       "      <td>1</td>\n",
       "    </tr>\n",
       "    <tr>\n",
       "      <th>3</th>\n",
       "      <td>6890f2f1-bdc1-48cb-bf7f-00944eb37e77</td>\n",
       "      <td>[b'&lt;?xml version=\"1.0\" encoding=\"iso-8859-1\"?&gt;...</td>\n",
       "      <td>[ANDERSON BUSINESS TRAVEL\\nSpecialist Independ...</td>\n",
       "      <td>[provide, service, financial, arranging, trave...</td>\n",
       "      <td>insurance brokerage, insurance agents, travel ...</td>\n",
       "      <td>software development, wholesale, retail sale, ...</td>\n",
       "      <td></td>\n",
       "      <td></td>\n",
       "      <td>2</td>\n",
       "    </tr>\n",
       "    <tr>\n",
       "      <th>4</th>\n",
       "      <td>74a95f04-e440-4af0-850a-eec5a44ba397</td>\n",
       "      <td>[b'\\r\\n\\r\\n&lt;!DOCTYPE html&gt;\\r\\n\\r\\n&lt;html xmlns=...</td>\n",
       "      <td>[Amari Ireland Ltd\\nStandards\\nPeople\\nQuality...</td>\n",
       "      <td>[independent, centre, forms, copper, bronze, s...</td>\n",
       "      <td>sales agent and sales representative, product ...</td>\n",
       "      <td>manufacture, production, processing and retail...</td>\n",
       "      <td>product, motor vehicles, buses and trucks, mot...</td>\n",
       "      <td></td>\n",
       "      <td>1</td>\n",
       "    </tr>\n",
       "    <tr>\n",
       "      <th>...</th>\n",
       "      <td>...</td>\n",
       "      <td>...</td>\n",
       "      <td>...</td>\n",
       "      <td>...</td>\n",
       "      <td>...</td>\n",
       "      <td>...</td>\n",
       "      <td>...</td>\n",
       "      <td>...</td>\n",
       "      <td>...</td>\n",
       "    </tr>\n",
       "    <tr>\n",
       "      <th>15510</th>\n",
       "      <td>0ea4fb41-d5d8-4086-aceb-ced6665562c1</td>\n",
       "      <td>[b'&lt;!DOCTYPE html&gt;\\n&lt;html&gt;\\n&lt;head&gt;\\n&lt;meta http...</td>\n",
       "      <td>[About Thule Group\\nStrategic building blocks\\...</td>\n",
       "      <td>[enthusiasts, duffel, chain, reports, Industry...</td>\n",
       "      <td>general accounting, auditing, book keeping act...</td>\n",
       "      <td>manufacture, production, processing, distribut...</td>\n",
       "      <td></td>\n",
       "      <td></td>\n",
       "      <td>1</td>\n",
       "    </tr>\n",
       "    <tr>\n",
       "      <th>15511</th>\n",
       "      <td>7563c3e1-0ab0-415a-b565-b8f71e097014</td>\n",
       "      <td>[b'\\xef\\xbb\\xbf&lt;!doctype html&gt;\\r\\n&lt;html&gt;\\r\\n&lt;h...</td>\n",
       "      <td>[Solutions\\nEnterprise\\nBank\\nConstruction\\nSc...</td>\n",
       "      <td>[]</td>\n",
       "      <td>accounting, bookeeping, auditing, finance, HR,...</td>\n",
       "      <td>manufacture production processing assembly, re...</td>\n",
       "      <td></td>\n",
       "      <td></td>\n",
       "      <td>1</td>\n",
       "    </tr>\n",
       "    <tr>\n",
       "      <th>15512</th>\n",
       "      <td>9ed7c052-8e38-4e89-a0df-88fadeef66ab</td>\n",
       "      <td>[b'&lt;!DOCTYPE html&gt;\\n&lt;html lang=\"en-US\"&gt;\\n&lt;head...</td>\n",
       "      <td>[[wpml_language_switcher]\\nSearch\\nCompany\\nCo...</td>\n",
       "      <td>[transfusion, connectors, Infusion, blood, pre...</td>\n",
       "      <td>Management consultancy, business management, s...</td>\n",
       "      <td>Manufacture, production, research, development...</td>\n",
       "      <td></td>\n",
       "      <td></td>\n",
       "      <td>1</td>\n",
       "    </tr>\n",
       "    <tr>\n",
       "      <th>15513</th>\n",
       "      <td>628a2283-3196-46b1-8968-9518d7a877f2</td>\n",
       "      <td>[b'&lt;!DOCTYPE html PUBLIC \"-//W3C//DTD XHTML 1....</td>\n",
       "      <td>[HOME About AIT\\nAIT is an integrated logistic...</td>\n",
       "      <td>[forwarding(Railroad, Customs, domestic, trade...</td>\n",
       "      <td>management consultancy, business and strategic...</td>\n",
       "      <td>manufacture and production activities, researc...</td>\n",
       "      <td></td>\n",
       "      <td></td>\n",
       "      <td>1</td>\n",
       "    </tr>\n",
       "    <tr>\n",
       "      <th>15514</th>\n",
       "      <td>924c39d3-e66f-43ff-8b30-1d003bc71ab0</td>\n",
       "      <td>[b'&lt;!DOCTYPE html&gt;\\n&lt;html lang=\"en\"&gt;\\n&lt;head&gt;\\n...</td>\n",
       "      <td>[Contact\\nLocations\\nExtranet\\nSkip navigation...</td>\n",
       "      <td>[shading, tools, Poilicy, Climate, Control, Sm...</td>\n",
       "      <td>Manufacture, production, development, Design, ...</td>\n",
       "      <td>Retail, distribution and wholesale, Leasing, h...</td>\n",
       "      <td>product, Air conditioning products, Cooling eq...</td>\n",
       "      <td>product, Metal products and furniture, Batteri...</td>\n",
       "      <td>1</td>\n",
       "    </tr>\n",
       "  </tbody>\n",
       "</table>\n",
       "<p>15515 rows × 9 columns</p>\n",
       "</div>"
      ],
      "text/plain": [
       "                                         id  \\\n",
       "0      b811ea46-1bc5-4a18-a64c-7504c382da44   \n",
       "1      b5e3f6d4-30bc-443c-a9d6-8ed41d5c33b3   \n",
       "2      997ae1ab-93c4-45a9-9bd0-a49b2b952f1f   \n",
       "3      6890f2f1-bdc1-48cb-bf7f-00944eb37e77   \n",
       "4      74a95f04-e440-4af0-850a-eec5a44ba397   \n",
       "...                                     ...   \n",
       "15510  0ea4fb41-d5d8-4086-aceb-ced6665562c1   \n",
       "15511  7563c3e1-0ab0-415a-b565-b8f71e097014   \n",
       "15512  9ed7c052-8e38-4e89-a0df-88fadeef66ab   \n",
       "15513  628a2283-3196-46b1-8968-9518d7a877f2   \n",
       "15514  924c39d3-e66f-43ff-8b30-1d003bc71ab0   \n",
       "\n",
       "                                                    html  \\\n",
       "0      [b'<!DOCTYPE html>\\n<html lang=\"en\" class=\"pre...   \n",
       "1      [b'<!DOCTYPE html>\\n<html lang=\"en-US\">\\n  <he...   \n",
       "2      [b'<!doctype html>\\n<html lang=\"en-US\">\\n<head...   \n",
       "3      [b'<?xml version=\"1.0\" encoding=\"iso-8859-1\"?>...   \n",
       "4      [b'\\r\\n\\r\\n<!DOCTYPE html>\\r\\n\\r\\n<html xmlns=...   \n",
       "...                                                  ...   \n",
       "15510  [b'<!DOCTYPE html>\\n<html>\\n<head>\\n<meta http...   \n",
       "15511  [b'\\xef\\xbb\\xbf<!doctype html>\\r\\n<html>\\r\\n<h...   \n",
       "15512  [b'<!DOCTYPE html>\\n<html lang=\"en-US\">\\n<head...   \n",
       "15513  [b'<!DOCTYPE html PUBLIC \"-//W3C//DTD XHTML 1....   \n",
       "15514  [b'<!DOCTYPE html>\\n<html lang=\"en\">\\n<head>\\n...   \n",
       "\n",
       "                                                    text  \\\n",
       "0      [Release\\n2020\\n2019\\n2018\\n2017\\n2020\\n2019\\n...   \n",
       "1      [SAP Integrated Business Planning (IBP)\\nSAP A...   \n",
       "2      [facebook\\ntwitter\\nlinkedin\\ninstagram\\nWelco...   \n",
       "3      [ANDERSON BUSINESS TRAVEL\\nSpecialist Independ...   \n",
       "4      [Amari Ireland Ltd\\nStandards\\nPeople\\nQuality...   \n",
       "...                                                  ...   \n",
       "15510  [About Thule Group\\nStrategic building blocks\\...   \n",
       "15511  [Solutions\\nEnterprise\\nBank\\nConstruction\\nSc...   \n",
       "15512  [[wpml_language_switcher]\\nSearch\\nCompany\\nCo...   \n",
       "15513  [HOME About AIT\\nAIT is an integrated logistic...   \n",
       "15514  [Contact\\nLocations\\nExtranet\\nSkip navigation...   \n",
       "\n",
       "                                                keywords  \\\n",
       "0      [tools, services, projects, incubates, investm...   \n",
       "1      [budgeting, decision, cycles, closing, Simplif...   \n",
       "2                                                     []   \n",
       "3      [provide, service, financial, arranging, trave...   \n",
       "4      [independent, centre, forms, copper, bronze, s...   \n",
       "...                                                  ...   \n",
       "15510  [enthusiasts, duffel, chain, reports, Industry...   \n",
       "15511                                                 []   \n",
       "15512  [transfusion, connectors, Infusion, blood, pre...   \n",
       "15513  [forwarding(Railroad, Customs, domestic, trade...   \n",
       "15514  [shading, tools, Poilicy, Climate, Control, Sm...   \n",
       "\n",
       "                                       accepted_function  \\\n",
       "0      accounting, bookeeping, auditing, finance, HR,...   \n",
       "1      IT consultancy, IT support services, IT manage...   \n",
       "2      general accounting, auditing, book keeping act...   \n",
       "3      insurance brokerage, insurance agents, travel ...   \n",
       "4      sales agent and sales representative, product ...   \n",
       "...                                                  ...   \n",
       "15510  general accounting, auditing, book keeping act...   \n",
       "15511  accounting, bookeeping, auditing, finance, HR,...   \n",
       "15512  Management consultancy, business management, s...   \n",
       "15513  management consultancy, business and strategic...   \n",
       "15514  Manufacture, production, development, Design, ...   \n",
       "\n",
       "                                       rejected_function  \\\n",
       "0      manufacture production processing assembly, re...   \n",
       "1      distribution, sale, trade, wholesale, retail s...   \n",
       "2      manufacture, production, processing, distribut...   \n",
       "3      software development, wholesale, retail sale, ...   \n",
       "4      manufacture, production, processing and retail...   \n",
       "...                                                  ...   \n",
       "15510  manufacture, production, processing, distribut...   \n",
       "15511  manufacture production processing assembly, re...   \n",
       "15512  Manufacture, production, research, development...   \n",
       "15513  manufacture and production activities, researc...   \n",
       "15514  Retail, distribution and wholesale, Leasing, h...   \n",
       "\n",
       "                                        accepted_product  \\\n",
       "0                                                          \n",
       "1                                                          \n",
       "2                                                          \n",
       "3                                                          \n",
       "4      product, motor vehicles, buses and trucks, mot...   \n",
       "...                                                  ...   \n",
       "15510                                                      \n",
       "15511                                                      \n",
       "15512                                                      \n",
       "15513                                                      \n",
       "15514  product, Air conditioning products, Cooling eq...   \n",
       "\n",
       "                                        rejected_product  target  \n",
       "0                                                              2  \n",
       "1                                                              2  \n",
       "2                                                              1  \n",
       "3                                                              2  \n",
       "4                                                              1  \n",
       "...                                                  ...     ...  \n",
       "15510                                                          1  \n",
       "15511                                                          1  \n",
       "15512                                                          1  \n",
       "15513                                                          1  \n",
       "15514  product, Metal products and furniture, Batteri...       1  \n",
       "\n",
       "[15515 rows x 9 columns]"
      ]
     },
     "execution_count": 38,
     "metadata": {},
     "output_type": "execute_result"
    }
   ],
   "source": [
    "model2.train"
   ]
  },
  {
   "cell_type": "code",
   "execution_count": null,
   "metadata": {},
   "outputs": [],
   "source": []
  },
  {
   "cell_type": "code",
   "execution_count": null,
   "metadata": {},
   "outputs": [],
   "source": []
  },
  {
   "cell_type": "code",
   "execution_count": null,
   "metadata": {},
   "outputs": [],
   "source": []
  },
  {
   "cell_type": "code",
   "execution_count": null,
   "metadata": {},
   "outputs": [],
   "source": []
  },
  {
   "cell_type": "code",
   "execution_count": null,
   "metadata": {},
   "outputs": [],
   "source": []
  },
  {
   "cell_type": "code",
   "execution_count": 1,
   "metadata": {},
   "outputs": [],
   "source": [
    "from RandomForestModel import *"
   ]
  },
  {
   "cell_type": "code",
   "execution_count": 2,
   "metadata": {},
   "outputs": [],
   "source": [
    "rf_model = RandomForestModel()"
   ]
  },
  {
   "cell_type": "code",
   "execution_count": 3,
   "metadata": {},
   "outputs": [],
   "source": [
    "rf_model.load_data()"
   ]
  },
  {
   "cell_type": "code",
   "execution_count": 4,
   "metadata": {},
   "outputs": [],
   "source": [
    "rf_model.model_fit()"
   ]
  },
  {
   "cell_type": "code",
   "execution_count": 5,
   "metadata": {},
   "outputs": [],
   "source": [
    "rf_model.save_models()"
   ]
  },
  {
   "cell_type": "code",
   "execution_count": 6,
   "metadata": {},
   "outputs": [],
   "source": [
    "rf_model.load_models()"
   ]
  },
  {
   "cell_type": "code",
   "execution_count": 7,
   "metadata": {},
   "outputs": [
    {
     "data": {
      "text/plain": [
       "2"
      ]
     },
     "execution_count": 7,
     "metadata": {},
     "output_type": "execute_result"
    }
   ],
   "source": [
    "rf_model.model_predict_one(rf_model.X.loc[3:3])"
   ]
  },
  {
   "cell_type": "code",
   "execution_count": 8,
   "metadata": {},
   "outputs": [
    {
     "data": {
      "text/html": [
       "<div>\n",
       "<style scoped>\n",
       "    .dataframe tbody tr th:only-of-type {\n",
       "        vertical-align: middle;\n",
       "    }\n",
       "\n",
       "    .dataframe tbody tr th {\n",
       "        vertical-align: top;\n",
       "    }\n",
       "\n",
       "    .dataframe thead th {\n",
       "        text-align: right;\n",
       "    }\n",
       "</style>\n",
       "<table border=\"1\" class=\"dataframe\">\n",
       "  <thead>\n",
       "    <tr style=\"text-align: right;\">\n",
       "      <th></th>\n",
       "      <th>af_0</th>\n",
       "      <th>af_1</th>\n",
       "      <th>af_2</th>\n",
       "      <th>af_3</th>\n",
       "      <th>af_4</th>\n",
       "      <th>af_5</th>\n",
       "      <th>af_6</th>\n",
       "      <th>af_7</th>\n",
       "      <th>af_8</th>\n",
       "      <th>af_9</th>\n",
       "      <th>...</th>\n",
       "      <th>tt2_758</th>\n",
       "      <th>tt2_759</th>\n",
       "      <th>tt2_760</th>\n",
       "      <th>tt2_761</th>\n",
       "      <th>tt2_762</th>\n",
       "      <th>tt2_763</th>\n",
       "      <th>tt2_764</th>\n",
       "      <th>tt2_765</th>\n",
       "      <th>tt2_766</th>\n",
       "      <th>tt2_767</th>\n",
       "    </tr>\n",
       "  </thead>\n",
       "  <tbody>\n",
       "    <tr>\n",
       "      <th>3</th>\n",
       "      <td>-0.2235</td>\n",
       "      <td>-0.630351</td>\n",
       "      <td>0.358176</td>\n",
       "      <td>0.172793</td>\n",
       "      <td>0.354485</td>\n",
       "      <td>0.856969</td>\n",
       "      <td>-0.38981</td>\n",
       "      <td>1.043011</td>\n",
       "      <td>-0.822293</td>\n",
       "      <td>-0.58963</td>\n",
       "      <td>...</td>\n",
       "      <td>0.104304</td>\n",
       "      <td>-0.42839</td>\n",
       "      <td>-0.279306</td>\n",
       "      <td>-1.236678</td>\n",
       "      <td>-0.188005</td>\n",
       "      <td>-0.123643</td>\n",
       "      <td>-0.511064</td>\n",
       "      <td>0.83147</td>\n",
       "      <td>0.525614</td>\n",
       "      <td>-0.428745</td>\n",
       "    </tr>\n",
       "  </tbody>\n",
       "</table>\n",
       "<p>1 rows × 4608 columns</p>\n",
       "</div>"
      ],
      "text/plain": [
       "     af_0      af_1      af_2      af_3      af_4      af_5     af_6  \\\n",
       "3 -0.2235 -0.630351  0.358176  0.172793  0.354485  0.856969 -0.38981   \n",
       "\n",
       "       af_7      af_8     af_9  ...   tt2_758  tt2_759   tt2_760   tt2_761  \\\n",
       "3  1.043011 -0.822293 -0.58963  ...  0.104304 -0.42839 -0.279306 -1.236678   \n",
       "\n",
       "    tt2_762   tt2_763   tt2_764  tt2_765   tt2_766   tt2_767  \n",
       "3 -0.188005 -0.123643 -0.511064  0.83147  0.525614 -0.428745  \n",
       "\n",
       "[1 rows x 4608 columns]"
      ]
     },
     "execution_count": 8,
     "metadata": {},
     "output_type": "execute_result"
    }
   ],
   "source": [
    "rf_model.X.loc[3:3]"
   ]
  },
  {
   "cell_type": "code",
   "execution_count": null,
   "metadata": {},
   "outputs": [],
   "source": []
  },
  {
   "cell_type": "code",
   "execution_count": 1,
   "metadata": {},
   "outputs": [
    {
     "name": "stderr",
     "output_type": "stream",
     "text": [
      "/Users/trokhymovych/.local/lib/python3.7/site-packages/tensorflow/python/framework/dtypes.py:526: FutureWarning: Passing (type, 1) or '1type' as a synonym of type is deprecated; in a future version of numpy, it will be understood as (type, (1,)) / '(1,)type'.\n",
      "  _np_qint8 = np.dtype([(\"qint8\", np.int8, 1)])\n",
      "/Users/trokhymovych/.local/lib/python3.7/site-packages/tensorflow/python/framework/dtypes.py:527: FutureWarning: Passing (type, 1) or '1type' as a synonym of type is deprecated; in a future version of numpy, it will be understood as (type, (1,)) / '(1,)type'.\n",
      "  _np_quint8 = np.dtype([(\"quint8\", np.uint8, 1)])\n",
      "/Users/trokhymovych/.local/lib/python3.7/site-packages/tensorflow/python/framework/dtypes.py:528: FutureWarning: Passing (type, 1) or '1type' as a synonym of type is deprecated; in a future version of numpy, it will be understood as (type, (1,)) / '(1,)type'.\n",
      "  _np_qint16 = np.dtype([(\"qint16\", np.int16, 1)])\n",
      "/Users/trokhymovych/.local/lib/python3.7/site-packages/tensorflow/python/framework/dtypes.py:529: FutureWarning: Passing (type, 1) or '1type' as a synonym of type is deprecated; in a future version of numpy, it will be understood as (type, (1,)) / '(1,)type'.\n",
      "  _np_quint16 = np.dtype([(\"quint16\", np.uint16, 1)])\n",
      "/Users/trokhymovych/.local/lib/python3.7/site-packages/tensorflow/python/framework/dtypes.py:530: FutureWarning: Passing (type, 1) or '1type' as a synonym of type is deprecated; in a future version of numpy, it will be understood as (type, (1,)) / '(1,)type'.\n",
      "  _np_qint32 = np.dtype([(\"qint32\", np.int32, 1)])\n",
      "/Users/trokhymovych/.local/lib/python3.7/site-packages/tensorflow/python/framework/dtypes.py:535: FutureWarning: Passing (type, 1) or '1type' as a synonym of type is deprecated; in a future version of numpy, it will be understood as (type, (1,)) / '(1,)type'.\n",
      "  np_resource = np.dtype([(\"resource\", np.ubyte, 1)])\n"
     ]
    }
   ],
   "source": [
    "from ModelProd import *"
   ]
  },
  {
   "cell_type": "code",
   "execution_count": 2,
   "metadata": {},
   "outputs": [],
   "source": [
    "model = ModelProd()"
   ]
  },
  {
   "cell_type": "code",
   "execution_count": 3,
   "metadata": {},
   "outputs": [],
   "source": [
    "model.load_pretrained()"
   ]
  },
  {
   "cell_type": "code",
   "execution_count": 6,
   "metadata": {},
   "outputs": [],
   "source": [
    "text = '''\n",
    "ABTtravel.co.uk ~ Anderson Business Travel Ltd ~ Specialist Independent Business Travel Agent.ANDERSON BUSINESS TRAVEL.Specialist Independent Business Travel Agent.Tel: 01932 222002 ~ Email: info@abttravel.co.uk.|.Home |.News |.Self Check-in |.Services |.Useful Links |.ViewTrip™ |.We have been operating as an independent travel agency for 35.years. As we are a small company we offer our clients a very personal service,.arranging all aspects of corporate travel on their behalf..We always strive to give the most professional service..Contact us at:.Anderson Business Travel.Shepperton Marina.Felix Lane, Shepperton.Middlesex.TW17 8NS.Tel: 01932 222002.Fax: 01932 227249.Email:info@abttravel.co.uk.Book with Confidence. We are a Member of ABTA which means you have the benefit of ABTA's assistance and Code of Conduct. We provide financial protection for your money when you buy a package holiday. If you buy other travel arrangements such as accommodation only this protection doesn't apply..Find out more ABTA Member 82212.Financial Protection.|.About us |.Contact us |.Staff |.HCUK |.Wed 1st Jul 2020 18:25:10 BST.Copyright © 2020 Anderson Business Travel Ltd..All Rights Reserved. E&OE\n",
    "'''\n",
    "\n",
    "af = \"\"\"insurance brokerage, insurance agents, travel operator, travel agency, ticket booking agents, business support services, administrative support services, back office support services, commission agents, third party agency services\"\"\"\n",
    "\n",
    "rf = \"\"\"software development, wholesale, retail sale, trade, import, export, manufacture, production, design, freight forwarding, tour operat, ownership and operation of hotels and resorts, event management services, ownership of fleets\"\"\""
   ]
  },
  {
   "cell_type": "code",
   "execution_count": 7,
   "metadata": {},
   "outputs": [
    {
     "name": "stderr",
     "output_type": "stream",
     "text": [
      "[INFO] The trainset is processed.\n",
      "INFO:__name__:[INFO] The trainset is processed.\n"
     ]
    },
    {
     "data": {
      "text/plain": [
       "2"
      ]
     },
     "execution_count": 7,
     "metadata": {},
     "output_type": "execute_result"
    }
   ],
   "source": [
    "model.predict(text,af,rf,'','')"
   ]
  },
  {
   "cell_type": "code",
   "execution_count": null,
   "metadata": {},
   "outputs": [],
   "source": []
  },
  {
   "cell_type": "code",
   "execution_count": null,
   "metadata": {},
   "outputs": [],
   "source": []
  },
  {
   "cell_type": "code",
   "execution_count": null,
   "metadata": {},
   "outputs": [],
   "source": []
  },
  {
   "cell_type": "code",
   "execution_count": null,
   "metadata": {},
   "outputs": [],
   "source": [
    "import pandas as pd\n",
    "import cProfile, pstats, io\n",
    "import os\n",
    "\n",
    "\n",
    "pr = cProfile.Profile()\n",
    "pr.enable()\n",
    "\n",
    "#### script that will be analized ###########\n",
    "#### Script includes loading models and predicting random 100 examples\n",
    "\n",
    "\n",
    "\n",
    "\n",
    "\n",
    "#############################################\n",
    "\n",
    "pr.disable()\n",
    "s = io.StringIO()\n",
    "sortby = 'cumulative'\n",
    "ps = pstats.Stats(pr, stream=s).sort_stats(sortby)\n",
    "ps.print_stats()\n",
    "\n",
    "# dumping results\n",
    "filename = 'output.pstats'\n",
    "pr.dump_stats(filename)\n",
    "\n",
    "## getting dataframe from results\n",
    "data=[]\n",
    "started=False\n",
    "\n",
    "for l in s.getvalue().split(\"\\n\"):\n",
    "    if not started:\n",
    "        if l==\"   ncalls  tottime  percall  cumtime  percall filename:lineno(function)\":\n",
    "            started=True\n",
    "            data.append(l)\n",
    "    else:\n",
    "        data.append(l)\n",
    "content=[]\n",
    "for l in data:\n",
    "    fs = l.find(\" \",8)\n",
    "    content.append(tuple([l[0:fs] , l[fs:fs+9], l[fs+9:fs+18], l[fs+18:fs+27], l[fs+27:fs+36], l[fs+36:]]))\n",
    "prof_df = pd.DataFrame(content[1:], columns=['ncalls', 'tottime', 'percall', 'cumtime', 'percall2', 'filename:lineno(function)'])\n",
    "\n",
    "os.system('gprof2dot -n 2  -f pstats output.pstats | dot -Tpng -o output.png')\n",
    "\n",
    "prof_df = prof_df.sort_values('percall', ascending = False, inplace = True)\n",
    "\n",
    "prof_df.to_csv('profiling_module.csv', index = False)"
   ]
  },
  {
   "cell_type": "code",
   "execution_count": null,
   "metadata": {},
   "outputs": [],
   "source": []
  },
  {
   "cell_type": "code",
   "execution_count": 4,
   "metadata": {},
   "outputs": [
    {
     "name": "stderr",
     "output_type": "stream",
     "text": [
      "[INFO] Data loaded\n"
     ]
    },
    {
     "name": "stdout",
     "output_type": "stream",
     "text": [
      "7747\n",
      "1022\n",
      "7681\n",
      "6848\n",
      "13344\n",
      "10982\n",
      "14169\n",
      "7038\n",
      "12736\n",
      "13948\n",
      "8442\n",
      "11735\n",
      "1414\n",
      "12170\n",
      "1828\n",
      "4641\n",
      "14119\n",
      "14083\n",
      "10477\n",
      "10866\n",
      "14680\n",
      "11212\n",
      "15230\n",
      "9224\n",
      "7220\n",
      "8226\n",
      "9395\n",
      "529\n",
      "592\n",
      "9008\n",
      "2139\n",
      "10983\n",
      "10476\n",
      "514\n",
      "10678\n",
      "8277\n",
      "13844\n",
      "13988\n",
      "9949\n",
      "3186\n",
      "6825\n",
      "11823\n",
      "6772\n",
      "9071\n",
      "202\n",
      "5300\n",
      "6207\n",
      "6391\n",
      "2632\n",
      "3613\n",
      "6181\n",
      "14691\n",
      "11918\n",
      "13572\n",
      "14022\n",
      "5804\n",
      "9362\n",
      "9402\n",
      "9701\n",
      "6108\n",
      "11768\n",
      "4019\n",
      "5274\n",
      "10085\n",
      "6518\n",
      "1171\n",
      "13745\n",
      "293\n",
      "4445\n",
      "11663\n",
      "14207\n",
      "8456\n",
      "5932\n",
      "2301\n",
      "15044\n",
      "6572\n",
      "2057\n",
      "4816\n",
      "4111\n",
      "2633\n",
      "5302\n",
      "8070\n",
      "9297\n",
      "14990\n",
      "14758\n",
      "1717\n",
      "9663\n",
      "774\n",
      "2497\n",
      "15491\n",
      "474\n",
      "15506\n",
      "5902\n",
      "14398\n",
      "5208\n",
      "7247\n",
      "13098\n",
      "1042\n",
      "2967\n",
      "10833\n"
     ]
    }
   ],
   "source": [
    "from BertPreprocess import *\n",
    "from RandomForestModel import *\n",
    "\n",
    "\n",
    "data_model = BertPreprocess()\n",
    "data_model.load_data()\n",
    "\n",
    "pred_model = RandomForestModel()\n",
    "\n",
    "tmp = data_model.train.sample(100)\n",
    "\n",
    "for row_id, row in tmp.iterrows():\n",
    "    pred_model.pr"
   ]
  },
  {
   "cell_type": "code",
   "execution_count": null,
   "metadata": {},
   "outputs": [],
   "source": []
  },
  {
   "cell_type": "code",
   "execution_count": null,
   "metadata": {},
   "outputs": [],
   "source": []
  },
  {
   "cell_type": "code",
   "execution_count": null,
   "metadata": {},
   "outputs": [],
   "source": []
  },
  {
   "cell_type": "code",
   "execution_count": null,
   "metadata": {},
   "outputs": [],
   "source": []
  }
 ],
 "metadata": {
  "kernelspec": {
   "display_name": "Python 3",
   "language": "python",
   "name": "python3"
  },
  "language_info": {
   "codemirror_mode": {
    "name": "ipython",
    "version": 3
   },
   "file_extension": ".py",
   "mimetype": "text/x-python",
   "name": "python",
   "nbconvert_exporter": "python",
   "pygments_lexer": "ipython3",
   "version": "3.7.3"
  }
 },
 "nbformat": 4,
 "nbformat_minor": 4
}
