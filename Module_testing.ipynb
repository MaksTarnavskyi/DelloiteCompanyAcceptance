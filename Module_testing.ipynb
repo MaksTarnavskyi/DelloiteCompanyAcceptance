{
 "cells": [
  {
   "cell_type": "code",
   "execution_count": 1,
   "metadata": {},
   "outputs": [],
   "source": [
    "from BertPreprocess import *"
   ]
  },
  {
   "cell_type": "code",
   "execution_count": 2,
   "metadata": {},
   "outputs": [],
   "source": [
    "model = BertPreprocess()"
   ]
  },
  {
   "cell_type": "code",
   "execution_count": 3,
   "metadata": {},
   "outputs": [
    {
     "name": "stderr",
     "output_type": "stream",
     "text": [
      "[INFO] Data loaded\n",
      "[INFO] The trainset is processed.\n",
      "[INFO] The trainsets for BERT models are prepared.\n"
     ]
    }
   ],
   "source": [
    "model.load_data()\n",
    "model.process_text()\n",
    "model.create_datasets_for_bert()"
   ]
  },
  {
   "cell_type": "code",
   "execution_count": 3,
   "metadata": {},
   "outputs": [],
   "source": [
    "from selenium import webdriver\n",
    "import os\n",
    "\n",
    "driver = webdriver.Chrome(os.getcwd()+'/chromedriver')\n",
    "\n",
    "# DRIVER = 'chromedriver'\n",
    "# driver = webdriver.Chrome(DRIVER)\n",
    "driver.get('https://www.spotify.com')\n",
    "screenshot = driver.save_screenshot('my_screenshot.png')\n",
    "driver.quit()"
   ]
  },
  {
   "cell_type": "code",
   "execution_count": null,
   "metadata": {},
   "outputs": [],
   "source": []
  }
 ],
 "metadata": {
  "kernelspec": {
   "display_name": "Python 3",
   "language": "python",
   "name": "python3"
  },
  "language_info": {
   "codemirror_mode": {
    "name": "ipython",
    "version": 3
   },
   "file_extension": ".py",
   "mimetype": "text/x-python",
   "name": "python",
   "nbconvert_exporter": "python",
   "pygments_lexer": "ipython3",
   "version": "3.7.3"
  }
 },
 "nbformat": 4,
 "nbformat_minor": 4
}
