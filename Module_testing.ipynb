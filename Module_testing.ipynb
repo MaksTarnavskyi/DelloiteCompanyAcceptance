{
 "cells": [
  {
   "cell_type": "code",
   "execution_count": 5,
   "metadata": {},
   "outputs": [],
   "source": [
    "from BertPreprocess import *"
   ]
  },
  {
   "cell_type": "code",
   "execution_count": 6,
   "metadata": {},
   "outputs": [],
   "source": [
    "model2 = BertPreprocess()"
   ]
  },
  {
   "cell_type": "code",
   "execution_count": 26,
   "metadata": {
    "scrolled": false
   },
   "outputs": [
    {
     "name": "stderr",
     "output_type": "stream",
     "text": [
      "[INFO] Data loaded\n",
      "INFO:__name__:[INFO] Data loaded\n"
     ]
    }
   ],
   "source": [
    "model2.load_data()\n",
    "# model.process_text()\n",
    "# model.create_datasets_for_bert()"
   ]
  },
  {
   "cell_type": "code",
   "execution_count": 10,
   "metadata": {},
   "outputs": [
    {
     "name": "stderr",
     "output_type": "stream",
     "text": [
      "[INFO] The trainset is processed.\n",
      "INFO:__name__:[INFO] The trainset is processed.\n"
     ]
    },
    {
     "name": "stdout",
     "output_type": "stream",
     "text": [
      "___2\n",
      "      af_0      af_1      af_2      af_3      af_4      af_5      af_6  \\\n",
      "0 -0.29555  0.638423  0.173735  0.024121 -0.292375  0.227125 -0.038996   \n",
      "\n",
      "       af_7      af_8      af_9  ...   tt2_758   tt2_759   tt2_760   tt2_761  \\\n",
      "0  0.409918 -0.881494 -0.616625  ...  0.401826 -0.021641 -1.013325 -0.303509   \n",
      "\n",
      "    tt2_762   tt2_763   tt2_764   tt2_765   tt2_766   tt2_767  \n",
      "0  0.872044 -0.511523 -0.377105  0.341941  0.474549  0.170113  \n",
      "\n",
      "[1 rows x 4608 columns]\n"
     ]
    },
    {
     "name": "stderr",
     "output_type": "stream",
     "text": [
      "[INFO] The trainset is processed.\n",
      "INFO:__name__:[INFO] The trainset is processed.\n"
     ]
    },
    {
     "name": "stdout",
     "output_type": "stream",
     "text": [
      "1\n",
      "___2\n",
      "      af_0      af_1      af_2      af_3      af_4     af_5      af_6  \\\n",
      "0 -0.68478  0.524014  0.214746  0.039232 -0.038214  0.47364  0.067631   \n",
      "\n",
      "       af_7      af_8      af_9  ...   tt2_758   tt2_759   tt2_760   tt2_761  \\\n",
      "0  0.226584 -0.642498 -0.728986  ...  0.380072  0.610253 -0.705739 -0.849053   \n",
      "\n",
      "    tt2_762  tt2_763   tt2_764   tt2_765   tt2_766  tt2_767  \n",
      "0  0.257943 -0.32118 -0.288458  0.188603 -0.056261  0.15117  \n",
      "\n",
      "[1 rows x 4608 columns]\n"
     ]
    },
    {
     "name": "stderr",
     "output_type": "stream",
     "text": [
      "[INFO] The trainset is processed.\n",
      "INFO:__name__:[INFO] The trainset is processed.\n"
     ]
    },
    {
     "name": "stdout",
     "output_type": "stream",
     "text": [
      "1\n",
      "___1\n",
      "       af_0      af_1      af_2      af_3      af_4      af_5      af_6  \\\n",
      "0 -0.545497  0.530825 -0.243328 -0.259352 -0.477612  0.593028  0.332686   \n",
      "\n",
      "      af_7      af_8      af_9  ...   tt2_758   tt2_759   tt2_760   tt2_761  \\\n",
      "0 -0.23006 -0.740062 -1.251289  ...  0.346034 -0.436435 -1.035008 -0.521784   \n",
      "\n",
      "    tt2_762   tt2_763   tt2_764  tt2_765   tt2_766   tt2_767  \n",
      "0  0.800145 -0.388197 -0.396973  0.20911  0.363553  0.264131  \n",
      "\n",
      "[1 rows x 4608 columns]\n"
     ]
    },
    {
     "name": "stderr",
     "output_type": "stream",
     "text": [
      "[INFO] The trainset is processed.\n",
      "INFO:__name__:[INFO] The trainset is processed.\n"
     ]
    },
    {
     "name": "stdout",
     "output_type": "stream",
     "text": [
      "1\n",
      "___2\n",
      "       af_0      af_1      af_2      af_3      af_4      af_5      af_6  \\\n",
      "0 -0.204502  0.017821  0.706966 -0.197429 -0.091684 -0.077414  0.046208   \n",
      "\n",
      "       af_7      af_8      af_9  ...   tt2_758   tt2_759   tt2_760   tt2_761  \\\n",
      "0  0.826226 -0.586201 -0.422937  ...  0.478796 -0.584901 -0.353543 -0.537089   \n",
      "\n",
      "   tt2_762  tt2_763   tt2_764   tt2_765  tt2_766   tt2_767  \n",
      "0  0.59407 -0.39651 -1.090545  0.579924 -0.18147 -0.034727  \n",
      "\n",
      "[1 rows x 4608 columns]\n"
     ]
    },
    {
     "name": "stderr",
     "output_type": "stream",
     "text": [
      "[INFO] The trainset is processed.\n",
      "INFO:__name__:[INFO] The trainset is processed.\n"
     ]
    },
    {
     "name": "stdout",
     "output_type": "stream",
     "text": [
      "1\n",
      "___1\n",
      "       af_0      af_1      af_2      af_3      af_4      af_5      af_6  \\\n",
      "0 -0.297789 -0.277245  0.418189 -0.008975 -0.187204  0.238802 -0.071432   \n",
      "\n",
      "       af_7      af_8      af_9  ...   tt2_758   tt2_759   tt2_760   tt2_761  \\\n",
      "0  1.122959 -0.485051 -0.682093  ...  0.416606 -0.053044 -0.849789  0.040328   \n",
      "\n",
      "    tt2_762   tt2_763   tt2_764   tt2_765   tt2_766   tt2_767  \n",
      "0  0.835145 -0.748933 -0.254205  0.243692  0.667146  0.109551  \n",
      "\n",
      "[1 rows x 4608 columns]\n"
     ]
    },
    {
     "name": "stderr",
     "output_type": "stream",
     "text": [
      "[INFO] The trainset is processed.\n",
      "INFO:__name__:[INFO] The trainset is processed.\n"
     ]
    },
    {
     "name": "stdout",
     "output_type": "stream",
     "text": [
      "1\n",
      "___2\n",
      "       af_0      af_1      af_2      af_3      af_4     af_5      af_6  \\\n",
      "0  0.439314  0.139044  0.753198 -0.130078  0.040568  0.02337  0.247013   \n",
      "\n",
      "       af_7      af_8      af_9  ...   tt2_758   tt2_759   tt2_760   tt2_761  \\\n",
      "0  0.433337 -0.149243  0.396497  ...  0.298684 -0.179951 -1.206501  0.018992   \n",
      "\n",
      "    tt2_762   tt2_763  tt2_764   tt2_765   tt2_766   tt2_767  \n",
      "0  0.673658 -0.290408  -0.3257  0.299663  0.605345  0.246589  \n",
      "\n",
      "[1 rows x 4608 columns]\n"
     ]
    },
    {
     "name": "stderr",
     "output_type": "stream",
     "text": [
      "[INFO] The trainset is processed.\n",
      "INFO:__name__:[INFO] The trainset is processed.\n"
     ]
    },
    {
     "name": "stdout",
     "output_type": "stream",
     "text": [
      "1\n",
      "___1\n",
      "       af_0      af_1     af_2      af_3      af_4      af_5      af_6  \\\n",
      "0  0.039581  0.246773 -0.38274 -0.169342 -0.571679  0.113183  0.222681   \n",
      "\n",
      "       af_7    af_8      af_9  ...   tt2_758   tt2_759   tt2_760   tt2_761  \\\n",
      "0  0.581256 -0.6679 -0.653607  ...  0.408026  0.132853 -0.984505 -0.055496   \n",
      "\n",
      "    tt2_762   tt2_763   tt2_764   tt2_765   tt2_766   tt2_767  \n",
      "0  0.781355 -0.575779 -0.200883  0.411065  0.739102  0.172611  \n",
      "\n",
      "[1 rows x 4608 columns]\n"
     ]
    },
    {
     "name": "stderr",
     "output_type": "stream",
     "text": [
      "[INFO] The trainset is processed.\n",
      "INFO:__name__:[INFO] The trainset is processed.\n"
     ]
    },
    {
     "name": "stdout",
     "output_type": "stream",
     "text": [
      "1\n",
      "___1\n",
      "       af_0      af_1      af_2      af_3      af_4      af_5      af_6  \\\n",
      "0 -0.417783  0.454517 -0.094902 -0.064836 -0.199296  0.316637  0.192158   \n",
      "\n",
      "       af_7      af_8      af_9  ...   tt2_758   tt2_759   tt2_760   tt2_761  \\\n",
      "0  0.281168 -0.522471 -0.788352  ...  0.403916 -0.161383 -1.067409  0.006924   \n",
      "\n",
      "    tt2_762   tt2_763   tt2_764   tt2_765   tt2_766   tt2_767  \n",
      "0  0.767126 -0.731909 -0.046966  0.569595  0.626685  0.261407  \n",
      "\n",
      "[1 rows x 4608 columns]\n"
     ]
    },
    {
     "name": "stderr",
     "output_type": "stream",
     "text": [
      "[INFO] The trainset is processed.\n",
      "INFO:__name__:[INFO] The trainset is processed.\n"
     ]
    },
    {
     "name": "stdout",
     "output_type": "stream",
     "text": [
      "1\n",
      "___0\n",
      "       af_0      af_1      af_2      af_3      af_4      af_5      af_6  \\\n",
      "0 -0.155079  0.244299 -0.012049  0.048843 -0.519064  0.551713 -0.107842   \n",
      "\n",
      "       af_7      af_8      af_9  ...   tt2_758  tt2_759   tt2_760   tt2_761  \\\n",
      "0  0.929634 -0.757505 -0.521954  ...  0.387064  0.61159 -0.981795 -0.246578   \n",
      "\n",
      "    tt2_762   tt2_763   tt2_764   tt2_765   tt2_766   tt2_767  \n",
      "0  0.912963 -0.287385 -0.096879 -0.079403  0.736584  0.269422  \n",
      "\n",
      "[1 rows x 4608 columns]\n"
     ]
    },
    {
     "name": "stderr",
     "output_type": "stream",
     "text": [
      "[INFO] The trainset is processed.\n",
      "INFO:__name__:[INFO] The trainset is processed.\n"
     ]
    },
    {
     "name": "stdout",
     "output_type": "stream",
     "text": [
      "1\n",
      "___1\n",
      "       af_0      af_1      af_2      af_3      af_4      af_5      af_6  \\\n",
      "0 -0.202173  0.294721  0.222482 -0.054658 -0.292592  0.293221 -0.048115   \n",
      "\n",
      "       af_7      af_8      af_9  ...   tt2_758   tt2_759  tt2_760   tt2_761  \\\n",
      "0  0.400019 -1.098444 -0.623268  ...  0.438881 -0.179806 -0.97384 -0.127912   \n",
      "\n",
      "    tt2_762   tt2_763   tt2_764   tt2_765   tt2_766   tt2_767  \n",
      "0  0.865328 -0.708467 -0.416541  0.325201  0.484967  0.296498  \n",
      "\n",
      "[1 rows x 4608 columns]\n"
     ]
    },
    {
     "name": "stderr",
     "output_type": "stream",
     "text": [
      "[INFO] The trainset is processed.\n",
      "INFO:__name__:[INFO] The trainset is processed.\n"
     ]
    },
    {
     "name": "stdout",
     "output_type": "stream",
     "text": [
      "1\n",
      "___1\n",
      "       af_0     af_1      af_2      af_3      af_4      af_5      af_6  \\\n",
      "0  0.204071  0.01006  0.490635  0.072674 -0.446009  0.226648  0.453727   \n",
      "\n",
      "       af_7      af_8      af_9  ...   tt2_758   tt2_759  tt2_760  tt2_761  \\\n",
      "0  0.078638 -0.243773 -0.170779  ...  0.234119  0.056598 -1.02107 -0.25746   \n",
      "\n",
      "    tt2_762   tt2_763  tt2_764   tt2_765   tt2_766  tt2_767  \n",
      "0  0.918262 -0.817388  0.00538  0.145055  0.567332  0.23421  \n",
      "\n",
      "[1 rows x 4608 columns]\n"
     ]
    },
    {
     "name": "stderr",
     "output_type": "stream",
     "text": [
      "[INFO] The trainset is processed.\n",
      "INFO:__name__:[INFO] The trainset is processed.\n"
     ]
    },
    {
     "name": "stdout",
     "output_type": "stream",
     "text": [
      "1\n",
      "___2\n",
      "       af_0      af_1     af_2      af_3      af_4      af_5      af_6  \\\n",
      "0 -0.323628 -0.317063  0.28051 -0.042297 -0.178064  0.307086  0.084137   \n",
      "\n",
      "       af_7      af_8      af_9  ...   tt2_758   tt2_759   tt2_760   tt2_761  \\\n",
      "0  0.860476 -0.625877 -0.572611  ...  0.175342  0.218882 -1.134997 -0.375325   \n",
      "\n",
      "    tt2_762   tt2_763  tt2_764   tt2_765   tt2_766   tt2_767  \n",
      "0  0.792994 -0.951454  0.06284  0.187529  1.033147  0.235858  \n",
      "\n",
      "[1 rows x 4608 columns]\n"
     ]
    },
    {
     "name": "stderr",
     "output_type": "stream",
     "text": [
      "[INFO] The trainset is processed.\n",
      "INFO:__name__:[INFO] The trainset is processed.\n"
     ]
    },
    {
     "name": "stdout",
     "output_type": "stream",
     "text": [
      "1\n",
      "___1\n",
      "       af_0      af_1      af_2      af_3      af_4      af_5     af_6  \\\n",
      "0  0.052635  0.146416 -0.187038 -0.117521 -0.349676  0.346147  0.23722   \n",
      "\n",
      "       af_7      af_8     af_9  ...   tt2_758   tt2_759   tt2_760   tt2_761  \\\n",
      "0  0.327774 -0.518779 -0.55826  ...  0.392492  0.096745 -1.058314 -0.354848   \n",
      "\n",
      "    tt2_762   tt2_763   tt2_764   tt2_765   tt2_766   tt2_767  \n",
      "0  0.898068 -0.939887 -0.034423 -0.097025  0.662705 -0.050474  \n",
      "\n",
      "[1 rows x 4608 columns]\n"
     ]
    },
    {
     "name": "stderr",
     "output_type": "stream",
     "text": [
      "[INFO] The trainset is processed.\n",
      "INFO:__name__:[INFO] The trainset is processed.\n"
     ]
    },
    {
     "name": "stdout",
     "output_type": "stream",
     "text": [
      "1\n",
      "___1\n",
      "       af_0      af_1      af_2      af_3      af_4      af_5     af_6  \\\n",
      "0 -0.302991  0.413942 -0.019003 -0.001813 -0.469142  0.373712  0.11816   \n",
      "\n",
      "       af_7      af_8      af_9  ...  tt2_758   tt2_759   tt2_760   tt2_761  \\\n",
      "0  0.458663 -0.832604 -0.694672  ...  0.74113 -0.337283  0.029528 -0.641925   \n",
      "\n",
      "    tt2_762   tt2_763   tt2_764   tt2_765   tt2_766   tt2_767  \n",
      "0  0.410621  0.315708 -0.951198  0.260473 -0.250314  0.177739  \n",
      "\n",
      "[1 rows x 4608 columns]\n"
     ]
    },
    {
     "name": "stderr",
     "output_type": "stream",
     "text": [
      "[INFO] The trainset is processed.\n",
      "INFO:__name__:[INFO] The trainset is processed.\n"
     ]
    },
    {
     "name": "stdout",
     "output_type": "stream",
     "text": [
      "1\n",
      "___1\n",
      "       af_0      af_1      af_2      af_3      af_4      af_5      af_6  \\\n",
      "0 -0.545497  0.530825 -0.243328 -0.259352 -0.477612  0.593028  0.332686   \n",
      "\n",
      "      af_7      af_8      af_9  ...   tt2_758   tt2_759   tt2_760   tt2_761  \\\n",
      "0 -0.23006 -0.740062 -1.251289  ...  0.109804 -0.002512 -0.857743  0.318261   \n",
      "\n",
      "    tt2_762   tt2_763   tt2_764   tt2_765   tt2_766   tt2_767  \n",
      "0  0.821963 -0.643337 -0.276433  0.230699  0.461384  0.005328  \n",
      "\n",
      "[1 rows x 4608 columns]\n"
     ]
    },
    {
     "name": "stderr",
     "output_type": "stream",
     "text": [
      "[INFO] The trainset is processed.\n",
      "INFO:__name__:[INFO] The trainset is processed.\n"
     ]
    },
    {
     "name": "stdout",
     "output_type": "stream",
     "text": [
      "1\n",
      "___1\n",
      "      af_0      af_1      af_2      af_3      af_4      af_5      af_6  \\\n",
      "0 -0.25886 -0.309866  0.213609 -0.071118 -0.193778  0.244924  0.085255   \n",
      "\n",
      "       af_7     af_8      af_9  ...   tt2_758   tt2_759   tt2_760   tt2_761  \\\n",
      "0  0.811909 -0.62281 -0.622881  ...  0.334358 -0.283458 -0.981419 -0.238095   \n",
      "\n",
      "    tt2_762   tt2_763   tt2_764   tt2_765   tt2_766  tt2_767  \n",
      "0  0.737216 -0.387067  0.067047  0.516572  0.845887 -0.09844  \n",
      "\n",
      "[1 rows x 4608 columns]\n"
     ]
    },
    {
     "name": "stderr",
     "output_type": "stream",
     "text": [
      "[INFO] The trainset is processed.\n",
      "INFO:__name__:[INFO] The trainset is processed.\n"
     ]
    },
    {
     "name": "stdout",
     "output_type": "stream",
     "text": [
      "1\n",
      "___1\n",
      "       af_0      af_1      af_2      af_3      af_4      af_5      af_6  \\\n",
      "0 -0.386274  0.556344 -0.028906 -0.114696 -0.293208  0.421678  0.218009   \n",
      "\n",
      "       af_7      af_8      af_9  ...   tt2_758   tt2_759   tt2_760   tt2_761  \\\n",
      "0  0.086604 -0.774125 -0.846606  ...  0.346034 -0.436435 -1.035008 -0.521784   \n",
      "\n",
      "    tt2_762   tt2_763   tt2_764  tt2_765   tt2_766   tt2_767  \n",
      "0  0.800145 -0.388197 -0.396973  0.20911  0.363553  0.264131  \n",
      "\n",
      "[1 rows x 4608 columns]\n"
     ]
    },
    {
     "name": "stderr",
     "output_type": "stream",
     "text": [
      "[INFO] The trainset is processed.\n",
      "INFO:__name__:[INFO] The trainset is processed.\n"
     ]
    },
    {
     "name": "stdout",
     "output_type": "stream",
     "text": [
      "1\n",
      "___1\n",
      "       af_0      af_1      af_2      af_3      af_4      af_5      af_6  \\\n",
      "0 -0.386274  0.556344 -0.028906 -0.114696 -0.293208  0.421678  0.218009   \n",
      "\n",
      "       af_7      af_8      af_9  ...   tt2_758   tt2_759   tt2_760   tt2_761  \\\n",
      "0  0.086604 -0.774125 -0.846606  ...  0.450184  0.147102 -1.049828 -0.306836   \n",
      "\n",
      "    tt2_762  tt2_763   tt2_764   tt2_765   tt2_766   tt2_767  \n",
      "0  0.957914 -0.74406 -0.019305  0.052945  0.805427  0.379671  \n",
      "\n",
      "[1 rows x 4608 columns]\n"
     ]
    },
    {
     "name": "stderr",
     "output_type": "stream",
     "text": [
      "[INFO] The trainset is processed.\n",
      "INFO:__name__:[INFO] The trainset is processed.\n"
     ]
    },
    {
     "name": "stdout",
     "output_type": "stream",
     "text": [
      "1\n",
      "___2\n",
      "       af_0      af_1      af_2      af_3      af_4      af_5      af_6  \\\n",
      "0 -0.343146 -0.050322 -0.018222  0.005796 -0.432426  0.397211  0.135398   \n",
      "\n",
      "       af_7      af_8      af_9  ...   tt2_758   tt2_759   tt2_760   tt2_761  \\\n",
      "0  0.636602 -0.864789 -0.627772  ...  0.224267 -0.189541 -0.592727 -0.165862   \n",
      "\n",
      "   tt2_762   tt2_763   tt2_764   tt2_765   tt2_766  tt2_767  \n",
      "0  0.47259 -0.784874 -0.411033  0.689489  0.308583  0.15378  \n",
      "\n",
      "[1 rows x 4608 columns]\n"
     ]
    },
    {
     "name": "stderr",
     "output_type": "stream",
     "text": [
      "[INFO] The trainset is processed.\n",
      "INFO:__name__:[INFO] The trainset is processed.\n"
     ]
    },
    {
     "name": "stdout",
     "output_type": "stream",
     "text": [
      "1\n",
      "___1\n",
      "      af_0      af_1      af_2      af_3      af_4      af_5      af_6  \\\n",
      "0 -0.60037  0.366744 -0.036528 -0.074303 -0.001116  0.399076  0.117218   \n",
      "\n",
      "       af_7      af_8     af_9  ...   tt2_758   tt2_759   tt2_760   tt2_761  \\\n",
      "0  0.071219 -0.448963 -0.70927  ...  0.448652  0.288861 -1.095962 -0.406001   \n",
      "\n",
      "    tt2_762   tt2_763   tt2_764   tt2_765   tt2_766   tt2_767  \n",
      "0  0.960381 -0.558765 -0.096057  0.269737  0.658558  0.514133  \n",
      "\n",
      "[1 rows x 4608 columns]\n"
     ]
    },
    {
     "name": "stderr",
     "output_type": "stream",
     "text": [
      "[INFO] The trainset is processed.\n",
      "INFO:__name__:[INFO] The trainset is processed.\n"
     ]
    },
    {
     "name": "stdout",
     "output_type": "stream",
     "text": [
      "1\n",
      "___1\n",
      "       af_0      af_1      af_2      af_3      af_4     af_5      af_6  \\\n",
      "0 -0.429394 -0.153743  0.019415 -0.028312 -0.530019  0.18982  0.193654   \n",
      "\n",
      "       af_7      af_8      af_9  ...   tt2_758   tt2_759   tt2_760   tt2_761  \\\n",
      "0  0.835333 -0.864135 -0.619727  ...  0.162076  0.076633 -1.136185 -0.185419   \n",
      "\n",
      "    tt2_762   tt2_763   tt2_764   tt2_765   tt2_766   tt2_767  \n",
      "0  0.916095 -0.747792  0.032118  0.321687  0.812768  0.319262  \n",
      "\n",
      "[1 rows x 4608 columns]\n"
     ]
    },
    {
     "name": "stderr",
     "output_type": "stream",
     "text": [
      "[INFO] The trainset is processed.\n",
      "INFO:__name__:[INFO] The trainset is processed.\n"
     ]
    },
    {
     "name": "stdout",
     "output_type": "stream",
     "text": [
      "1\n",
      "___1\n",
      "       af_0      af_1      af_2      af_3      af_4      af_5      af_6  \\\n",
      "0 -0.141519  0.546333  0.035123 -0.340244 -0.001264  0.570158  0.372283   \n",
      "\n",
      "       af_7      af_8      af_9  ...   tt2_758   tt2_759   tt2_760   tt2_761  \\\n",
      "0 -0.297482 -0.580105 -0.823359  ...  0.472704 -0.225246 -0.675451 -0.756338   \n",
      "\n",
      "    tt2_762   tt2_763   tt2_764   tt2_765   tt2_766   tt2_767  \n",
      "0  0.576031 -0.541048 -0.345246  0.968781  0.437306  0.378311  \n",
      "\n",
      "[1 rows x 4608 columns]\n"
     ]
    },
    {
     "name": "stderr",
     "output_type": "stream",
     "text": [
      "[INFO] The trainset is processed.\n",
      "INFO:__name__:[INFO] The trainset is processed.\n"
     ]
    },
    {
     "name": "stdout",
     "output_type": "stream",
     "text": [
      "1\n",
      "___2\n",
      "       af_0     af_1      af_2      af_3      af_4      af_5      af_6  \\\n",
      "0 -0.136735  0.14147 -0.242893 -0.003347 -0.697991  0.487651 -0.088841   \n",
      "\n",
      "       af_7      af_8      af_9  ...   tt2_758   tt2_759   tt2_760   tt2_761  \\\n",
      "0  0.866213 -0.805979 -0.505477  ...  0.392837  0.512558 -0.197115 -0.629339   \n",
      "\n",
      "    tt2_762   tt2_763  tt2_764   tt2_765   tt2_766   tt2_767  \n",
      "0 -0.068748  0.008226 -0.20862  0.584107  0.030764 -0.291212  \n",
      "\n",
      "[1 rows x 4608 columns]\n"
     ]
    },
    {
     "name": "stderr",
     "output_type": "stream",
     "text": [
      "[INFO] The trainset is processed.\n",
      "INFO:__name__:[INFO] The trainset is processed.\n"
     ]
    },
    {
     "name": "stdout",
     "output_type": "stream",
     "text": [
      "1\n",
      "___1\n",
      "       af_0      af_1     af_2      af_3      af_4      af_5      af_6  \\\n",
      "0 -0.323628 -0.317063  0.28051 -0.042297 -0.178064  0.307086  0.084137   \n",
      "\n",
      "       af_7      af_8      af_9  ...  tt2_758   tt2_759   tt2_760   tt2_761  \\\n",
      "0  0.860476 -0.625877 -0.572611  ...  0.25855 -0.137688 -1.116752 -0.255007   \n",
      "\n",
      "    tt2_762   tt2_763   tt2_764  tt2_765   tt2_766  tt2_767  \n",
      "0  0.997288 -0.732432 -0.046305  0.01964  0.749283  0.29746  \n",
      "\n",
      "[1 rows x 4608 columns]\n"
     ]
    },
    {
     "name": "stderr",
     "output_type": "stream",
     "text": [
      "[INFO] The trainset is processed.\n",
      "INFO:__name__:[INFO] The trainset is processed.\n"
     ]
    },
    {
     "name": "stdout",
     "output_type": "stream",
     "text": [
      "1\n",
      "___1\n",
      "       af_0      af_1      af_2      af_3     af_4      af_5      af_6  \\\n",
      "0 -0.245894  0.488899 -0.285288 -0.116939  0.11357  0.461965  0.320293   \n",
      "\n",
      "       af_7      af_8      af_9  ...   tt2_758   tt2_759   tt2_760   tt2_761  \\\n",
      "0  0.130984 -0.220953 -0.444211  ...  0.307261 -0.142961 -0.751634 -0.252522   \n",
      "\n",
      "    tt2_762   tt2_763   tt2_764   tt2_765   tt2_766  tt2_767  \n",
      "0  0.737092 -0.534842 -0.359775  0.581081  0.515126 -0.14007  \n",
      "\n",
      "[1 rows x 4608 columns]\n"
     ]
    },
    {
     "name": "stderr",
     "output_type": "stream",
     "text": [
      "[INFO] The trainset is processed.\n",
      "INFO:__name__:[INFO] The trainset is processed.\n"
     ]
    },
    {
     "name": "stdout",
     "output_type": "stream",
     "text": [
      "1\n",
      "___1\n",
      "     af_0     af_1      af_2      af_3      af_4      af_5      af_6  \\\n",
      "0 -0.1856  0.49252 -0.113554  0.017174 -0.328341  0.640866  0.080205   \n",
      "\n",
      "       af_7      af_8      af_9  ...  tt2_758   tt2_759   tt2_760   tt2_761  \\\n",
      "0  0.386192 -0.846988 -0.697817  ...  0.40864  0.100585 -1.038846 -0.315355   \n",
      "\n",
      "    tt2_762   tt2_763   tt2_764   tt2_765   tt2_766   tt2_767  \n",
      "0  0.910664 -0.755306 -0.135648  0.178683  0.598797  0.378874  \n",
      "\n",
      "[1 rows x 4608 columns]\n"
     ]
    },
    {
     "name": "stderr",
     "output_type": "stream",
     "text": [
      "[INFO] The trainset is processed.\n",
      "INFO:__name__:[INFO] The trainset is processed.\n"
     ]
    },
    {
     "name": "stdout",
     "output_type": "stream",
     "text": [
      "1\n",
      "___1\n",
      "       af_0      af_1      af_2      af_3     af_4      af_5      af_6  \\\n",
      "0 -0.318236  0.220659 -0.075694 -0.398698  0.34058  0.077705  0.481716   \n",
      "\n",
      "       af_7      af_8      af_9  ...   tt2_758   tt2_759  tt2_760   tt2_761  \\\n",
      "0  0.424806  0.209167  0.006605  ...  0.250598  0.029937 -0.99265 -0.377806   \n",
      "\n",
      "    tt2_762   tt2_763   tt2_764  tt2_765   tt2_766   tt2_767  \n",
      "0  0.808054 -1.043905  0.043367  0.08365  1.151659  0.386429  \n",
      "\n",
      "[1 rows x 4608 columns]\n"
     ]
    },
    {
     "name": "stderr",
     "output_type": "stream",
     "text": [
      "[INFO] The trainset is processed.\n",
      "INFO:__name__:[INFO] The trainset is processed.\n"
     ]
    },
    {
     "name": "stdout",
     "output_type": "stream",
     "text": [
      "1\n",
      "___1\n",
      "       af_0      af_1      af_2      af_3      af_4      af_5      af_6  \\\n",
      "0 -0.297789 -0.277245  0.418189 -0.008975 -0.187204  0.238802 -0.071432   \n",
      "\n",
      "       af_7      af_8      af_9  ...   tt2_758   tt2_759   tt2_760   tt2_761  \\\n",
      "0  1.122959 -0.485051 -0.682093  ... -0.027968  0.061168 -0.854129  0.131268   \n",
      "\n",
      "    tt2_762   tt2_763   tt2_764  tt2_765   tt2_766   tt2_767  \n",
      "0  0.698537 -0.631619 -0.199898    0.445  0.208349  0.055156  \n",
      "\n",
      "[1 rows x 4608 columns]\n"
     ]
    },
    {
     "name": "stderr",
     "output_type": "stream",
     "text": [
      "[INFO] The trainset is processed.\n",
      "INFO:__name__:[INFO] The trainset is processed.\n"
     ]
    },
    {
     "name": "stdout",
     "output_type": "stream",
     "text": [
      "1\n",
      "___1\n",
      "      af_0      af_1      af_2      af_3      af_4      af_5      af_6   af_7  \\\n",
      "0 -0.18453  0.237366 -0.130662 -0.116168 -0.415268  0.464587 -0.092489  0.767   \n",
      "\n",
      "       af_8     af_9  ...   tt2_758   tt2_759   tt2_760   tt2_761   tt2_762  \\\n",
      "0 -1.108082 -0.42407  ...  0.521329 -0.090529 -0.792641 -0.387484  0.678611   \n",
      "\n",
      "    tt2_763   tt2_764   tt2_765   tt2_766   tt2_767  \n",
      "0 -0.533628 -0.617723  0.537632 -0.048982  0.177298  \n",
      "\n",
      "[1 rows x 4608 columns]\n"
     ]
    },
    {
     "name": "stderr",
     "output_type": "stream",
     "text": [
      "[INFO] The trainset is processed.\n",
      "INFO:__name__:[INFO] The trainset is processed.\n"
     ]
    },
    {
     "name": "stdout",
     "output_type": "stream",
     "text": [
      "1\n",
      "___1\n",
      "       af_0      af_1      af_2      af_3      af_4      af_5      af_6  \\\n",
      "0 -0.276347 -0.171895  0.536063  0.289996 -0.258169  0.660315 -0.227622   \n",
      "\n",
      "       af_7      af_8      af_9  ...  tt2_758   tt2_759   tt2_760   tt2_761  \\\n",
      "0  0.928046 -0.664464 -0.693958  ...  0.68577  0.129176 -0.618719  0.053685   \n",
      "\n",
      "   tt2_762  tt2_763   tt2_764   tt2_765   tt2_766   tt2_767  \n",
      "0  0.67326 -0.73535 -0.082683  0.203218  1.000371  0.081836  \n",
      "\n",
      "[1 rows x 4608 columns]\n"
     ]
    },
    {
     "name": "stderr",
     "output_type": "stream",
     "text": [
      "[INFO] The trainset is processed.\n",
      "INFO:__name__:[INFO] The trainset is processed.\n"
     ]
    },
    {
     "name": "stdout",
     "output_type": "stream",
     "text": [
      "1\n",
      "___1\n",
      "       af_0      af_1      af_2      af_3      af_4     af_5      af_6  \\\n",
      "0 -0.300593 -0.170857  0.616245 -0.064736 -0.064132  0.13022 -0.146488   \n",
      "\n",
      "     af_7      af_8      af_9  ...   tt2_758   tt2_759   tt2_760   tt2_761  \\\n",
      "0  1.0262 -0.758932 -0.485914  ...  0.269418 -0.362925 -0.830264 -0.110204   \n",
      "\n",
      "    tt2_762   tt2_763   tt2_764   tt2_765   tt2_766   tt2_767  \n",
      "0  0.806043 -0.411781 -0.219408  0.352739  0.525804  0.053226  \n",
      "\n",
      "[1 rows x 4608 columns]\n"
     ]
    },
    {
     "name": "stderr",
     "output_type": "stream",
     "text": [
      "[INFO] The trainset is processed.\n",
      "INFO:__name__:[INFO] The trainset is processed.\n"
     ]
    },
    {
     "name": "stdout",
     "output_type": "stream",
     "text": [
      "1\n",
      "___2\n",
      "       af_0     af_1      af_2      af_3      af_4      af_5      af_6  \\\n",
      "0 -0.136735  0.14147 -0.242893 -0.003347 -0.697991  0.487651 -0.088841   \n",
      "\n",
      "       af_7      af_8      af_9  ...   tt2_758   tt2_759   tt2_760   tt2_761  \\\n",
      "0  0.866213 -0.805979 -0.505477  ...  0.275948  0.166896  0.229402 -0.565908   \n",
      "\n",
      "    tt2_762   tt2_763   tt2_764   tt2_765   tt2_766   tt2_767  \n",
      "0 -0.279222  0.141389 -0.139715  0.941408  0.267617 -0.397253  \n",
      "\n",
      "[1 rows x 4608 columns]\n"
     ]
    },
    {
     "name": "stderr",
     "output_type": "stream",
     "text": [
      "[INFO] The trainset is processed.\n",
      "INFO:__name__:[INFO] The trainset is processed.\n"
     ]
    },
    {
     "name": "stdout",
     "output_type": "stream",
     "text": [
      "1\n",
      "___1\n",
      "       af_0      af_1      af_2      af_3      af_4      af_5     af_6  \\\n",
      "0 -0.302991  0.413942 -0.019003 -0.001813 -0.469142  0.373712  0.11816   \n",
      "\n",
      "       af_7      af_8      af_9  ...   tt2_758   tt2_759   tt2_760   tt2_761  \\\n",
      "0  0.458663 -0.832604 -0.694672  ...  0.411817 -0.298349 -0.881761 -0.466109   \n",
      "\n",
      "    tt2_762  tt2_763   tt2_764   tt2_765  tt2_766   tt2_767  \n",
      "0  0.931041 -0.19909 -0.730595  0.122454  0.28716  0.379432  \n",
      "\n",
      "[1 rows x 4608 columns]\n"
     ]
    },
    {
     "name": "stderr",
     "output_type": "stream",
     "text": [
      "[INFO] The trainset is processed.\n",
      "INFO:__name__:[INFO] The trainset is processed.\n"
     ]
    },
    {
     "name": "stdout",
     "output_type": "stream",
     "text": [
      "1\n",
      "___1\n",
      "       af_0      af_1    af_2      af_3      af_4      af_5      af_6  \\\n",
      "0 -0.169974  0.042441 -0.0105 -0.139783 -0.533062  0.516402  0.239492   \n",
      "\n",
      "       af_7      af_8     af_9  ...   tt2_758   tt2_759   tt2_760  tt2_761  \\\n",
      "0  0.248753 -0.955791 -0.51465  ...  0.406017  0.242574 -1.459009 -0.38264   \n",
      "\n",
      "   tt2_762   tt2_763  tt2_764   tt2_765   tt2_766   tt2_767  \n",
      "0   0.8423 -0.765975  0.01312 -0.233023  0.678361  0.193678  \n",
      "\n",
      "[1 rows x 4608 columns]\n"
     ]
    },
    {
     "name": "stderr",
     "output_type": "stream",
     "text": [
      "[INFO] The trainset is processed.\n",
      "INFO:__name__:[INFO] The trainset is processed.\n"
     ]
    },
    {
     "name": "stdout",
     "output_type": "stream",
     "text": [
      "1\n",
      "___1\n",
      "       af_0     af_1      af_2      af_3      af_4      af_5      af_6  \\\n",
      "0 -0.096176 -0.10138  0.589404  0.207857 -0.301002  0.118903 -0.065061   \n",
      "\n",
      "       af_7      af_8      af_9  ...   tt2_758   tt2_759   tt2_760   tt2_761  \\\n",
      "0  0.663169 -0.364752 -0.163895  ...  0.436883  0.059455 -1.165879 -0.099087   \n",
      "\n",
      "    tt2_762   tt2_763   tt2_764   tt2_765   tt2_766   tt2_767  \n",
      "0  0.981774 -0.809499  0.016493 -0.002851  0.843969  0.230302  \n",
      "\n",
      "[1 rows x 4608 columns]\n"
     ]
    },
    {
     "name": "stderr",
     "output_type": "stream",
     "text": [
      "[INFO] The trainset is processed.\n",
      "INFO:__name__:[INFO] The trainset is processed.\n"
     ]
    },
    {
     "name": "stdout",
     "output_type": "stream",
     "text": [
      "1\n",
      "___1\n",
      "       af_0      af_1      af_2      af_3      af_4      af_5      af_6  \\\n",
      "0 -0.155079  0.244299 -0.012049  0.048843 -0.519064  0.551713 -0.107842   \n",
      "\n",
      "       af_7      af_8      af_9  ...   tt2_758   tt2_759   tt2_760   tt2_761  \\\n",
      "0  0.929634 -0.757505 -0.521954  ...  0.333314 -0.154152 -0.950912 -0.258537   \n",
      "\n",
      "    tt2_762   tt2_763   tt2_764   tt2_765   tt2_766   tt2_767  \n",
      "0  0.767802 -0.450076 -0.158122  0.557271  0.431262  0.081742  \n",
      "\n",
      "[1 rows x 4608 columns]\n"
     ]
    },
    {
     "name": "stderr",
     "output_type": "stream",
     "text": [
      "[INFO] The trainset is processed.\n",
      "INFO:__name__:[INFO] The trainset is processed.\n"
     ]
    },
    {
     "name": "stdout",
     "output_type": "stream",
     "text": [
      "1\n",
      "___1\n",
      "      af_0      af_1      af_2      af_3      af_4      af_5      af_6  \\\n",
      "0 -0.26905 -0.289412  0.259297 -0.046612 -0.188772  0.234479  0.123882   \n",
      "\n",
      "       af_7      af_8      af_9  ...   tt2_758   tt2_759   tt2_760   tt2_761  \\\n",
      "0  0.853363 -0.620101 -0.569317  ...  0.465806  0.921799 -0.938202 -0.567479   \n",
      "\n",
      "    tt2_762   tt2_763   tt2_764   tt2_765   tt2_766   tt2_767  \n",
      "0  0.090034 -0.487237 -0.031088  0.656917 -0.125311 -0.047952  \n",
      "\n",
      "[1 rows x 4608 columns]\n"
     ]
    },
    {
     "name": "stderr",
     "output_type": "stream",
     "text": [
      "[INFO] The trainset is processed.\n",
      "INFO:__name__:[INFO] The trainset is processed.\n"
     ]
    },
    {
     "name": "stdout",
     "output_type": "stream",
     "text": [
      "1\n",
      "___1\n",
      "       af_0      af_1      af_2      af_3      af_4     af_5      af_6  \\\n",
      "0 -0.413771  0.238392  0.437401  0.134403 -0.307237  0.40675 -0.103536   \n",
      "\n",
      "       af_7      af_8     af_9  ...   tt2_758   tt2_759   tt2_760   tt2_761  \\\n",
      "0  0.332616 -0.673743 -0.56324  ...  0.342869  0.050959 -1.111761 -0.223227   \n",
      "\n",
      "    tt2_762   tt2_763   tt2_764   tt2_765   tt2_766   tt2_767  \n",
      "0  0.875945 -0.541239 -0.162882  0.199329  0.661043  0.478008  \n",
      "\n",
      "[1 rows x 4608 columns]\n"
     ]
    },
    {
     "name": "stderr",
     "output_type": "stream",
     "text": [
      "[INFO] The trainset is processed.\n",
      "INFO:__name__:[INFO] The trainset is processed.\n"
     ]
    },
    {
     "name": "stdout",
     "output_type": "stream",
     "text": [
      "1\n",
      "___2\n",
      "       af_0      af_1      af_2      af_3      af_4      af_5      af_6  \\\n",
      "0 -0.225975  0.392677 -0.286994 -0.127175 -0.453207  0.597842 -0.010403   \n",
      "\n",
      "       af_7      af_8      af_9  ...   tt2_758   tt2_759   tt2_760   tt2_761  \\\n",
      "0  0.360987 -0.910697 -0.727336  ...  0.266282  0.606922 -0.510708 -0.711388   \n",
      "\n",
      "    tt2_762   tt2_763   tt2_764   tt2_765   tt2_766   tt2_767  \n",
      "0  0.245637 -0.305976 -0.189654  0.609594  0.366794  0.158362  \n",
      "\n",
      "[1 rows x 4608 columns]\n"
     ]
    },
    {
     "name": "stderr",
     "output_type": "stream",
     "text": [
      "[INFO] The trainset is processed.\n",
      "INFO:__name__:[INFO] The trainset is processed.\n"
     ]
    },
    {
     "name": "stdout",
     "output_type": "stream",
     "text": [
      "1\n",
      "___2\n",
      "       af_0      af_1      af_2      af_3      af_4      af_5      af_6  \\\n",
      "0 -0.141519  0.546333  0.035123 -0.340244 -0.001264  0.570158  0.372283   \n",
      "\n",
      "       af_7      af_8      af_9  ...   tt2_758   tt2_759   tt2_760   tt2_761  \\\n",
      "0 -0.297482 -0.580105 -0.823359  ...  0.336307  0.252926 -1.097982 -0.251027   \n",
      "\n",
      "    tt2_762   tt2_763   tt2_764   tt2_765   tt2_766  tt2_767  \n",
      "0  0.897631 -0.857652 -0.031925  0.156583  0.510644  0.01635  \n",
      "\n",
      "[1 rows x 4608 columns]\n"
     ]
    },
    {
     "name": "stderr",
     "output_type": "stream",
     "text": [
      "[INFO] The trainset is processed.\n",
      "INFO:__name__:[INFO] The trainset is processed.\n"
     ]
    },
    {
     "name": "stdout",
     "output_type": "stream",
     "text": [
      "1\n",
      "___0\n",
      "      af_0      af_1      af_2     af_3     af_4      af_5      af_6  \\\n",
      "0 -0.38236  0.451601 -0.360714 -0.28935 -0.16293  0.366908  0.021944   \n",
      "\n",
      "       af_7      af_8      af_9  ...   tt2_758   tt2_759   tt2_760   tt2_761  \\\n",
      "0 -0.023696 -0.637471 -0.498489  ...  0.397905  0.033379 -0.971469 -0.212826   \n",
      "\n",
      "   tt2_762   tt2_763   tt2_764   tt2_765  tt2_766  tt2_767  \n",
      "0  0.94522 -0.710994 -0.198184  0.172656  0.80099  0.33799  \n",
      "\n",
      "[1 rows x 4608 columns]\n"
     ]
    },
    {
     "name": "stderr",
     "output_type": "stream",
     "text": [
      "[INFO] The trainset is processed.\n",
      "INFO:__name__:[INFO] The trainset is processed.\n"
     ]
    },
    {
     "name": "stdout",
     "output_type": "stream",
     "text": [
      "1\n",
      "___0\n",
      "       af_0      af_1      af_2      af_3      af_4      af_5     af_6  \\\n",
      "0 -0.422731 -0.300136  0.268918 -0.029945 -0.227022  0.205384  0.13531   \n",
      "\n",
      "       af_7      af_8      af_9  ...   tt2_758   tt2_759   tt2_760  tt2_761  \\\n",
      "0  0.944551 -0.653017 -0.658947  ...  0.386729 -0.245269 -0.857301  -0.1621   \n",
      "\n",
      "    tt2_762   tt2_763   tt2_764   tt2_765   tt2_766   tt2_767  \n",
      "0  0.862556 -0.439379 -0.319177  0.390862  0.645867  0.133592  \n",
      "\n",
      "[1 rows x 4608 columns]\n"
     ]
    },
    {
     "name": "stderr",
     "output_type": "stream",
     "text": [
      "[INFO] The trainset is processed.\n",
      "INFO:__name__:[INFO] The trainset is processed.\n"
     ]
    },
    {
     "name": "stdout",
     "output_type": "stream",
     "text": [
      "1\n",
      "___1\n",
      "       af_0      af_1      af_2      af_3      af_4      af_5      af_6  \\\n",
      "0 -0.386274  0.556344 -0.028906 -0.114696 -0.293208  0.421678  0.218009   \n",
      "\n",
      "       af_7      af_8      af_9  ...   tt2_758   tt2_759   tt2_760   tt2_761  \\\n",
      "0  0.086604 -0.774125 -0.846606  ...  0.455788 -0.221937 -0.864006 -0.116154   \n",
      "\n",
      "   tt2_762   tt2_763   tt2_764   tt2_765   tt2_766  tt2_767  \n",
      "0  0.77973 -0.394699 -0.336194  0.332637  0.417021  0.53601  \n",
      "\n",
      "[1 rows x 4608 columns]\n"
     ]
    },
    {
     "name": "stderr",
     "output_type": "stream",
     "text": [
      "[INFO] The trainset is processed.\n",
      "INFO:__name__:[INFO] The trainset is processed.\n"
     ]
    },
    {
     "name": "stdout",
     "output_type": "stream",
     "text": [
      "1\n",
      "___1\n",
      "       af_0     af_1      af_2      af_3      af_4      af_5      af_6  \\\n",
      "0 -0.136735  0.14147 -0.242893 -0.003347 -0.697991  0.487651 -0.088841   \n",
      "\n",
      "       af_7      af_8      af_9  ...  tt2_758   tt2_759   tt2_760  tt2_761  \\\n",
      "0  0.866213 -0.805979 -0.505477  ...  0.59698 -0.266943 -0.501381 -0.10802   \n",
      "\n",
      "    tt2_762   tt2_763   tt2_764   tt2_765   tt2_766   tt2_767  \n",
      "0  0.540775 -0.531913 -0.794874  0.640627  0.059223  0.126759  \n",
      "\n",
      "[1 rows x 4608 columns]\n"
     ]
    },
    {
     "name": "stderr",
     "output_type": "stream",
     "text": [
      "[INFO] The trainset is processed.\n",
      "INFO:__name__:[INFO] The trainset is processed.\n"
     ]
    },
    {
     "name": "stdout",
     "output_type": "stream",
     "text": [
      "1\n",
      "___1\n",
      "       af_0      af_1      af_2      af_3      af_4      af_5      af_6  \\\n",
      "0 -0.212936  0.282724 -0.139242  0.030577 -0.255762  0.771173 -0.023983   \n",
      "\n",
      "       af_7      af_8      af_9  ...   tt2_758   tt2_759   tt2_760   tt2_761  \\\n",
      "0  0.512969 -0.702354 -0.465759  ...  0.394817 -0.209765 -0.844854 -0.320639   \n",
      "\n",
      "    tt2_762   tt2_763   tt2_764   tt2_765   tt2_766   tt2_767  \n",
      "0  0.924021 -0.371927 -0.198263 -0.161694  0.644981  0.179861  \n",
      "\n",
      "[1 rows x 4608 columns]\n"
     ]
    },
    {
     "name": "stderr",
     "output_type": "stream",
     "text": [
      "[INFO] The trainset is processed.\n",
      "INFO:__name__:[INFO] The trainset is processed.\n"
     ]
    },
    {
     "name": "stdout",
     "output_type": "stream",
     "text": [
      "1\n",
      "___2\n",
      "       af_0     af_1      af_2      af_3      af_4      af_5      af_6  \\\n",
      "0 -0.377667  0.48223 -0.020734 -0.177037 -0.742748  0.409877 -0.003083   \n",
      "\n",
      "       af_7      af_8     af_9  ...   tt2_758   tt2_759  tt2_760   tt2_761  \\\n",
      "0 -0.440285 -0.412871 -0.65184  ...  0.341315  0.205484 -0.32565 -0.572809   \n",
      "\n",
      "    tt2_762   tt2_763   tt2_764   tt2_765   tt2_766   tt2_767  \n",
      "0  0.101246 -0.223618 -0.646744  0.942858  0.071039  0.007242  \n",
      "\n",
      "[1 rows x 4608 columns]\n"
     ]
    },
    {
     "name": "stderr",
     "output_type": "stream",
     "text": [
      "[INFO] The trainset is processed.\n",
      "INFO:__name__:[INFO] The trainset is processed.\n"
     ]
    },
    {
     "name": "stdout",
     "output_type": "stream",
     "text": [
      "1\n",
      "___2\n",
      "       af_0      af_1      af_2      af_3      af_4      af_5      af_6  \\\n",
      "0 -0.401648  0.462944 -0.132623  0.002204 -0.152322  0.493165 -0.012805   \n",
      "\n",
      "       af_7      af_8      af_9  ...   tt2_758   tt2_759   tt2_760   tt2_761  \\\n",
      "0  0.031608 -0.555032 -0.597279  ...  0.281681 -0.054782  0.006971 -0.559303   \n",
      "\n",
      "   tt2_762  tt2_763   tt2_764   tt2_765   tt2_766   tt2_767  \n",
      "0 -0.00243 -0.17174 -0.642382  0.750125 -0.194231 -0.319705  \n",
      "\n",
      "[1 rows x 4608 columns]\n"
     ]
    },
    {
     "name": "stderr",
     "output_type": "stream",
     "text": [
      "[INFO] The trainset is processed.\n",
      "INFO:__name__:[INFO] The trainset is processed.\n"
     ]
    },
    {
     "name": "stdout",
     "output_type": "stream",
     "text": [
      "1\n",
      "___1\n",
      "     af_0     af_1      af_2      af_3      af_4      af_5      af_6  \\\n",
      "0 -0.1856  0.49252 -0.113554  0.017174 -0.328341  0.640866  0.080205   \n",
      "\n",
      "       af_7      af_8      af_9  ...   tt2_758   tt2_759   tt2_760   tt2_761  \\\n",
      "0  0.386192 -0.846988 -0.697817  ...  0.463085  0.292186 -0.881812 -0.259163   \n",
      "\n",
      "    tt2_762   tt2_763   tt2_764   tt2_765   tt2_766   tt2_767  \n",
      "0  0.957341 -0.639531  0.060175 -0.116368  0.578167  0.373804  \n",
      "\n",
      "[1 rows x 4608 columns]\n"
     ]
    },
    {
     "name": "stderr",
     "output_type": "stream",
     "text": [
      "[INFO] The trainset is processed.\n",
      "INFO:__name__:[INFO] The trainset is processed.\n"
     ]
    },
    {
     "name": "stdout",
     "output_type": "stream",
     "text": [
      "1\n",
      "___2\n",
      "       af_0      af_1      af_2      af_3      af_4      af_5      af_6  \\\n",
      "0 -0.238054  0.343909  0.059734  0.063411 -0.436723  0.414855 -0.158929   \n",
      "\n",
      "       af_7      af_8      af_9  ...   tt2_758   tt2_759   tt2_760   tt2_761  \\\n",
      "0  0.763612 -0.771568 -0.580604  ...  0.115418  0.451307  0.153282 -0.862979   \n",
      "\n",
      "    tt2_762   tt2_763   tt2_764   tt2_765   tt2_766   tt2_767  \n",
      "0 -0.535723 -0.088078 -0.015923  0.574129 -0.104851  0.216682  \n",
      "\n",
      "[1 rows x 4608 columns]\n"
     ]
    },
    {
     "name": "stderr",
     "output_type": "stream",
     "text": [
      "[INFO] The trainset is processed.\n",
      "INFO:__name__:[INFO] The trainset is processed.\n"
     ]
    },
    {
     "name": "stdout",
     "output_type": "stream",
     "text": [
      "1\n",
      "___2\n",
      "       af_0      af_1      af_2      af_3      af_4      af_5      af_6  \\\n",
      "0 -0.545497  0.530825 -0.243328 -0.259352 -0.477612  0.593028  0.332686   \n",
      "\n",
      "      af_7      af_8      af_9  ...  tt2_758   tt2_759   tt2_760   tt2_761  \\\n",
      "0 -0.23006 -0.740062 -1.251289  ...  0.74113 -0.337283  0.029528 -0.641925   \n",
      "\n",
      "    tt2_762   tt2_763   tt2_764   tt2_765   tt2_766   tt2_767  \n",
      "0  0.410621  0.315708 -0.951198  0.260473 -0.250314  0.177739  \n",
      "\n",
      "[1 rows x 4608 columns]\n"
     ]
    },
    {
     "name": "stderr",
     "output_type": "stream",
     "text": [
      "[INFO] The trainset is processed.\n",
      "INFO:__name__:[INFO] The trainset is processed.\n"
     ]
    },
    {
     "name": "stdout",
     "output_type": "stream",
     "text": [
      "1\n",
      "___1\n",
      "       af_0      af_1      af_2      af_3      af_4      af_5     af_6  \\\n",
      "0 -0.302991  0.413942 -0.019003 -0.001813 -0.469142  0.373712  0.11816   \n",
      "\n",
      "       af_7      af_8      af_9  ...   tt2_758  tt2_759  tt2_760   tt2_761  \\\n",
      "0  0.458663 -0.832604 -0.694672  ...  0.458175 -0.21176 -0.96156 -0.493649   \n",
      "\n",
      "    tt2_762   tt2_763  tt2_764   tt2_765   tt2_766   tt2_767  \n",
      "0  0.809536 -0.628611 -0.31696  0.329534  0.378763  0.280315  \n",
      "\n",
      "[1 rows x 4608 columns]\n"
     ]
    },
    {
     "name": "stderr",
     "output_type": "stream",
     "text": [
      "[INFO] The trainset is processed.\n",
      "INFO:__name__:[INFO] The trainset is processed.\n"
     ]
    },
    {
     "name": "stdout",
     "output_type": "stream",
     "text": [
      "1\n",
      "___1\n",
      "       af_0      af_1      af_2      af_3      af_4      af_5      af_6  \\\n",
      "0 -0.152503  0.203002  0.143707  0.059725  0.066465  0.394153 -0.360529   \n",
      "\n",
      "       af_7      af_8     af_9  ...   tt2_758   tt2_759   tt2_760   tt2_761  \\\n",
      "0  0.167164 -0.724051 -0.22898  ...  0.609335 -0.032618 -0.784308 -0.150854   \n",
      "\n",
      "    tt2_762   tt2_763   tt2_764   tt2_765   tt2_766   tt2_767  \n",
      "0  0.880104 -0.281377 -0.297847 -0.104674  0.555336  0.304673  \n",
      "\n",
      "[1 rows x 4608 columns]\n"
     ]
    },
    {
     "name": "stderr",
     "output_type": "stream",
     "text": [
      "[INFO] The trainset is processed.\n",
      "INFO:__name__:[INFO] The trainset is processed.\n"
     ]
    },
    {
     "name": "stdout",
     "output_type": "stream",
     "text": [
      "1\n",
      "___1\n",
      "       af_0      af_1      af_2      af_3      af_4      af_5      af_6  \\\n",
      "0 -0.221443 -0.295294  0.221423 -0.130142 -0.289401  0.169993  0.137676   \n",
      "\n",
      "       af_7     af_8      af_9  ...  tt2_758   tt2_759   tt2_760   tt2_761  \\\n",
      "0  0.832922 -0.58172 -0.637711  ...  0.17031 -0.179401 -1.011714 -0.061777   \n",
      "\n",
      "    tt2_762   tt2_763   tt2_764   tt2_765   tt2_766   tt2_767  \n",
      "0  0.776081 -0.741007 -0.080221  0.083261  0.651792  0.075106  \n",
      "\n",
      "[1 rows x 4608 columns]\n"
     ]
    },
    {
     "name": "stderr",
     "output_type": "stream",
     "text": [
      "[INFO] The trainset is processed.\n",
      "INFO:__name__:[INFO] The trainset is processed.\n"
     ]
    },
    {
     "name": "stdout",
     "output_type": "stream",
     "text": [
      "1\n",
      "___1\n",
      "       af_0      af_1      af_2      af_3      af_4      af_5      af_6  \\\n",
      "0 -0.137202  0.281831  0.021466  0.079998 -0.274313  0.624959 -0.246443   \n",
      "\n",
      "       af_7      af_8      af_9  ...   tt2_758   tt2_759   tt2_760   tt2_761  \\\n",
      "0  0.405247 -0.605237 -0.125942  ...  0.479072 -0.116907 -0.571838 -0.663176   \n",
      "\n",
      "    tt2_762   tt2_763   tt2_764   tt2_765  tt2_766   tt2_767  \n",
      "0  0.524416 -0.702387 -0.608639  1.114591  0.17081  0.207296  \n",
      "\n",
      "[1 rows x 4608 columns]\n"
     ]
    },
    {
     "name": "stderr",
     "output_type": "stream",
     "text": [
      "[INFO] The trainset is processed.\n",
      "INFO:__name__:[INFO] The trainset is processed.\n"
     ]
    },
    {
     "name": "stdout",
     "output_type": "stream",
     "text": [
      "1\n",
      "___1\n",
      "       af_0      af_1      af_2      af_3      af_4      af_5      af_6  \\\n",
      "0 -0.313417 -0.036475  0.274863 -0.005083 -0.170517  0.605021  0.125884   \n",
      "\n",
      "       af_7      af_8      af_9  ...   tt2_758   tt2_759   tt2_760   tt2_761  \\\n",
      "0  0.407169 -0.701953 -0.596455  ...  0.336308 -0.134542 -0.846651 -0.409227   \n",
      "\n",
      "    tt2_762   tt2_763   tt2_764   tt2_765   tt2_766   tt2_767  \n",
      "0  0.944772 -0.418758 -0.196671  0.091571  0.636997  0.329401  \n",
      "\n",
      "[1 rows x 4608 columns]\n"
     ]
    },
    {
     "name": "stderr",
     "output_type": "stream",
     "text": [
      "[INFO] The trainset is processed.\n",
      "INFO:__name__:[INFO] The trainset is processed.\n"
     ]
    },
    {
     "name": "stdout",
     "output_type": "stream",
     "text": [
      "1\n",
      "___1\n",
      "       af_0      af_1      af_2      af_3      af_4      af_5      af_6  \\\n",
      "0 -0.297789 -0.277245  0.418189 -0.008975 -0.187204  0.238802 -0.071432   \n",
      "\n",
      "       af_7      af_8      af_9  ...   tt2_758  tt2_759   tt2_760  tt2_761  \\\n",
      "0  1.122959 -0.485051 -0.682093  ...  0.869988 -0.15434 -0.827332  0.07427   \n",
      "\n",
      "    tt2_762   tt2_763   tt2_764  tt2_765   tt2_766  tt2_767  \n",
      "0  0.831775 -0.624786 -0.515269  0.61306  0.323595 -0.40997  \n",
      "\n",
      "[1 rows x 4608 columns]\n"
     ]
    },
    {
     "name": "stderr",
     "output_type": "stream",
     "text": [
      "[INFO] The trainset is processed.\n",
      "INFO:__name__:[INFO] The trainset is processed.\n"
     ]
    },
    {
     "name": "stdout",
     "output_type": "stream",
     "text": [
      "1\n",
      "___1\n",
      "       af_0      af_1      af_2      af_3      af_4     af_5      af_6  \\\n",
      "0 -0.224289  0.572216  0.127595 -0.113574 -0.430907  0.22917 -0.057376   \n",
      "\n",
      "      af_7      af_8      af_9  ...   tt2_758   tt2_759   tt2_760   tt2_761  \\\n",
      "0  0.49799 -0.942485 -0.634114  ...  0.450184  0.147102 -1.049828 -0.306836   \n",
      "\n",
      "    tt2_762  tt2_763   tt2_764   tt2_765   tt2_766   tt2_767  \n",
      "0  0.957914 -0.74406 -0.019305  0.052945  0.805427  0.379671  \n",
      "\n",
      "[1 rows x 4608 columns]\n"
     ]
    },
    {
     "name": "stderr",
     "output_type": "stream",
     "text": [
      "[INFO] The trainset is processed.\n",
      "INFO:__name__:[INFO] The trainset is processed.\n"
     ]
    },
    {
     "name": "stdout",
     "output_type": "stream",
     "text": [
      "1\n",
      "___1\n",
      "       af_0      af_1      af_2      af_3      af_4      af_5      af_6  \\\n",
      "0 -0.148002  0.199739  0.530938  0.077931 -0.185952  0.391132 -0.247587   \n",
      "\n",
      "       af_7      af_8      af_9  ...  tt2_758   tt2_759   tt2_760   tt2_761  \\\n",
      "0  0.787853 -0.853838 -0.637873  ...  0.25463 -0.035927 -1.018325 -0.248542   \n",
      "\n",
      "    tt2_762   tt2_763   tt2_764   tt2_765   tt2_766   tt2_767  \n",
      "0  0.739908 -0.580904 -0.191881  0.024907  0.541182  0.296926  \n",
      "\n",
      "[1 rows x 4608 columns]\n"
     ]
    },
    {
     "name": "stderr",
     "output_type": "stream",
     "text": [
      "[INFO] The trainset is processed.\n",
      "INFO:__name__:[INFO] The trainset is processed.\n"
     ]
    },
    {
     "name": "stdout",
     "output_type": "stream",
     "text": [
      "1\n",
      "___1\n",
      "      af_0      af_1      af_2      af_3      af_4      af_5      af_6  \\\n",
      "0 -0.60037  0.366744 -0.036528 -0.074303 -0.001116  0.399076  0.117218   \n",
      "\n",
      "       af_7      af_8     af_9  ...   tt2_758   tt2_759   tt2_760   tt2_761  \\\n",
      "0  0.071219 -0.448963 -0.70927  ...  0.227814  0.088676 -1.152243 -0.291055   \n",
      "\n",
      "    tt2_762   tt2_763   tt2_764   tt2_765  tt2_766   tt2_767  \n",
      "0  1.010912 -0.489843 -0.008153  0.137868  0.61271  0.427701  \n",
      "\n",
      "[1 rows x 4608 columns]\n"
     ]
    },
    {
     "name": "stderr",
     "output_type": "stream",
     "text": [
      "[INFO] The trainset is processed.\n",
      "INFO:__name__:[INFO] The trainset is processed.\n"
     ]
    },
    {
     "name": "stdout",
     "output_type": "stream",
     "text": [
      "1\n",
      "___1\n",
      "       af_0      af_1      af_2      af_3      af_4      af_5      af_6  \\\n",
      "0 -0.401648  0.462944 -0.132623  0.002204 -0.152322  0.493165 -0.012805   \n",
      "\n",
      "       af_7      af_8      af_9  ...   tt2_758   tt2_759   tt2_760   tt2_761  \\\n",
      "0  0.031608 -0.555032 -0.597279  ...  0.424432  0.233339 -0.779815 -0.485324   \n",
      "\n",
      "    tt2_762   tt2_763   tt2_764   tt2_765   tt2_766   tt2_767  \n",
      "0  0.859194 -0.782363 -0.611813  0.713376  0.128858  0.284019  \n",
      "\n",
      "[1 rows x 4608 columns]\n"
     ]
    },
    {
     "name": "stderr",
     "output_type": "stream",
     "text": [
      "[INFO] The trainset is processed.\n",
      "INFO:__name__:[INFO] The trainset is processed.\n"
     ]
    },
    {
     "name": "stdout",
     "output_type": "stream",
     "text": [
      "1\n",
      "___1\n",
      "       af_0      af_1      af_2      af_3      af_4      af_5      af_6  \\\n",
      "0 -0.254556 -0.324026  0.243464 -0.106288 -0.194558  0.235341  0.119286   \n",
      "\n",
      "       af_7      af_8      af_9  ...   tt2_758   tt2_759   tt2_760  tt2_761  \\\n",
      "0  0.844659 -0.617905 -0.624504  ...  0.303655 -0.040387 -0.961353  0.06153   \n",
      "\n",
      "    tt2_762   tt2_763  tt2_764   tt2_765   tt2_766   tt2_767  \n",
      "0  0.977136 -0.783325  0.01524  0.053679  0.787868  0.236246  \n",
      "\n",
      "[1 rows x 4608 columns]\n"
     ]
    },
    {
     "name": "stderr",
     "output_type": "stream",
     "text": [
      "[INFO] The trainset is processed.\n",
      "INFO:__name__:[INFO] The trainset is processed.\n"
     ]
    },
    {
     "name": "stdout",
     "output_type": "stream",
     "text": [
      "1\n",
      "___0\n",
      "       af_0      af_1      af_2      af_3      af_4     af_5      af_6  \\\n",
      "0 -0.429394 -0.153743  0.019415 -0.028312 -0.530019  0.18982  0.193654   \n",
      "\n",
      "       af_7      af_8      af_9  ...   tt2_758   tt2_759   tt2_760   tt2_761  \\\n",
      "0  0.835333 -0.864135 -0.619727  ...  0.224617 -0.148234 -0.967628 -0.251264   \n",
      "\n",
      "    tt2_762   tt2_763   tt2_764   tt2_765   tt2_766   tt2_767  \n",
      "0  0.883393 -0.540978 -0.274595  0.275495  0.702055  0.328739  \n",
      "\n",
      "[1 rows x 4608 columns]\n"
     ]
    },
    {
     "name": "stderr",
     "output_type": "stream",
     "text": [
      "[INFO] The trainset is processed.\n",
      "INFO:__name__:[INFO] The trainset is processed.\n"
     ]
    },
    {
     "name": "stdout",
     "output_type": "stream",
     "text": [
      "1\n",
      "___1\n",
      "      af_0      af_1      af_2      af_3      af_4      af_5      af_6  \\\n",
      "0 -0.38585  0.078294  0.748124  0.024271 -0.206301  0.379067  0.007233   \n",
      "\n",
      "       af_7     af_8      af_9  ...   tt2_758   tt2_759   tt2_760   tt2_761  \\\n",
      "0  1.010729 -0.63279 -0.450267  ...  0.334245  0.101671 -1.036859 -0.121108   \n",
      "\n",
      "    tt2_762   tt2_763   tt2_764   tt2_765  tt2_766   tt2_767  \n",
      "0  0.681172 -0.698505 -0.016225  0.035873  0.71489  0.412808  \n",
      "\n",
      "[1 rows x 4608 columns]\n"
     ]
    },
    {
     "name": "stderr",
     "output_type": "stream",
     "text": [
      "[INFO] The trainset is processed.\n",
      "INFO:__name__:[INFO] The trainset is processed.\n"
     ]
    },
    {
     "name": "stdout",
     "output_type": "stream",
     "text": [
      "1\n",
      "___1\n",
      "       af_0      af_1      af_2      af_3      af_4      af_5     af_6  \\\n",
      "0 -0.302991  0.413942 -0.019003 -0.001813 -0.469142  0.373712  0.11816   \n",
      "\n",
      "       af_7      af_8      af_9  ...   tt2_758  tt2_759  tt2_760  tt2_761  \\\n",
      "0  0.458663 -0.832604 -0.694672  ...  0.362415 -0.02548 -0.99985  -0.3603   \n",
      "\n",
      "    tt2_762   tt2_763  tt2_764   tt2_765   tt2_766   tt2_767  \n",
      "0  1.059887 -0.480958 -0.30028  0.069847  0.398096  0.329653  \n",
      "\n",
      "[1 rows x 4608 columns]\n"
     ]
    },
    {
     "name": "stderr",
     "output_type": "stream",
     "text": [
      "[INFO] The trainset is processed.\n",
      "INFO:__name__:[INFO] The trainset is processed.\n"
     ]
    },
    {
     "name": "stdout",
     "output_type": "stream",
     "text": [
      "1\n",
      "___1\n",
      "       af_0      af_1     af_2      af_3      af_4      af_5      af_6  \\\n",
      "0 -0.478231  0.520424 -0.19278 -0.165082 -0.438838  0.602711  0.301951   \n",
      "\n",
      "       af_7      af_8      af_9  ...   tt2_758   tt2_759   tt2_760   tt2_761  \\\n",
      "0 -0.069013 -0.725057 -1.243474  ...  0.500782  0.194035 -0.857132 -0.186018   \n",
      "\n",
      "    tt2_762   tt2_763   tt2_764   tt2_765   tt2_766   tt2_767  \n",
      "0  0.967108 -0.394357 -0.394352  0.171822  0.816818 -0.143305  \n",
      "\n",
      "[1 rows x 4608 columns]\n"
     ]
    },
    {
     "name": "stderr",
     "output_type": "stream",
     "text": [
      "[INFO] The trainset is processed.\n",
      "INFO:__name__:[INFO] The trainset is processed.\n"
     ]
    },
    {
     "name": "stdout",
     "output_type": "stream",
     "text": [
      "1\n",
      "___2\n",
      "       af_0      af_1      af_2      af_3      af_4      af_5      af_6  \\\n",
      "0 -0.695454  0.586094 -0.443006 -0.223487 -0.465903  0.800117  0.451842   \n",
      "\n",
      "       af_7      af_8      af_9  ...   tt2_758   tt2_759   tt2_760   tt2_761  \\\n",
      "0 -0.294603 -0.361342 -1.424196  ...  0.309019 -0.403831 -0.077707 -0.551515   \n",
      "\n",
      "    tt2_762   tt2_763   tt2_764   tt2_765   tt2_766   tt2_767  \n",
      "0  0.168009 -0.447023 -0.512657  0.698791  0.084103 -0.018117  \n",
      "\n",
      "[1 rows x 4608 columns]\n"
     ]
    },
    {
     "name": "stderr",
     "output_type": "stream",
     "text": [
      "[INFO] The trainset is processed.\n",
      "INFO:__name__:[INFO] The trainset is processed.\n"
     ]
    },
    {
     "name": "stdout",
     "output_type": "stream",
     "text": [
      "1\n",
      "___2\n",
      "       af_0      af_1      af_2      af_3      af_4     af_5      af_6  \\\n",
      "0 -0.422708  0.524975 -0.086499 -0.143521 -0.302538  0.50044  0.217509   \n",
      "\n",
      "       af_7      af_8   af_9  ...   tt2_758   tt2_759   tt2_760   tt2_761  \\\n",
      "0  0.032306 -0.778975 -0.889  ...  0.438933 -0.150448 -0.446111 -0.490464   \n",
      "\n",
      "    tt2_762   tt2_763   tt2_764   tt2_765   tt2_766   tt2_767  \n",
      "0  0.575977 -0.367148 -0.805973  0.415122 -0.114311  0.203131  \n",
      "\n",
      "[1 rows x 4608 columns]\n"
     ]
    },
    {
     "name": "stderr",
     "output_type": "stream",
     "text": [
      "[INFO] The trainset is processed.\n",
      "INFO:__name__:[INFO] The trainset is processed.\n"
     ]
    },
    {
     "name": "stdout",
     "output_type": "stream",
     "text": [
      "1\n",
      "___1\n",
      "       af_0      af_1      af_2      af_3      af_4      af_5      af_6  \\\n",
      "0 -0.426701 -0.144503  0.218855  0.041122  0.003305  0.587694  0.209197   \n",
      "\n",
      "      af_7      af_8      af_9  ...   tt2_758   tt2_759   tt2_760   tt2_761  \\\n",
      "0  0.63478 -0.740571 -0.577936  ...  0.289715 -0.140409 -1.134546 -0.354712   \n",
      "\n",
      "   tt2_762   tt2_763   tt2_764   tt2_765   tt2_766   tt2_767  \n",
      "0  0.91708 -1.004747 -0.134142  0.510949  0.521148 -0.066114  \n",
      "\n",
      "[1 rows x 4608 columns]\n"
     ]
    },
    {
     "name": "stderr",
     "output_type": "stream",
     "text": [
      "[INFO] The trainset is processed.\n",
      "INFO:__name__:[INFO] The trainset is processed.\n"
     ]
    },
    {
     "name": "stdout",
     "output_type": "stream",
     "text": [
      "1\n",
      "___1\n",
      "       af_0      af_1      af_2      af_3      af_4      af_5      af_6  \\\n",
      "0 -0.545497  0.530825 -0.243328 -0.259352 -0.477612  0.593028  0.332686   \n",
      "\n",
      "      af_7      af_8      af_9  ...   tt2_758   tt2_759  tt2_760  tt2_761  \\\n",
      "0 -0.23006 -0.740062 -1.251289  ...  0.374243 -0.368888 -0.45301 -0.60989   \n",
      "\n",
      "   tt2_762   tt2_763   tt2_764   tt2_765   tt2_766  tt2_767  \n",
      "0  0.83128 -0.517951 -0.786463  0.471527  0.079585  0.27944  \n",
      "\n",
      "[1 rows x 4608 columns]\n"
     ]
    },
    {
     "name": "stderr",
     "output_type": "stream",
     "text": [
      "[INFO] The trainset is processed.\n",
      "INFO:__name__:[INFO] The trainset is processed.\n"
     ]
    },
    {
     "name": "stdout",
     "output_type": "stream",
     "text": [
      "1\n",
      "___1\n",
      "       af_0      af_1      af_2      af_3      af_4      af_5      af_6  \\\n",
      "0 -0.403414 -0.099893  0.000284 -0.001084 -0.547871  0.214643  0.168305   \n",
      "\n",
      "      af_7      af_8      af_9  ...  tt2_758   tt2_759   tt2_760   tt2_761  \\\n",
      "0  0.76788 -0.858259 -0.599019  ...  0.26848  0.025653 -1.258517 -0.006467   \n",
      "\n",
      "    tt2_762   tt2_763   tt2_764   tt2_765   tt2_766   tt2_767  \n",
      "0  0.754173 -0.921261 -0.064174  0.280769  0.838994  0.191788  \n",
      "\n",
      "[1 rows x 4608 columns]\n"
     ]
    },
    {
     "name": "stderr",
     "output_type": "stream",
     "text": [
      "[INFO] The trainset is processed.\n",
      "INFO:__name__:[INFO] The trainset is processed.\n"
     ]
    },
    {
     "name": "stdout",
     "output_type": "stream",
     "text": [
      "1\n",
      "___2\n",
      "       af_0      af_1      af_2     af_3      af_4      af_5      af_6  \\\n",
      "0 -0.238658 -0.322546  0.248146 -0.09089 -0.190421  0.235026  0.128819   \n",
      "\n",
      "       af_7      af_8      af_9  ...   tt2_758   tt2_759   tt2_760   tt2_761  \\\n",
      "0  0.817269 -0.605636 -0.604803  ...  0.176353  0.050317 -0.884848  0.143752   \n",
      "\n",
      "    tt2_762   tt2_763   tt2_764   tt2_765   tt2_766   tt2_767  \n",
      "0  0.312969 -0.188794 -0.244633  0.862975  0.295968  0.057196  \n",
      "\n",
      "[1 rows x 4608 columns]\n"
     ]
    },
    {
     "name": "stderr",
     "output_type": "stream",
     "text": [
      "[INFO] The trainset is processed.\n",
      "INFO:__name__:[INFO] The trainset is processed.\n"
     ]
    },
    {
     "name": "stdout",
     "output_type": "stream",
     "text": [
      "1\n",
      "___1\n",
      "       af_0      af_1      af_2      af_3     af_4      af_5      af_6  \\\n",
      "0 -0.318236  0.220659 -0.075694 -0.398698  0.34058  0.077705  0.481716   \n",
      "\n",
      "       af_7      af_8      af_9  ...   tt2_758   tt2_759   tt2_760   tt2_761  \\\n",
      "0  0.424806  0.209167  0.006605  ...  0.187528  0.322972 -1.106817 -0.026015   \n",
      "\n",
      "    tt2_762   tt2_763   tt2_764   tt2_765   tt2_766   tt2_767  \n",
      "0  0.735932 -0.821582 -0.219242  0.049588  0.826382  0.422242  \n",
      "\n",
      "[1 rows x 4608 columns]\n"
     ]
    },
    {
     "name": "stderr",
     "output_type": "stream",
     "text": [
      "[INFO] The trainset is processed.\n",
      "INFO:__name__:[INFO] The trainset is processed.\n"
     ]
    },
    {
     "name": "stdout",
     "output_type": "stream",
     "text": [
      "1\n",
      "___1\n",
      "       af_0      af_1      af_2      af_3      af_4     af_5      af_6  \\\n",
      "0 -0.517631  0.534439 -0.068349 -0.191829 -0.446713  0.36831  0.221133   \n",
      "\n",
      "       af_7      af_8      af_9  ...   tt2_758   tt2_759   tt2_760   tt2_761  \\\n",
      "0  0.046478 -0.876352 -1.091026  ...  0.293671 -0.081644 -0.962408 -0.148749   \n",
      "\n",
      "    tt2_762  tt2_763   tt2_764   tt2_765   tt2_766   tt2_767  \n",
      "0  0.751622 -0.47824 -0.168836  0.509211  0.493263  0.289664  \n",
      "\n",
      "[1 rows x 4608 columns]\n"
     ]
    },
    {
     "name": "stderr",
     "output_type": "stream",
     "text": [
      "[INFO] The trainset is processed.\n",
      "INFO:__name__:[INFO] The trainset is processed.\n"
     ]
    },
    {
     "name": "stdout",
     "output_type": "stream",
     "text": [
      "1\n",
      "___2\n",
      "       af_0      af_1      af_2      af_3      af_4     af_5      af_6  \\\n",
      "0 -0.422708  0.524975 -0.086499 -0.143521 -0.302538  0.50044  0.217509   \n",
      "\n",
      "       af_7      af_8   af_9  ...   tt2_758   tt2_759   tt2_760   tt2_761  \\\n",
      "0  0.032306 -0.778975 -0.889  ...  0.478916 -0.426334 -0.576272 -0.465957   \n",
      "\n",
      "    tt2_762   tt2_763   tt2_764   tt2_765   tt2_766   tt2_767  \n",
      "0  0.764902 -0.120753 -0.581976 -0.047506 -0.119457  0.123288  \n",
      "\n",
      "[1 rows x 4608 columns]\n"
     ]
    },
    {
     "name": "stderr",
     "output_type": "stream",
     "text": [
      "[INFO] The trainset is processed.\n",
      "INFO:__name__:[INFO] The trainset is processed.\n"
     ]
    },
    {
     "name": "stdout",
     "output_type": "stream",
     "text": [
      "1\n",
      "___1\n",
      "       af_0      af_1      af_2      af_3      af_4      af_5     af_6  \\\n",
      "0 -0.443078 -0.026003  0.808508 -0.146497 -0.125624  0.210229  0.10508   \n",
      "\n",
      "       af_7      af_8      af_9  ...   tt2_758  tt2_759   tt2_760   tt2_761  \\\n",
      "0  0.585133 -0.772545 -0.343653  ...  0.545197  0.42189 -0.797029 -0.469728   \n",
      "\n",
      "    tt2_762   tt2_763   tt2_764   tt2_765   tt2_766  tt2_767  \n",
      "0  0.801858 -0.544413 -0.003361 -0.024371  0.595767  0.55376  \n",
      "\n",
      "[1 rows x 4608 columns]\n"
     ]
    },
    {
     "name": "stderr",
     "output_type": "stream",
     "text": [
      "[INFO] The trainset is processed.\n",
      "INFO:__name__:[INFO] The trainset is processed.\n"
     ]
    },
    {
     "name": "stdout",
     "output_type": "stream",
     "text": [
      "1\n",
      "___1\n",
      "       af_0      af_1      af_2      af_3      af_4      af_5      af_6  \\\n",
      "0 -0.606313  0.300873 -0.202348 -0.237744 -0.116859  0.453853  0.107856   \n",
      "\n",
      "       af_7      af_8      af_9  ...  tt2_758   tt2_759   tt2_760   tt2_761  \\\n",
      "0  0.361014 -0.436529 -0.509332  ...  0.44647 -0.210678 -0.679765 -0.280039   \n",
      "\n",
      "    tt2_762   tt2_763   tt2_764   tt2_765   tt2_766  tt2_767  \n",
      "0  0.558295 -0.339441 -0.279135  0.314351  0.276933  0.37124  \n",
      "\n",
      "[1 rows x 4608 columns]\n"
     ]
    },
    {
     "name": "stderr",
     "output_type": "stream",
     "text": [
      "[INFO] The trainset is processed.\n",
      "INFO:__name__:[INFO] The trainset is processed.\n"
     ]
    },
    {
     "name": "stdout",
     "output_type": "stream",
     "text": [
      "1\n",
      "___1\n",
      "       af_0      af_1      af_2      af_3      af_4      af_5      af_6  \\\n",
      "0 -0.386274  0.556344 -0.028906 -0.114696 -0.293208  0.421678  0.218009   \n",
      "\n",
      "       af_7      af_8      af_9  ...   tt2_758  tt2_759   tt2_760   tt2_761  \\\n",
      "0  0.086604 -0.774125 -0.846606  ...  0.503693 -0.41947 -0.789365 -0.365836   \n",
      "\n",
      "    tt2_762   tt2_763   tt2_764   tt2_765   tt2_766   tt2_767  \n",
      "0  0.818839 -0.182361 -0.807321  0.183779  0.197669  0.226713  \n",
      "\n",
      "[1 rows x 4608 columns]\n"
     ]
    },
    {
     "name": "stderr",
     "output_type": "stream",
     "text": [
      "[INFO] The trainset is processed.\n",
      "INFO:__name__:[INFO] The trainset is processed.\n"
     ]
    },
    {
     "name": "stdout",
     "output_type": "stream",
     "text": [
      "1\n",
      "___0\n",
      "       af_0     af_1      af_2      af_3      af_4      af_5      af_6  \\\n",
      "0 -0.235667 -0.31817  0.249657 -0.098968 -0.181755  0.234857  0.120931   \n",
      "\n",
      "       af_7      af_8      af_9  ...   tt2_758   tt2_759   tt2_760   tt2_761  \\\n",
      "0  0.808297 -0.624277 -0.602239  ...  0.277866  0.178723 -1.061624 -0.285937   \n",
      "\n",
      "   tt2_762   tt2_763   tt2_764   tt2_765   tt2_766   tt2_767  \n",
      "0   0.8711 -0.579876  0.009088  0.508563  1.041955  0.258771  \n",
      "\n",
      "[1 rows x 4608 columns]\n"
     ]
    },
    {
     "name": "stderr",
     "output_type": "stream",
     "text": [
      "[INFO] The trainset is processed.\n",
      "INFO:__name__:[INFO] The trainset is processed.\n"
     ]
    },
    {
     "name": "stdout",
     "output_type": "stream",
     "text": [
      "1\n",
      "___1\n",
      "       af_0      af_1      af_2      af_3      af_4      af_5      af_6  \\\n",
      "0 -0.321862  0.144112  0.257299  0.162979 -0.184977  0.599793 -0.421707   \n",
      "\n",
      "       af_7      af_8      af_9  ...   tt2_758   tt2_759  tt2_760   tt2_761  \\\n",
      "0  0.401782 -0.808469 -0.367609  ...  0.321965 -0.287867 -0.88085  0.069379   \n",
      "\n",
      "    tt2_762   tt2_763   tt2_764   tt2_765   tt2_766   tt2_767  \n",
      "0  0.837474 -0.451816 -0.559337  0.140578  0.328855  0.278762  \n",
      "\n",
      "[1 rows x 4608 columns]\n"
     ]
    },
    {
     "name": "stderr",
     "output_type": "stream",
     "text": [
      "[INFO] The trainset is processed.\n",
      "INFO:__name__:[INFO] The trainset is processed.\n"
     ]
    },
    {
     "name": "stdout",
     "output_type": "stream",
     "text": [
      "1\n",
      "___1\n",
      "       af_0      af_1      af_2      af_3     af_4      af_5      af_6  \\\n",
      "0 -0.296006 -0.256612  0.351385  0.083105 -0.13803  0.416646  0.064077   \n",
      "\n",
      "      af_7     af_8      af_9  ...   tt2_758   tt2_759   tt2_760   tt2_761  \\\n",
      "0  0.86707 -0.64044 -0.394075  ...  0.467094 -0.409711 -0.637459 -0.146841   \n",
      "\n",
      "    tt2_762   tt2_763   tt2_764   tt2_765   tt2_766   tt2_767  \n",
      "0  0.815041 -0.443768 -0.751602  0.748443  0.190731 -0.284051  \n",
      "\n",
      "[1 rows x 4608 columns]\n"
     ]
    },
    {
     "name": "stderr",
     "output_type": "stream",
     "text": [
      "[INFO] The trainset is processed.\n",
      "INFO:__name__:[INFO] The trainset is processed.\n"
     ]
    },
    {
     "name": "stdout",
     "output_type": "stream",
     "text": [
      "1\n",
      "___1\n",
      "       af_0      af_1      af_2      af_3      af_4      af_5      af_6  \\\n",
      "0 -0.155079  0.244299 -0.012049  0.048843 -0.519064  0.551713 -0.107842   \n",
      "\n",
      "       af_7      af_8      af_9  ...   tt2_758  tt2_759   tt2_760   tt2_761  \\\n",
      "0  0.929634 -0.757505 -0.521954  ...  0.298741  -0.0633 -0.683558 -0.229801   \n",
      "\n",
      "    tt2_762   tt2_763   tt2_764   tt2_765   tt2_766   tt2_767  \n",
      "0  0.712006 -0.654859 -0.266383  0.656738  0.438204  0.111902  \n",
      "\n",
      "[1 rows x 4608 columns]\n"
     ]
    },
    {
     "name": "stderr",
     "output_type": "stream",
     "text": [
      "[INFO] The trainset is processed.\n",
      "INFO:__name__:[INFO] The trainset is processed.\n"
     ]
    },
    {
     "name": "stdout",
     "output_type": "stream",
     "text": [
      "1\n",
      "___1\n",
      "       af_0      af_1      af_2      af_3      af_4      af_5      af_6  \\\n",
      "0 -0.695454  0.586094 -0.443006 -0.223487 -0.465903  0.800117  0.451842   \n",
      "\n",
      "       af_7      af_8      af_9  ...   tt2_758   tt2_759   tt2_760   tt2_761  \\\n",
      "0 -0.294603 -0.361342 -1.424196  ...  0.425618 -0.427075 -0.559319 -0.421416   \n",
      "\n",
      "    tt2_762   tt2_763   tt2_764   tt2_765   tt2_766   tt2_767  \n",
      "0  0.775211 -0.360623 -0.982863  0.631718 -0.080385  0.077359  \n",
      "\n",
      "[1 rows x 4608 columns]\n"
     ]
    },
    {
     "name": "stderr",
     "output_type": "stream",
     "text": [
      "[INFO] The trainset is processed.\n",
      "INFO:__name__:[INFO] The trainset is processed.\n"
     ]
    },
    {
     "name": "stdout",
     "output_type": "stream",
     "text": [
      "1\n",
      "___1\n",
      "       af_0      af_1      af_2      af_3     af_4     af_5      af_6  \\\n",
      "0 -0.205227  0.339291 -0.318746 -0.273624 -0.19193  0.37298 -0.141451   \n",
      "\n",
      "       af_7      af_8      af_9  ...   tt2_758   tt2_759  tt2_760   tt2_761  \\\n",
      "0 -0.069446 -0.684842 -0.534533  ...  0.330332  0.068114 -1.01771 -0.293817   \n",
      "\n",
      "    tt2_762   tt2_763   tt2_764   tt2_765  tt2_766   tt2_767  \n",
      "0  0.824027 -0.615594 -0.134101  0.167064  0.58135  0.355953  \n",
      "\n",
      "[1 rows x 4608 columns]\n"
     ]
    },
    {
     "name": "stderr",
     "output_type": "stream",
     "text": [
      "[INFO] The trainset is processed.\n",
      "INFO:__name__:[INFO] The trainset is processed.\n"
     ]
    },
    {
     "name": "stdout",
     "output_type": "stream",
     "text": [
      "1\n",
      "___1\n",
      "       af_0      af_1      af_2      af_3      af_4      af_5      af_6  \\\n",
      "0 -0.409412  0.478361 -0.502822 -0.216065 -0.221073  0.376769 -0.191139   \n",
      "\n",
      "       af_7    af_8      af_9  ...   tt2_758   tt2_759   tt2_760   tt2_761  \\\n",
      "0 -0.024323 -0.5916 -0.539099  ...  0.298673  0.171286 -0.947097 -0.265433   \n",
      "\n",
      "   tt2_762   tt2_763   tt2_764  tt2_765   tt2_766   tt2_767  \n",
      "0  1.13789 -0.512401 -0.182955  0.06852  0.506895  0.393135  \n",
      "\n",
      "[1 rows x 4608 columns]\n"
     ]
    },
    {
     "name": "stderr",
     "output_type": "stream",
     "text": [
      "[INFO] The trainset is processed.\n",
      "INFO:__name__:[INFO] The trainset is processed.\n"
     ]
    },
    {
     "name": "stdout",
     "output_type": "stream",
     "text": [
      "1\n",
      "___1\n",
      "       af_0      af_1      af_2      af_3      af_4      af_5      af_6  \\\n",
      "0 -0.545497  0.530825 -0.243328 -0.259352 -0.477612  0.593028  0.332686   \n",
      "\n",
      "      af_7      af_8      af_9  ...   tt2_758   tt2_759  tt2_760   tt2_761  \\\n",
      "0 -0.23006 -0.740062 -1.251289  ...  0.456638  0.220361  -1.1789 -0.345793   \n",
      "\n",
      "    tt2_762   tt2_763   tt2_764   tt2_765   tt2_766   tt2_767  \n",
      "0  1.032523 -0.927723  0.006063  0.058558  0.693745  0.255647  \n",
      "\n",
      "[1 rows x 4608 columns]\n"
     ]
    },
    {
     "name": "stderr",
     "output_type": "stream",
     "text": [
      "[INFO] The trainset is processed.\n",
      "INFO:__name__:[INFO] The trainset is processed.\n"
     ]
    },
    {
     "name": "stdout",
     "output_type": "stream",
     "text": [
      "1\n",
      "___1\n",
      "       af_0      af_1      af_2      af_3      af_4      af_5      af_6  \\\n",
      "0 -0.155079  0.244299 -0.012049  0.048843 -0.519064  0.551713 -0.107842   \n",
      "\n",
      "       af_7      af_8      af_9  ...   tt2_758   tt2_759   tt2_760   tt2_761  \\\n",
      "0  0.929634 -0.757505 -0.521954  ...  0.341415  0.406375  0.233479 -0.786509   \n",
      "\n",
      "    tt2_762   tt2_763   tt2_764   tt2_765   tt2_766   tt2_767  \n",
      "0 -0.029553  0.155645  0.118805  0.827437  0.210153 -0.320923  \n",
      "\n",
      "[1 rows x 4608 columns]\n"
     ]
    },
    {
     "name": "stderr",
     "output_type": "stream",
     "text": [
      "[INFO] The trainset is processed.\n",
      "INFO:__name__:[INFO] The trainset is processed.\n"
     ]
    },
    {
     "name": "stdout",
     "output_type": "stream",
     "text": [
      "1\n",
      "___2\n",
      "       af_0      af_1      af_2      af_3      af_4      af_5      af_6  \\\n",
      "0 -0.212936  0.282724 -0.139242  0.030577 -0.255762  0.771173 -0.023983   \n",
      "\n",
      "       af_7      af_8      af_9  ...   tt2_758   tt2_759   tt2_760   tt2_761  \\\n",
      "0  0.512969 -0.702354 -0.465759  ...  0.402138  0.419158 -0.326913 -0.643348   \n",
      "\n",
      "    tt2_762   tt2_763   tt2_764   tt2_765  tt2_766  tt2_767  \n",
      "0 -0.236929 -0.432527 -0.624165  0.920889  0.18143 -0.11763  \n",
      "\n",
      "[1 rows x 4608 columns]\n"
     ]
    },
    {
     "name": "stderr",
     "output_type": "stream",
     "text": [
      "[INFO] The trainset is processed.\n",
      "INFO:__name__:[INFO] The trainset is processed.\n"
     ]
    },
    {
     "name": "stdout",
     "output_type": "stream",
     "text": [
      "1\n",
      "___1\n",
      "       af_0      af_1      af_2      af_3      af_4      af_5     af_6  \\\n",
      "0 -0.302991  0.413942 -0.019003 -0.001813 -0.469142  0.373712  0.11816   \n",
      "\n",
      "       af_7      af_8      af_9  ...  tt2_758   tt2_759   tt2_760   tt2_761  \\\n",
      "0  0.458663 -0.832604 -0.694672  ...  0.28703  0.169248 -1.017119 -0.106855   \n",
      "\n",
      "    tt2_762   tt2_763   tt2_764   tt2_765   tt2_766   tt2_767  \n",
      "0  0.900737 -0.676742 -0.099649  0.185653  0.860835  0.124546  \n",
      "\n",
      "[1 rows x 4608 columns]\n"
     ]
    },
    {
     "name": "stderr",
     "output_type": "stream",
     "text": [
      "[INFO] The trainset is processed.\n",
      "INFO:__name__:[INFO] The trainset is processed.\n"
     ]
    },
    {
     "name": "stdout",
     "output_type": "stream",
     "text": [
      "1\n",
      "___2\n",
      "       af_0      af_1      af_2      af_3      af_4      af_5      af_6  \\\n",
      "0 -0.137202  0.281831  0.021466  0.079998 -0.274313  0.624959 -0.246443   \n",
      "\n",
      "       af_7      af_8      af_9  ...  tt2_758   tt2_759   tt2_760   tt2_761  \\\n",
      "0  0.405247 -0.605237 -0.125942  ...  0.23876 -0.340773 -0.938027 -0.552071   \n",
      "\n",
      "    tt2_762   tt2_763   tt2_764   tt2_765   tt2_766   tt2_767  \n",
      "0  1.077316 -0.682933 -0.428936  0.375402  0.312176  0.478711  \n",
      "\n",
      "[1 rows x 4608 columns]\n"
     ]
    },
    {
     "name": "stderr",
     "output_type": "stream",
     "text": [
      "[INFO] The trainset is processed.\n",
      "INFO:__name__:[INFO] The trainset is processed.\n"
     ]
    },
    {
     "name": "stdout",
     "output_type": "stream",
     "text": [
      "1\n",
      "___1\n",
      "      af_0      af_1      af_2      af_3      af_4      af_5      af_6  \\\n",
      "0 -0.60037  0.366744 -0.036528 -0.074303 -0.001116  0.399076  0.117218   \n",
      "\n",
      "       af_7      af_8     af_9  ...   tt2_758  tt2_759   tt2_760   tt2_761  \\\n",
      "0  0.071219 -0.448963 -0.70927  ...  0.439441  0.12763 -1.029639 -0.297882   \n",
      "\n",
      "    tt2_762   tt2_763   tt2_764   tt2_765   tt2_766   tt2_767  \n",
      "0  1.028916 -0.717558 -0.195507  0.374005  0.521868  0.432268  \n",
      "\n",
      "[1 rows x 4608 columns]\n"
     ]
    },
    {
     "name": "stderr",
     "output_type": "stream",
     "text": [
      "[INFO] The trainset is processed.\n",
      "INFO:__name__:[INFO] The trainset is processed.\n"
     ]
    },
    {
     "name": "stdout",
     "output_type": "stream",
     "text": [
      "1\n",
      "___1\n",
      "       af_0      af_1      af_2      af_3      af_4      af_5      af_6  \\\n",
      "0 -0.225975  0.392677 -0.286994 -0.127175 -0.453207  0.597842 -0.010403   \n",
      "\n",
      "       af_7      af_8      af_9  ...   tt2_758   tt2_759   tt2_760   tt2_761  \\\n",
      "0  0.360987 -0.910697 -0.727336  ...  0.574725  0.902853 -1.016305 -0.476134   \n",
      "\n",
      "    tt2_762   tt2_763   tt2_764  tt2_765   tt2_766   tt2_767  \n",
      "0  0.760997 -0.817653  0.080144 -0.08394  0.272668  0.448113  \n",
      "\n",
      "[1 rows x 4608 columns]\n"
     ]
    },
    {
     "name": "stderr",
     "output_type": "stream",
     "text": [
      "[INFO] The trainset is processed.\n",
      "INFO:__name__:[INFO] The trainset is processed.\n"
     ]
    },
    {
     "name": "stdout",
     "output_type": "stream",
     "text": [
      "1\n",
      "___2\n",
      "      af_0      af_1      af_2      af_3      af_4      af_5      af_6  \\\n",
      "0 -0.60037  0.366744 -0.036528 -0.074303 -0.001116  0.399076  0.117218   \n",
      "\n",
      "       af_7      af_8     af_9  ...   tt2_758   tt2_759   tt2_760   tt2_761  \\\n",
      "0  0.071219 -0.448963 -0.70927  ...  0.432183  0.638115 -1.070293 -0.682067   \n",
      "\n",
      "    tt2_762  tt2_763   tt2_764   tt2_765   tt2_766   tt2_767  \n",
      "0  0.788857 -0.80019 -0.316293  0.537941  0.238263  0.308547  \n",
      "\n",
      "[1 rows x 4608 columns]\n"
     ]
    },
    {
     "name": "stderr",
     "output_type": "stream",
     "text": [
      "[INFO] The trainset is processed.\n",
      "INFO:__name__:[INFO] The trainset is processed.\n"
     ]
    },
    {
     "name": "stdout",
     "output_type": "stream",
     "text": [
      "1\n",
      "___1\n",
      "     af_0     af_1      af_2      af_3      af_4      af_5      af_6  \\\n",
      "0 -0.1856  0.49252 -0.113554  0.017174 -0.328341  0.640866  0.080205   \n",
      "\n",
      "       af_7      af_8      af_9  ...   tt2_758   tt2_759  tt2_760   tt2_761  \\\n",
      "0  0.386192 -0.846988 -0.697817  ...  0.380854  0.019223 -0.82621  0.053854   \n",
      "\n",
      "    tt2_762   tt2_763   tt2_764   tt2_765   tt2_766   tt2_767  \n",
      "0  0.901933 -0.846682 -0.185429  0.720812  0.622416 -0.350066  \n",
      "\n",
      "[1 rows x 4608 columns]\n"
     ]
    },
    {
     "name": "stderr",
     "output_type": "stream",
     "text": [
      "[INFO] The trainset is processed.\n",
      "INFO:__name__:[INFO] The trainset is processed.\n"
     ]
    },
    {
     "name": "stdout",
     "output_type": "stream",
     "text": [
      "1\n",
      "___1\n",
      "       af_0      af_1      af_2      af_3      af_4      af_5     af_6  \\\n",
      "0 -0.402819  0.036435  0.637031 -0.176008 -0.157195  0.217877  0.05859   \n",
      "\n",
      "       af_7      af_8     af_9  ...   tt2_758   tt2_759   tt2_760   tt2_761  \\\n",
      "0  0.295539 -0.835225 -0.69715  ...  0.459214 -0.250873 -0.846969 -0.311792   \n",
      "\n",
      "    tt2_762   tt2_763   tt2_764  tt2_765   tt2_766   tt2_767  \n",
      "0  0.881998 -0.520941 -0.488298  0.42018  0.397496  0.103941  \n",
      "\n",
      "[1 rows x 4608 columns]\n"
     ]
    },
    {
     "name": "stderr",
     "output_type": "stream",
     "text": [
      "[INFO] The trainset is processed.\n",
      "INFO:__name__:[INFO] The trainset is processed.\n"
     ]
    },
    {
     "name": "stdout",
     "output_type": "stream",
     "text": [
      "1\n",
      "___1\n",
      "       af_0      af_1      af_2      af_3      af_4      af_5     af_6  \\\n",
      "0 -0.307165  0.417296 -0.128575 -0.538212  0.311646  0.151218  0.42696   \n",
      "\n",
      "       af_7      af_8      af_9  ...   tt2_758  tt2_759   tt2_760   tt2_761  \\\n",
      "0  0.431182  0.368633  0.009839  ...  0.352657  0.70031 -0.659364 -0.463871   \n",
      "\n",
      "    tt2_762   tt2_763   tt2_764   tt2_765   tt2_766   tt2_767  \n",
      "0  0.375052 -1.054731  0.339882  0.314207  0.752376  0.224645  \n",
      "\n",
      "[1 rows x 4608 columns]\n"
     ]
    },
    {
     "name": "stderr",
     "output_type": "stream",
     "text": [
      "[INFO] The trainset is processed.\n",
      "INFO:__name__:[INFO] The trainset is processed.\n"
     ]
    },
    {
     "name": "stdout",
     "output_type": "stream",
     "text": [
      "1\n",
      "___1\n",
      "       af_0      af_1      af_2      af_3      af_4      af_5      af_6  \\\n",
      "0 -0.262952 -0.317843  0.251555 -0.088703 -0.204031  0.240484  0.107254   \n",
      "\n",
      "       af_7      af_8      af_9  ...   tt2_758   tt2_759  tt2_760   tt2_761  \\\n",
      "0  0.842501 -0.621101 -0.606636  ...  0.251041  0.050084 -0.97868 -0.233818   \n",
      "\n",
      "    tt2_762  tt2_763  tt2_764   tt2_765   tt2_766  tt2_767  \n",
      "0  0.951444 -0.44848  -0.2415  0.158225  0.813623  0.35403  \n",
      "\n",
      "[1 rows x 4608 columns]\n"
     ]
    },
    {
     "name": "stderr",
     "output_type": "stream",
     "text": [
      "[INFO] The trainset is processed.\n",
      "INFO:__name__:[INFO] The trainset is processed.\n"
     ]
    },
    {
     "name": "stdout",
     "output_type": "stream",
     "text": [
      "1\n",
      "___1\n",
      "       af_0      af_1      af_2      af_3      af_4      af_5      af_6  \\\n",
      "0 -0.218657  0.331436 -0.252459 -0.072919 -0.541842  0.633823 -0.172592   \n",
      "\n",
      "       af_7      af_8     af_9  ...   tt2_758   tt2_759  tt2_760   tt2_761  \\\n",
      "0  0.415223 -0.871036 -0.74352  ...  0.369295  0.356684 -1.13278 -0.237869   \n",
      "\n",
      "    tt2_762   tt2_763   tt2_764  tt2_765   tt2_766   tt2_767  \n",
      "0  1.065108 -0.762403  0.094665  0.13357  0.708798  0.257108  \n",
      "\n",
      "[1 rows x 4608 columns]\n"
     ]
    },
    {
     "name": "stderr",
     "output_type": "stream",
     "text": [
      "[INFO] The trainset is processed.\n",
      "INFO:__name__:[INFO] The trainset is processed.\n"
     ]
    },
    {
     "name": "stdout",
     "output_type": "stream",
     "text": [
      "1\n",
      "___0\n",
      "       af_0      af_1      af_2     af_3      af_4      af_5      af_6  \\\n",
      "0 -0.309842 -0.298047  0.257909 -0.08127 -0.206099  0.255951  0.105493   \n",
      "\n",
      "       af_7      af_8      af_9  ...   tt2_758   tt2_759   tt2_760   tt2_761  \\\n",
      "0  0.842346 -0.614622 -0.547538  ...  0.560074 -0.079821 -0.707607 -0.371043   \n",
      "\n",
      "   tt2_762   tt2_763   tt2_764   tt2_765   tt2_766   tt2_767  \n",
      "0  0.81683 -0.588177 -0.293236  0.362406  0.382789  0.076511  \n",
      "\n",
      "[1 rows x 4608 columns]\n"
     ]
    },
    {
     "name": "stderr",
     "output_type": "stream",
     "text": [
      "[INFO] The trainset is processed.\n",
      "INFO:__name__:[INFO] The trainset is processed.\n"
     ]
    },
    {
     "name": "stdout",
     "output_type": "stream",
     "text": [
      "1\n",
      "___2\n",
      "       af_0      af_1      af_2      af_3      af_4      af_5      af_6  \\\n",
      "0 -0.299879  0.674624 -0.088673 -0.073126 -0.365429  0.454958 -0.015415   \n",
      "\n",
      "       af_7      af_8      af_9  ...   tt2_758   tt2_759   tt2_760   tt2_761  \\\n",
      "0  0.178743 -0.712313 -0.719391  ...  0.559799  0.143158  0.386155 -0.415403   \n",
      "\n",
      "    tt2_762   tt2_763  tt2_764   tt2_765   tt2_766   tt2_767  \n",
      "0 -0.307592  0.064995 -0.89634  0.877129  0.158704 -0.468293  \n",
      "\n",
      "[1 rows x 4608 columns]\n"
     ]
    },
    {
     "name": "stderr",
     "output_type": "stream",
     "text": [
      "[INFO] The trainset is processed.\n",
      "INFO:__name__:[INFO] The trainset is processed.\n"
     ]
    },
    {
     "name": "stdout",
     "output_type": "stream",
     "text": [
      "1\n",
      "___1\n",
      "       af_0      af_1      af_2      af_3      af_4      af_5     af_6  \\\n",
      "0 -0.307165  0.417296 -0.128575 -0.538212  0.311646  0.151218  0.42696   \n",
      "\n",
      "       af_7      af_8      af_9  ...   tt2_758   tt2_759   tt2_760   tt2_761  \\\n",
      "0  0.431182  0.368633  0.009839  ...  0.521442  0.023912 -0.921607 -0.442662   \n",
      "\n",
      "    tt2_762   tt2_763   tt2_764   tt2_765   tt2_766   tt2_767  \n",
      "0  1.051421 -0.629861 -0.363751  0.380853  0.257264  0.392924  \n",
      "\n",
      "[1 rows x 4608 columns]\n",
      "1\n"
     ]
    }
   ],
   "source": [
    "for i in range(100):\n",
    "    tmp = model2.train.loc[i]\n",
    "    a = tmp.accepted_function\n",
    "    b=tmp.rejected_function\n",
    "    c = tmp.text\n",
    "    c = '.'.join(c)\n",
    "    d = tmp.accepted_product\n",
    "    dd = tmp.rejected_product\n",
    "    print('_'*3+str(tmp.target))\n",
    "    print(model.predict(c, a, b, d, dd))"
   ]
  },
  {
   "cell_type": "code",
   "execution_count": null,
   "metadata": {},
   "outputs": [],
   "source": []
  },
  {
   "cell_type": "code",
   "execution_count": 22,
   "metadata": {},
   "outputs": [
    {
     "name": "stdout",
     "output_type": "stream",
     "text": [
      "id                                b5e3f6d4-30bc-443c-a9d6-8ed41d5c33b3\n",
      "html                 [b'<!DOCTYPE html>\\n<html lang=\"en-US\">\\n  <he...\n",
      "text                 [SAP Integrated Business Planning (IBP)\\nSAP A...\n",
      "keywords             [budgeting, decision, cycles, closing, Simplif...\n",
      "accepted_function    IT consultancy, IT support services, IT manage...\n",
      "rejected_function    distribution, sale, trade, wholesale, retail s...\n",
      "accepted_product                                                      \n",
      "rejected_product                                                      \n",
      "target                                                               2\n",
      "Name: 1, dtype: object\n"
     ]
    }
   ],
   "source": [
    "tmp = model2.train.loc[1]\n",
    "a = tmp.accepted_function\n",
    "b=tmp.rejected_function\n",
    "c = tmp.text\n",
    "c = '.'.join(c)\n",
    "d = tmp.accepted_product\n",
    "dd = tmp.rejected_product\n",
    "print(tmp)"
   ]
  },
  {
   "cell_type": "code",
   "execution_count": 25,
   "metadata": {},
   "outputs": [],
   "source": [
    "res = model3.model_encode(c, a, b, d, dd)"
   ]
  },
  {
   "cell_type": "code",
   "execution_count": 26,
   "metadata": {},
   "outputs": [
    {
     "data": {
      "text/plain": [
       "1"
      ]
     },
     "execution_count": 26,
     "metadata": {},
     "output_type": "execute_result"
    }
   ],
   "source": [
    "rf_model.model_predict_one(res)"
   ]
  },
  {
   "cell_type": "code",
   "execution_count": null,
   "metadata": {},
   "outputs": [],
   "source": []
  },
  {
   "cell_type": "code",
   "execution_count": null,
   "metadata": {},
   "outputs": [],
   "source": []
  },
  {
   "cell_type": "code",
   "execution_count": null,
   "metadata": {},
   "outputs": [],
   "source": []
  },
  {
   "cell_type": "code",
   "execution_count": 15,
   "metadata": {},
   "outputs": [],
   "source": [
    "from BertModel import *\n",
    "model3 = BertModel()"
   ]
  },
  {
   "cell_type": "code",
   "execution_count": 16,
   "metadata": {},
   "outputs": [],
   "source": [
    "model3.load_models()"
   ]
  },
  {
   "cell_type": "code",
   "execution_count": 42,
   "metadata": {},
   "outputs": [
    {
     "data": {
      "text/plain": [
       "0    \n",
       "Name: text, dtype: object"
      ]
     },
     "execution_count": 42,
     "metadata": {},
     "output_type": "execute_result"
    }
   ],
   "source": [
    "model2.train.text"
   ]
  },
  {
   "cell_type": "code",
   "execution_count": 41,
   "metadata": {},
   "outputs": [
    {
     "data": {
      "text/plain": [
       "'SAP Integrated Business Planning (IBP)\\nSAP Advanced Planning & Optimization (APO)\\nPP/DS for SAP S/4HANA\\nSAP Digital Manufacturing Cloud (DMC)\\nSAP Manufacturing Intelligence and Integration (MII)\\nSAP Analytics Cloud (SAC)\\nSAP BW 4HANA\\nSAP Business Planning and Consolidation (BPC)\\nSAP S/4HANA Cloud\\nSAP S/4 HANA\\nPP/DS for SAP S/4HANA\\nABOUT US\\nAbout Us\\nBLOG\\nTALENT\\nCONTACT\\nIdioma\\nShare\\nBuscador\\nes\\nTwitter\\nLinkedin\\nContactar\\nThe Best adjustment of plans and forecasts\\nSAP BPC- Business Planning and Consolidation\\nSAP Business Planning and Consolidation (SAP BPC) offers planning, budgeting, simulation and financial and legal consolidation capabilities. In this way you can easily generate plans and forecasts, accelerate the budget and closing cycles, and ensure compliance with financial regulations.\\nAvailable on-premise and Cloud\\nIntegration of SAP data and external data\\nReal-time access to data in SAP S/4 HANA\\nHybrid implementation with SAP Analytics Cloud\\nVersions available for SAP BW/4HANA, SAP S/4 HANA, SAP NetWeaver or the Microsoft platform\\nSimplification of the planning, consolidation, accounting closing and simulation processes\\nMore precise plans, budgets and forecasts\\nImprove decision making, based on what-if analysis and planning scenarios for better results\\nImprove data quality through the use of a single central repository\\nUse collaboration tools to improve planning accuracy\\nReduce cycle times, close books faster and aligh your plans with strategic objectives\\nBudgeting and consolidation guided process.\\nUser tool, allows end users to control the tool without going through IT\\nNative integration in the SAP ecosystem\\nWe are specialists: Saptools is a SAP SCM South EMEA Reference Partner.\\nWe strongly believe in SAP and its best innovative solutions, in order to provide to our clients the most added-value proposition.\\nCloseness and commitment to our clients are the pillars of our way of understanding projects.\\nExpert team, with in-depth knowledge and broad experience in the implementation of SAP projects in the industrial environment.\\nPrepare your company for the future and obtain a personalized DEMO.\\nREQUEST A DEMO\\nCompartir a redes sociales\\n'"
      ]
     },
     "execution_count": 41,
     "metadata": {},
     "output_type": "execute_result"
    }
   ],
   "source": [
    "c"
   ]
  },
  {
   "cell_type": "code",
   "execution_count": 27,
   "metadata": {},
   "outputs": [
    {
     "name": "stderr",
     "output_type": "stream",
     "text": [
      "[INFO] Data loaded\n",
      "INFO:__name__:[INFO] Data loaded\n"
     ]
    },
    {
     "name": "stdout",
     "output_type": "stream",
     "text": [
      "id                                997ae1ab-93c4-45a9-9bd0-a49b2b952f1f\n",
      "html                 [b'<!doctype html>\\n<html lang=\"en-US\">\\n<head...\n",
      "text                 [facebook\\ntwitter\\nlinkedin\\ninstagram\\nWelco...\n",
      "keywords                                                            []\n",
      "accepted_function    general accounting, auditing, book keeping act...\n",
      "rejected_function    manufacture, production, processing, distribut...\n",
      "accepted_product                                                      \n",
      "rejected_product                                                      \n",
      "target                                                               1\n",
      "Name: 2, dtype: object\n"
     ]
    },
    {
     "data": {
      "text/html": [
       "<div>\n",
       "<style scoped>\n",
       "    .dataframe tbody tr th:only-of-type {\n",
       "        vertical-align: middle;\n",
       "    }\n",
       "\n",
       "    .dataframe tbody tr th {\n",
       "        vertical-align: top;\n",
       "    }\n",
       "\n",
       "    .dataframe thead th {\n",
       "        text-align: right;\n",
       "    }\n",
       "</style>\n",
       "<table border=\"1\" class=\"dataframe\">\n",
       "  <thead>\n",
       "    <tr style=\"text-align: right;\">\n",
       "      <th></th>\n",
       "      <th>text</th>\n",
       "      <th>accepted_function</th>\n",
       "      <th>rejected_function</th>\n",
       "      <th>accepted_product</th>\n",
       "      <th>rejected_product</th>\n",
       "    </tr>\n",
       "  </thead>\n",
       "  <tbody>\n",
       "    <tr>\n",
       "      <th>0</th>\n",
       "      <td>[facebook\\ntwitter\\nlinkedin\\ninstagram\\nWelco...</td>\n",
       "      <td>general accounting, auditing, book keeping act...</td>\n",
       "      <td>manufacture, production, processing, distribut...</td>\n",
       "      <td></td>\n",
       "      <td></td>\n",
       "    </tr>\n",
       "  </tbody>\n",
       "</table>\n",
       "</div>"
      ],
      "text/plain": [
       "                                                text  \\\n",
       "0  [facebook\\ntwitter\\nlinkedin\\ninstagram\\nWelco...   \n",
       "\n",
       "                                   accepted_function  \\\n",
       "0  general accounting, auditing, book keeping act...   \n",
       "\n",
       "                                   rejected_function accepted_product  \\\n",
       "0  manufacture, production, processing, distribut...                    \n",
       "\n",
       "  rejected_product  \n",
       "0                   "
      ]
     },
     "execution_count": 27,
     "metadata": {},
     "output_type": "execute_result"
    }
   ],
   "source": [
    "model2.load_data()\n",
    "tmp = model2.train.loc[2]\n",
    "a = tmp.accepted_function\n",
    "b=tmp.rejected_function\n",
    "c = tmp.text\n",
    "c = '.'.join(c)\n",
    "d = tmp.accepted_product\n",
    "dd = tmp.rejected_product\n",
    "print(tmp)\n",
    "\n",
    "\n",
    "model2.train = pd.DataFrame({'text':[[c]],\n",
    "                                      'accepted_function':[a],\n",
    "                                      'rejected_function':[b],\n",
    "                                      'accepted_product':[d],\n",
    "                                      'rejected_product':[dd]})\n",
    "\n",
    "model2.train"
   ]
  },
  {
   "cell_type": "code",
   "execution_count": 28,
   "metadata": {},
   "outputs": [
    {
     "name": "stderr",
     "output_type": "stream",
     "text": [
      "/Users/trokhymovych/Documents/PROJECTS/deloitte/BertPreprocess.py:51: SettingWithCopyWarning: \n",
      "A value is trying to be set on a copy of a slice from a DataFrame.\n",
      "Try using .loc[row_indexer,col_indexer] = value instead\n",
      "\n",
      "See the caveats in the documentation: https://pandas.pydata.org/pandas-docs/stable/user_guide/indexing.html#returning-a-view-versus-a-copy\n",
      "  self.train[col] = self.train[col].apply(self._replace_nan)\n",
      "[INFO] The trainset is processed.\n",
      "INFO:__name__:[INFO] The trainset is processed.\n"
     ]
    }
   ],
   "source": [
    "model2.process_text()"
   ]
  },
  {
   "cell_type": "code",
   "execution_count": 29,
   "metadata": {},
   "outputs": [
    {
     "data": {
      "text/html": [
       "<div>\n",
       "<style scoped>\n",
       "    .dataframe tbody tr th:only-of-type {\n",
       "        vertical-align: middle;\n",
       "    }\n",
       "\n",
       "    .dataframe tbody tr th {\n",
       "        vertical-align: top;\n",
       "    }\n",
       "\n",
       "    .dataframe thead th {\n",
       "        text-align: right;\n",
       "    }\n",
       "</style>\n",
       "<table border=\"1\" class=\"dataframe\">\n",
       "  <thead>\n",
       "    <tr style=\"text-align: right;\">\n",
       "      <th></th>\n",
       "      <th>text</th>\n",
       "      <th>accepted_function</th>\n",
       "      <th>rejected_function</th>\n",
       "      <th>accepted_product</th>\n",
       "      <th>rejected_product</th>\n",
       "    </tr>\n",
       "  </thead>\n",
       "  <tbody>\n",
       "    <tr>\n",
       "      <th>0</th>\n",
       "      <td>ams media group fully accredited independent m...</td>\n",
       "      <td>general accounting, auditing, book keeping act...</td>\n",
       "      <td>manufacture, production, processing, distribut...</td>\n",
       "      <td></td>\n",
       "      <td></td>\n",
       "    </tr>\n",
       "  </tbody>\n",
       "</table>\n",
       "</div>"
      ],
      "text/plain": [
       "                                                text  \\\n",
       "0  ams media group fully accredited independent m...   \n",
       "\n",
       "                                   accepted_function  \\\n",
       "0  general accounting, auditing, book keeping act...   \n",
       "\n",
       "                                   rejected_function accepted_product  \\\n",
       "0  manufacture, production, processing, distribut...                    \n",
       "\n",
       "  rejected_product  \n",
       "0                   "
      ]
     },
     "execution_count": 29,
     "metadata": {},
     "output_type": "execute_result"
    }
   ],
   "source": [
    "model2.train"
   ]
  },
  {
   "cell_type": "code",
   "execution_count": 30,
   "metadata": {},
   "outputs": [
    {
     "data": {
      "text/html": [
       "<div>\n",
       "<style scoped>\n",
       "    .dataframe tbody tr th:only-of-type {\n",
       "        vertical-align: middle;\n",
       "    }\n",
       "\n",
       "    .dataframe tbody tr th {\n",
       "        vertical-align: top;\n",
       "    }\n",
       "\n",
       "    .dataframe thead th {\n",
       "        text-align: right;\n",
       "    }\n",
       "</style>\n",
       "<table border=\"1\" class=\"dataframe\">\n",
       "  <thead>\n",
       "    <tr style=\"text-align: right;\">\n",
       "      <th></th>\n",
       "      <th>af_0</th>\n",
       "      <th>af_1</th>\n",
       "      <th>af_2</th>\n",
       "      <th>af_3</th>\n",
       "      <th>af_4</th>\n",
       "      <th>af_5</th>\n",
       "      <th>af_6</th>\n",
       "      <th>af_7</th>\n",
       "      <th>af_8</th>\n",
       "      <th>af_9</th>\n",
       "      <th>...</th>\n",
       "      <th>tt2_758</th>\n",
       "      <th>tt2_759</th>\n",
       "      <th>tt2_760</th>\n",
       "      <th>tt2_761</th>\n",
       "      <th>tt2_762</th>\n",
       "      <th>tt2_763</th>\n",
       "      <th>tt2_764</th>\n",
       "      <th>tt2_765</th>\n",
       "      <th>tt2_766</th>\n",
       "      <th>tt2_767</th>\n",
       "    </tr>\n",
       "  </thead>\n",
       "  <tbody>\n",
       "    <tr>\n",
       "      <th>0</th>\n",
       "      <td>-0.545497</td>\n",
       "      <td>0.530825</td>\n",
       "      <td>-0.243328</td>\n",
       "      <td>-0.259352</td>\n",
       "      <td>-0.477612</td>\n",
       "      <td>0.593028</td>\n",
       "      <td>0.332686</td>\n",
       "      <td>-0.23006</td>\n",
       "      <td>-0.740062</td>\n",
       "      <td>-1.251289</td>\n",
       "      <td>...</td>\n",
       "      <td>0.346034</td>\n",
       "      <td>-0.436435</td>\n",
       "      <td>-1.035008</td>\n",
       "      <td>-0.521784</td>\n",
       "      <td>0.800145</td>\n",
       "      <td>-0.388197</td>\n",
       "      <td>-0.396973</td>\n",
       "      <td>0.20911</td>\n",
       "      <td>0.363553</td>\n",
       "      <td>0.264131</td>\n",
       "    </tr>\n",
       "  </tbody>\n",
       "</table>\n",
       "<p>1 rows × 4608 columns</p>\n",
       "</div>"
      ],
      "text/plain": [
       "       af_0      af_1      af_2      af_3      af_4      af_5      af_6  \\\n",
       "0 -0.545497  0.530825 -0.243328 -0.259352 -0.477612  0.593028  0.332686   \n",
       "\n",
       "      af_7      af_8      af_9  ...   tt2_758   tt2_759   tt2_760   tt2_761  \\\n",
       "0 -0.23006 -0.740062 -1.251289  ...  0.346034 -0.436435 -1.035008 -0.521784   \n",
       "\n",
       "    tt2_762   tt2_763   tt2_764  tt2_765   tt2_766   tt2_767  \n",
       "0  0.800145 -0.388197 -0.396973  0.20911  0.363553  0.264131  \n",
       "\n",
       "[1 rows x 4608 columns]"
      ]
     },
     "execution_count": 30,
     "metadata": {},
     "output_type": "execute_result"
    }
   ],
   "source": [
    "emb = model3.model_encode(model2.train.values[0,0],\n",
    "                             model2.train.values[0,1],\n",
    "                             model2.train.values[0,2],\n",
    "                             model2.train.values[0,3],\n",
    "                             model2.train.values[0,4])\n",
    "emb"
   ]
  },
  {
   "cell_type": "code",
   "execution_count": 40,
   "metadata": {},
   "outputs": [
    {
     "data": {
      "text/plain": [
       "af_0      -0.243054\n",
       "af_1      -0.926899\n",
       "af_2      -0.361463\n",
       "af_3       1.043820\n",
       "af_4      -0.167944\n",
       "             ...   \n",
       "tt2_763   -0.889591\n",
       "tt2_764   -0.587829\n",
       "tt2_765    0.435578\n",
       "tt2_766    0.147798\n",
       "tt2_767   -0.938173\n",
       "Name: 3, Length: 4608, dtype: float64"
      ]
     },
     "execution_count": 40,
     "metadata": {},
     "output_type": "execute_result"
    }
   ],
   "source": [
    "rf_model.X.loc[3]"
   ]
  },
  {
   "cell_type": "code",
   "execution_count": null,
   "metadata": {},
   "outputs": [],
   "source": []
  },
  {
   "cell_type": "code",
   "execution_count": null,
   "metadata": {},
   "outputs": [],
   "source": []
  },
  {
   "cell_type": "code",
   "execution_count": 38,
   "metadata": {},
   "outputs": [
    {
     "data": {
      "text/html": [
       "<div>\n",
       "<style scoped>\n",
       "    .dataframe tbody tr th:only-of-type {\n",
       "        vertical-align: middle;\n",
       "    }\n",
       "\n",
       "    .dataframe tbody tr th {\n",
       "        vertical-align: top;\n",
       "    }\n",
       "\n",
       "    .dataframe thead th {\n",
       "        text-align: right;\n",
       "    }\n",
       "</style>\n",
       "<table border=\"1\" class=\"dataframe\">\n",
       "  <thead>\n",
       "    <tr style=\"text-align: right;\">\n",
       "      <th></th>\n",
       "      <th>id</th>\n",
       "      <th>html</th>\n",
       "      <th>text</th>\n",
       "      <th>keywords</th>\n",
       "      <th>accepted_function</th>\n",
       "      <th>rejected_function</th>\n",
       "      <th>accepted_product</th>\n",
       "      <th>rejected_product</th>\n",
       "      <th>target</th>\n",
       "    </tr>\n",
       "  </thead>\n",
       "  <tbody>\n",
       "    <tr>\n",
       "      <th>0</th>\n",
       "      <td>b811ea46-1bc5-4a18-a64c-7504c382da44</td>\n",
       "      <td>[b'&lt;!DOCTYPE html&gt;\\n&lt;html lang=\"en\" class=\"pre...</td>\n",
       "      <td>[Release\\n2020\\n2019\\n2018\\n2017\\n2020\\n2019\\n...</td>\n",
       "      <td>[tools, services, projects, incubates, investm...</td>\n",
       "      <td>accounting, bookeeping, auditing, finance, HR,...</td>\n",
       "      <td>manufacture production processing assembly, re...</td>\n",
       "      <td></td>\n",
       "      <td></td>\n",
       "      <td>2</td>\n",
       "    </tr>\n",
       "    <tr>\n",
       "      <th>1</th>\n",
       "      <td>b5e3f6d4-30bc-443c-a9d6-8ed41d5c33b3</td>\n",
       "      <td>[b'&lt;!DOCTYPE html&gt;\\n&lt;html lang=\"en-US\"&gt;\\n  &lt;he...</td>\n",
       "      <td>[SAP Integrated Business Planning (IBP)\\nSAP A...</td>\n",
       "      <td>[budgeting, decision, cycles, closing, Simplif...</td>\n",
       "      <td>IT consultancy, IT support services, IT manage...</td>\n",
       "      <td>distribution, sale, trade, wholesale, retail s...</td>\n",
       "      <td></td>\n",
       "      <td></td>\n",
       "      <td>2</td>\n",
       "    </tr>\n",
       "    <tr>\n",
       "      <th>2</th>\n",
       "      <td>997ae1ab-93c4-45a9-9bd0-a49b2b952f1f</td>\n",
       "      <td>[b'&lt;!doctype html&gt;\\n&lt;html lang=\"en-US\"&gt;\\n&lt;head...</td>\n",
       "      <td>[facebook\\ntwitter\\nlinkedin\\ninstagram\\nWelco...</td>\n",
       "      <td>[]</td>\n",
       "      <td>general accounting, auditing, book keeping act...</td>\n",
       "      <td>manufacture, production, processing, distribut...</td>\n",
       "      <td></td>\n",
       "      <td></td>\n",
       "      <td>1</td>\n",
       "    </tr>\n",
       "    <tr>\n",
       "      <th>3</th>\n",
       "      <td>6890f2f1-bdc1-48cb-bf7f-00944eb37e77</td>\n",
       "      <td>[b'&lt;?xml version=\"1.0\" encoding=\"iso-8859-1\"?&gt;...</td>\n",
       "      <td>[ANDERSON BUSINESS TRAVEL\\nSpecialist Independ...</td>\n",
       "      <td>[provide, service, financial, arranging, trave...</td>\n",
       "      <td>insurance brokerage, insurance agents, travel ...</td>\n",
       "      <td>software development, wholesale, retail sale, ...</td>\n",
       "      <td></td>\n",
       "      <td></td>\n",
       "      <td>2</td>\n",
       "    </tr>\n",
       "    <tr>\n",
       "      <th>4</th>\n",
       "      <td>74a95f04-e440-4af0-850a-eec5a44ba397</td>\n",
       "      <td>[b'\\r\\n\\r\\n&lt;!DOCTYPE html&gt;\\r\\n\\r\\n&lt;html xmlns=...</td>\n",
       "      <td>[Amari Ireland Ltd\\nStandards\\nPeople\\nQuality...</td>\n",
       "      <td>[independent, centre, forms, copper, bronze, s...</td>\n",
       "      <td>sales agent and sales representative, product ...</td>\n",
       "      <td>manufacture, production, processing and retail...</td>\n",
       "      <td>product, motor vehicles, buses and trucks, mot...</td>\n",
       "      <td></td>\n",
       "      <td>1</td>\n",
       "    </tr>\n",
       "    <tr>\n",
       "      <th>...</th>\n",
       "      <td>...</td>\n",
       "      <td>...</td>\n",
       "      <td>...</td>\n",
       "      <td>...</td>\n",
       "      <td>...</td>\n",
       "      <td>...</td>\n",
       "      <td>...</td>\n",
       "      <td>...</td>\n",
       "      <td>...</td>\n",
       "    </tr>\n",
       "    <tr>\n",
       "      <th>15510</th>\n",
       "      <td>0ea4fb41-d5d8-4086-aceb-ced6665562c1</td>\n",
       "      <td>[b'&lt;!DOCTYPE html&gt;\\n&lt;html&gt;\\n&lt;head&gt;\\n&lt;meta http...</td>\n",
       "      <td>[About Thule Group\\nStrategic building blocks\\...</td>\n",
       "      <td>[enthusiasts, duffel, chain, reports, Industry...</td>\n",
       "      <td>general accounting, auditing, book keeping act...</td>\n",
       "      <td>manufacture, production, processing, distribut...</td>\n",
       "      <td></td>\n",
       "      <td></td>\n",
       "      <td>1</td>\n",
       "    </tr>\n",
       "    <tr>\n",
       "      <th>15511</th>\n",
       "      <td>7563c3e1-0ab0-415a-b565-b8f71e097014</td>\n",
       "      <td>[b'\\xef\\xbb\\xbf&lt;!doctype html&gt;\\r\\n&lt;html&gt;\\r\\n&lt;h...</td>\n",
       "      <td>[Solutions\\nEnterprise\\nBank\\nConstruction\\nSc...</td>\n",
       "      <td>[]</td>\n",
       "      <td>accounting, bookeeping, auditing, finance, HR,...</td>\n",
       "      <td>manufacture production processing assembly, re...</td>\n",
       "      <td></td>\n",
       "      <td></td>\n",
       "      <td>1</td>\n",
       "    </tr>\n",
       "    <tr>\n",
       "      <th>15512</th>\n",
       "      <td>9ed7c052-8e38-4e89-a0df-88fadeef66ab</td>\n",
       "      <td>[b'&lt;!DOCTYPE html&gt;\\n&lt;html lang=\"en-US\"&gt;\\n&lt;head...</td>\n",
       "      <td>[[wpml_language_switcher]\\nSearch\\nCompany\\nCo...</td>\n",
       "      <td>[transfusion, connectors, Infusion, blood, pre...</td>\n",
       "      <td>Management consultancy, business management, s...</td>\n",
       "      <td>Manufacture, production, research, development...</td>\n",
       "      <td></td>\n",
       "      <td></td>\n",
       "      <td>1</td>\n",
       "    </tr>\n",
       "    <tr>\n",
       "      <th>15513</th>\n",
       "      <td>628a2283-3196-46b1-8968-9518d7a877f2</td>\n",
       "      <td>[b'&lt;!DOCTYPE html PUBLIC \"-//W3C//DTD XHTML 1....</td>\n",
       "      <td>[HOME About AIT\\nAIT is an integrated logistic...</td>\n",
       "      <td>[forwarding(Railroad, Customs, domestic, trade...</td>\n",
       "      <td>management consultancy, business and strategic...</td>\n",
       "      <td>manufacture and production activities, researc...</td>\n",
       "      <td></td>\n",
       "      <td></td>\n",
       "      <td>1</td>\n",
       "    </tr>\n",
       "    <tr>\n",
       "      <th>15514</th>\n",
       "      <td>924c39d3-e66f-43ff-8b30-1d003bc71ab0</td>\n",
       "      <td>[b'&lt;!DOCTYPE html&gt;\\n&lt;html lang=\"en\"&gt;\\n&lt;head&gt;\\n...</td>\n",
       "      <td>[Contact\\nLocations\\nExtranet\\nSkip navigation...</td>\n",
       "      <td>[shading, tools, Poilicy, Climate, Control, Sm...</td>\n",
       "      <td>Manufacture, production, development, Design, ...</td>\n",
       "      <td>Retail, distribution and wholesale, Leasing, h...</td>\n",
       "      <td>product, Air conditioning products, Cooling eq...</td>\n",
       "      <td>product, Metal products and furniture, Batteri...</td>\n",
       "      <td>1</td>\n",
       "    </tr>\n",
       "  </tbody>\n",
       "</table>\n",
       "<p>15515 rows × 9 columns</p>\n",
       "</div>"
      ],
      "text/plain": [
       "                                         id  \\\n",
       "0      b811ea46-1bc5-4a18-a64c-7504c382da44   \n",
       "1      b5e3f6d4-30bc-443c-a9d6-8ed41d5c33b3   \n",
       "2      997ae1ab-93c4-45a9-9bd0-a49b2b952f1f   \n",
       "3      6890f2f1-bdc1-48cb-bf7f-00944eb37e77   \n",
       "4      74a95f04-e440-4af0-850a-eec5a44ba397   \n",
       "...                                     ...   \n",
       "15510  0ea4fb41-d5d8-4086-aceb-ced6665562c1   \n",
       "15511  7563c3e1-0ab0-415a-b565-b8f71e097014   \n",
       "15512  9ed7c052-8e38-4e89-a0df-88fadeef66ab   \n",
       "15513  628a2283-3196-46b1-8968-9518d7a877f2   \n",
       "15514  924c39d3-e66f-43ff-8b30-1d003bc71ab0   \n",
       "\n",
       "                                                    html  \\\n",
       "0      [b'<!DOCTYPE html>\\n<html lang=\"en\" class=\"pre...   \n",
       "1      [b'<!DOCTYPE html>\\n<html lang=\"en-US\">\\n  <he...   \n",
       "2      [b'<!doctype html>\\n<html lang=\"en-US\">\\n<head...   \n",
       "3      [b'<?xml version=\"1.0\" encoding=\"iso-8859-1\"?>...   \n",
       "4      [b'\\r\\n\\r\\n<!DOCTYPE html>\\r\\n\\r\\n<html xmlns=...   \n",
       "...                                                  ...   \n",
       "15510  [b'<!DOCTYPE html>\\n<html>\\n<head>\\n<meta http...   \n",
       "15511  [b'\\xef\\xbb\\xbf<!doctype html>\\r\\n<html>\\r\\n<h...   \n",
       "15512  [b'<!DOCTYPE html>\\n<html lang=\"en-US\">\\n<head...   \n",
       "15513  [b'<!DOCTYPE html PUBLIC \"-//W3C//DTD XHTML 1....   \n",
       "15514  [b'<!DOCTYPE html>\\n<html lang=\"en\">\\n<head>\\n...   \n",
       "\n",
       "                                                    text  \\\n",
       "0      [Release\\n2020\\n2019\\n2018\\n2017\\n2020\\n2019\\n...   \n",
       "1      [SAP Integrated Business Planning (IBP)\\nSAP A...   \n",
       "2      [facebook\\ntwitter\\nlinkedin\\ninstagram\\nWelco...   \n",
       "3      [ANDERSON BUSINESS TRAVEL\\nSpecialist Independ...   \n",
       "4      [Amari Ireland Ltd\\nStandards\\nPeople\\nQuality...   \n",
       "...                                                  ...   \n",
       "15510  [About Thule Group\\nStrategic building blocks\\...   \n",
       "15511  [Solutions\\nEnterprise\\nBank\\nConstruction\\nSc...   \n",
       "15512  [[wpml_language_switcher]\\nSearch\\nCompany\\nCo...   \n",
       "15513  [HOME About AIT\\nAIT is an integrated logistic...   \n",
       "15514  [Contact\\nLocations\\nExtranet\\nSkip navigation...   \n",
       "\n",
       "                                                keywords  \\\n",
       "0      [tools, services, projects, incubates, investm...   \n",
       "1      [budgeting, decision, cycles, closing, Simplif...   \n",
       "2                                                     []   \n",
       "3      [provide, service, financial, arranging, trave...   \n",
       "4      [independent, centre, forms, copper, bronze, s...   \n",
       "...                                                  ...   \n",
       "15510  [enthusiasts, duffel, chain, reports, Industry...   \n",
       "15511                                                 []   \n",
       "15512  [transfusion, connectors, Infusion, blood, pre...   \n",
       "15513  [forwarding(Railroad, Customs, domestic, trade...   \n",
       "15514  [shading, tools, Poilicy, Climate, Control, Sm...   \n",
       "\n",
       "                                       accepted_function  \\\n",
       "0      accounting, bookeeping, auditing, finance, HR,...   \n",
       "1      IT consultancy, IT support services, IT manage...   \n",
       "2      general accounting, auditing, book keeping act...   \n",
       "3      insurance brokerage, insurance agents, travel ...   \n",
       "4      sales agent and sales representative, product ...   \n",
       "...                                                  ...   \n",
       "15510  general accounting, auditing, book keeping act...   \n",
       "15511  accounting, bookeeping, auditing, finance, HR,...   \n",
       "15512  Management consultancy, business management, s...   \n",
       "15513  management consultancy, business and strategic...   \n",
       "15514  Manufacture, production, development, Design, ...   \n",
       "\n",
       "                                       rejected_function  \\\n",
       "0      manufacture production processing assembly, re...   \n",
       "1      distribution, sale, trade, wholesale, retail s...   \n",
       "2      manufacture, production, processing, distribut...   \n",
       "3      software development, wholesale, retail sale, ...   \n",
       "4      manufacture, production, processing and retail...   \n",
       "...                                                  ...   \n",
       "15510  manufacture, production, processing, distribut...   \n",
       "15511  manufacture production processing assembly, re...   \n",
       "15512  Manufacture, production, research, development...   \n",
       "15513  manufacture and production activities, researc...   \n",
       "15514  Retail, distribution and wholesale, Leasing, h...   \n",
       "\n",
       "                                        accepted_product  \\\n",
       "0                                                          \n",
       "1                                                          \n",
       "2                                                          \n",
       "3                                                          \n",
       "4      product, motor vehicles, buses and trucks, mot...   \n",
       "...                                                  ...   \n",
       "15510                                                      \n",
       "15511                                                      \n",
       "15512                                                      \n",
       "15513                                                      \n",
       "15514  product, Air conditioning products, Cooling eq...   \n",
       "\n",
       "                                        rejected_product  target  \n",
       "0                                                              2  \n",
       "1                                                              2  \n",
       "2                                                              1  \n",
       "3                                                              2  \n",
       "4                                                              1  \n",
       "...                                                  ...     ...  \n",
       "15510                                                          1  \n",
       "15511                                                          1  \n",
       "15512                                                          1  \n",
       "15513                                                          1  \n",
       "15514  product, Metal products and furniture, Batteri...       1  \n",
       "\n",
       "[15515 rows x 9 columns]"
      ]
     },
     "execution_count": 38,
     "metadata": {},
     "output_type": "execute_result"
    }
   ],
   "source": [
    "model2.train"
   ]
  },
  {
   "cell_type": "code",
   "execution_count": null,
   "metadata": {},
   "outputs": [],
   "source": []
  },
  {
   "cell_type": "code",
   "execution_count": null,
   "metadata": {},
   "outputs": [],
   "source": []
  },
  {
   "cell_type": "code",
   "execution_count": 37,
   "metadata": {},
   "outputs": [
    {
     "name": "stderr",
     "output_type": "stream",
     "text": [
      "[INFO] Data loaded\n",
      "INFO:__name__:[INFO] Data loaded\n"
     ]
    }
   ],
   "source": [
    "model2"
   ]
  },
  {
   "cell_type": "code",
   "execution_count": null,
   "metadata": {},
   "outputs": [],
   "source": []
  },
  {
   "cell_type": "code",
   "execution_count": null,
   "metadata": {},
   "outputs": [],
   "source": []
  },
  {
   "cell_type": "code",
   "execution_count": 24,
   "metadata": {},
   "outputs": [
    {
     "data": {
      "text/html": [
       "<div>\n",
       "<style scoped>\n",
       "    .dataframe tbody tr th:only-of-type {\n",
       "        vertical-align: middle;\n",
       "    }\n",
       "\n",
       "    .dataframe tbody tr th {\n",
       "        vertical-align: top;\n",
       "    }\n",
       "\n",
       "    .dataframe thead th {\n",
       "        text-align: right;\n",
       "    }\n",
       "</style>\n",
       "<table border=\"1\" class=\"dataframe\">\n",
       "  <thead>\n",
       "    <tr style=\"text-align: right;\">\n",
       "      <th></th>\n",
       "      <th>af_0</th>\n",
       "      <th>af_1</th>\n",
       "      <th>af_2</th>\n",
       "      <th>af_3</th>\n",
       "      <th>af_4</th>\n",
       "      <th>af_5</th>\n",
       "      <th>af_6</th>\n",
       "      <th>af_7</th>\n",
       "      <th>af_8</th>\n",
       "      <th>af_9</th>\n",
       "      <th>...</th>\n",
       "      <th>tt2_758</th>\n",
       "      <th>tt2_759</th>\n",
       "      <th>tt2_760</th>\n",
       "      <th>tt2_761</th>\n",
       "      <th>tt2_762</th>\n",
       "      <th>tt2_763</th>\n",
       "      <th>tt2_764</th>\n",
       "      <th>tt2_765</th>\n",
       "      <th>tt2_766</th>\n",
       "      <th>tt2_767</th>\n",
       "    </tr>\n",
       "  </thead>\n",
       "  <tbody>\n",
       "    <tr>\n",
       "      <th>0</th>\n",
       "      <td>-0.68478</td>\n",
       "      <td>0.524014</td>\n",
       "      <td>0.214746</td>\n",
       "      <td>0.039232</td>\n",
       "      <td>-0.038214</td>\n",
       "      <td>0.47364</td>\n",
       "      <td>0.067631</td>\n",
       "      <td>0.226584</td>\n",
       "      <td>-0.642498</td>\n",
       "      <td>-0.728986</td>\n",
       "      <td>...</td>\n",
       "      <td>0.602058</td>\n",
       "      <td>0.896071</td>\n",
       "      <td>-0.528244</td>\n",
       "      <td>-0.806237</td>\n",
       "      <td>0.202341</td>\n",
       "      <td>-0.284723</td>\n",
       "      <td>-0.053917</td>\n",
       "      <td>0.356992</td>\n",
       "      <td>0.096935</td>\n",
       "      <td>-0.190685</td>\n",
       "    </tr>\n",
       "  </tbody>\n",
       "</table>\n",
       "<p>1 rows × 4608 columns</p>\n",
       "</div>"
      ],
      "text/plain": [
       "      af_0      af_1      af_2      af_3      af_4     af_5      af_6  \\\n",
       "0 -0.68478  0.524014  0.214746  0.039232 -0.038214  0.47364  0.067631   \n",
       "\n",
       "       af_7      af_8      af_9  ...   tt2_758   tt2_759   tt2_760   tt2_761  \\\n",
       "0  0.226584 -0.642498 -0.728986  ...  0.602058  0.896071 -0.528244 -0.806237   \n",
       "\n",
       "    tt2_762   tt2_763   tt2_764   tt2_765   tt2_766   tt2_767  \n",
       "0  0.202341 -0.284723 -0.053917  0.356992  0.096935 -0.190685  \n",
       "\n",
       "[1 rows x 4608 columns]"
      ]
     },
     "execution_count": 24,
     "metadata": {},
     "output_type": "execute_result"
    }
   ],
   "source": [
    "res"
   ]
  },
  {
   "cell_type": "code",
   "execution_count": 45,
   "metadata": {},
   "outputs": [],
   "source": [
    "from RandomForestModel import *"
   ]
  },
  {
   "cell_type": "code",
   "execution_count": 46,
   "metadata": {},
   "outputs": [],
   "source": [
    "rf_model = RandomForestModel()"
   ]
  },
  {
   "cell_type": "code",
   "execution_count": 47,
   "metadata": {},
   "outputs": [],
   "source": [
    "rf_model.load_data()"
   ]
  },
  {
   "cell_type": "code",
   "execution_count": 48,
   "metadata": {},
   "outputs": [],
   "source": [
    "rf_model.model_fit()"
   ]
  },
  {
   "cell_type": "code",
   "execution_count": 49,
   "metadata": {},
   "outputs": [],
   "source": [
    "rf_model.save_models()"
   ]
  },
  {
   "cell_type": "code",
   "execution_count": 50,
   "metadata": {},
   "outputs": [],
   "source": [
    "rf_model.load_models()"
   ]
  },
  {
   "cell_type": "code",
   "execution_count": 52,
   "metadata": {},
   "outputs": [
    {
     "data": {
      "text/plain": [
       "2"
      ]
     },
     "execution_count": 52,
     "metadata": {},
     "output_type": "execute_result"
    }
   ],
   "source": [
    "rf_model.model_predict_one(rf_model.X.loc[3:3])"
   ]
  },
  {
   "cell_type": "code",
   "execution_count": null,
   "metadata": {},
   "outputs": [],
   "source": []
  },
  {
   "cell_type": "code",
   "execution_count": 43,
   "metadata": {},
   "outputs": [
    {
     "data": {
      "text/html": [
       "<div>\n",
       "<style scoped>\n",
       "    .dataframe tbody tr th:only-of-type {\n",
       "        vertical-align: middle;\n",
       "    }\n",
       "\n",
       "    .dataframe tbody tr th {\n",
       "        vertical-align: top;\n",
       "    }\n",
       "\n",
       "    .dataframe thead th {\n",
       "        text-align: right;\n",
       "    }\n",
       "</style>\n",
       "<table border=\"1\" class=\"dataframe\">\n",
       "  <thead>\n",
       "    <tr style=\"text-align: right;\">\n",
       "      <th></th>\n",
       "      <th>af_0</th>\n",
       "      <th>af_1</th>\n",
       "      <th>af_2</th>\n",
       "      <th>af_3</th>\n",
       "      <th>af_4</th>\n",
       "      <th>af_5</th>\n",
       "      <th>af_6</th>\n",
       "      <th>af_7</th>\n",
       "      <th>af_8</th>\n",
       "      <th>af_9</th>\n",
       "      <th>...</th>\n",
       "      <th>tt2_758</th>\n",
       "      <th>tt2_759</th>\n",
       "      <th>tt2_760</th>\n",
       "      <th>tt2_761</th>\n",
       "      <th>tt2_762</th>\n",
       "      <th>tt2_763</th>\n",
       "      <th>tt2_764</th>\n",
       "      <th>tt2_765</th>\n",
       "      <th>tt2_766</th>\n",
       "      <th>tt2_767</th>\n",
       "    </tr>\n",
       "  </thead>\n",
       "  <tbody>\n",
       "    <tr>\n",
       "      <th>3</th>\n",
       "      <td>-0.243054</td>\n",
       "      <td>-0.926899</td>\n",
       "      <td>-0.361463</td>\n",
       "      <td>1.04382</td>\n",
       "      <td>-0.167944</td>\n",
       "      <td>0.436199</td>\n",
       "      <td>-0.848164</td>\n",
       "      <td>0.633328</td>\n",
       "      <td>-0.486594</td>\n",
       "      <td>-0.699024</td>\n",
       "      <td>...</td>\n",
       "      <td>-0.327099</td>\n",
       "      <td>-0.390952</td>\n",
       "      <td>-0.174476</td>\n",
       "      <td>-0.391996</td>\n",
       "      <td>0.405719</td>\n",
       "      <td>-0.889591</td>\n",
       "      <td>-0.587829</td>\n",
       "      <td>0.435578</td>\n",
       "      <td>0.147798</td>\n",
       "      <td>-0.938173</td>\n",
       "    </tr>\n",
       "  </tbody>\n",
       "</table>\n",
       "<p>1 rows × 4608 columns</p>\n",
       "</div>"
      ],
      "text/plain": [
       "       af_0      af_1      af_2     af_3      af_4      af_5      af_6  \\\n",
       "3 -0.243054 -0.926899 -0.361463  1.04382 -0.167944  0.436199 -0.848164   \n",
       "\n",
       "       af_7      af_8      af_9  ...   tt2_758   tt2_759   tt2_760   tt2_761  \\\n",
       "3  0.633328 -0.486594 -0.699024  ... -0.327099 -0.390952 -0.174476 -0.391996   \n",
       "\n",
       "    tt2_762   tt2_763   tt2_764   tt2_765   tt2_766   tt2_767  \n",
       "3  0.405719 -0.889591 -0.587829  0.435578  0.147798 -0.938173  \n",
       "\n",
       "[1 rows x 4608 columns]"
      ]
     },
     "execution_count": 43,
     "metadata": {},
     "output_type": "execute_result"
    }
   ],
   "source": [
    "rf_model.X.loc[3:3]"
   ]
  },
  {
   "cell_type": "code",
   "execution_count": 58,
   "metadata": {},
   "outputs": [],
   "source": [
    "model2.train = model2.train[3:4]"
   ]
  },
  {
   "cell_type": "code",
   "execution_count": 59,
   "metadata": {},
   "outputs": [
    {
     "name": "stderr",
     "output_type": "stream",
     "text": [
      "/Users/trokhymovych/Documents/PROJECTS/deloitte/BertPreprocess.py:46: SettingWithCopyWarning: \n",
      "A value is trying to be set on a copy of a slice from a DataFrame.\n",
      "Try using .loc[row_indexer,col_indexer] = value instead\n",
      "\n",
      "See the caveats in the documentation: https://pandas.pydata.org/pandas-docs/stable/user_guide/indexing.html#returning-a-view-versus-a-copy\n",
      "  self.train[\"clear_text\"] = self.train[\"text\"].apply(self._make_list_of_texts)\n",
      "/Users/trokhymovych/Documents/PROJECTS/deloitte/BertPreprocess.py:47: SettingWithCopyWarning: \n",
      "A value is trying to be set on a copy of a slice from a DataFrame.\n",
      "Try using .loc[row_indexer,col_indexer] = value instead\n",
      "\n",
      "See the caveats in the documentation: https://pandas.pydata.org/pandas-docs/stable/user_guide/indexing.html#returning-a-view-versus-a-copy\n",
      "  self.train[\"text\"] = self.train.clear_text.apply(self._combine_sentences)\n",
      "[INFO] The trainset is processed.\n",
      "INFO:__name__:[INFO] The trainset is processed.\n"
     ]
    }
   ],
   "source": [
    "model2.process_text()"
   ]
  },
  {
   "cell_type": "code",
   "execution_count": 60,
   "metadata": {},
   "outputs": [
    {
     "data": {
      "text/html": [
       "<div>\n",
       "<style scoped>\n",
       "    .dataframe tbody tr th:only-of-type {\n",
       "        vertical-align: middle;\n",
       "    }\n",
       "\n",
       "    .dataframe tbody tr th {\n",
       "        vertical-align: top;\n",
       "    }\n",
       "\n",
       "    .dataframe thead th {\n",
       "        text-align: right;\n",
       "    }\n",
       "</style>\n",
       "<table border=\"1\" class=\"dataframe\">\n",
       "  <thead>\n",
       "    <tr style=\"text-align: right;\">\n",
       "      <th></th>\n",
       "      <th>text</th>\n",
       "      <th>accepted_function</th>\n",
       "      <th>rejected_function</th>\n",
       "      <th>accepted_product</th>\n",
       "      <th>rejected_product</th>\n",
       "    </tr>\n",
       "  </thead>\n",
       "  <tbody>\n",
       "    <tr>\n",
       "      <th>3</th>\n",
       "      <td>specialist independent business travel agent. ...</td>\n",
       "      <td>insurance brokerage, insurance agents, travel ...</td>\n",
       "      <td>software development, wholesale, retail sale, ...</td>\n",
       "      <td></td>\n",
       "      <td></td>\n",
       "    </tr>\n",
       "  </tbody>\n",
       "</table>\n",
       "</div>"
      ],
      "text/plain": [
       "                                                text  \\\n",
       "3  specialist independent business travel agent. ...   \n",
       "\n",
       "                                   accepted_function  \\\n",
       "3  insurance brokerage, insurance agents, travel ...   \n",
       "\n",
       "                                   rejected_function accepted_product  \\\n",
       "3  software development, wholesale, retail sale, ...                    \n",
       "\n",
       "  rejected_product  \n",
       "3                   "
      ]
     },
     "execution_count": 60,
     "metadata": {},
     "output_type": "execute_result"
    }
   ],
   "source": [
    "model2.train"
   ]
  },
  {
   "cell_type": "code",
   "execution_count": 61,
   "metadata": {},
   "outputs": [
    {
     "data": {
      "text/html": [
       "<div>\n",
       "<style scoped>\n",
       "    .dataframe tbody tr th:only-of-type {\n",
       "        vertical-align: middle;\n",
       "    }\n",
       "\n",
       "    .dataframe tbody tr th {\n",
       "        vertical-align: top;\n",
       "    }\n",
       "\n",
       "    .dataframe thead th {\n",
       "        text-align: right;\n",
       "    }\n",
       "</style>\n",
       "<table border=\"1\" class=\"dataframe\">\n",
       "  <thead>\n",
       "    <tr style=\"text-align: right;\">\n",
       "      <th></th>\n",
       "      <th>af_0</th>\n",
       "      <th>af_1</th>\n",
       "      <th>af_2</th>\n",
       "      <th>af_3</th>\n",
       "      <th>af_4</th>\n",
       "      <th>af_5</th>\n",
       "      <th>af_6</th>\n",
       "      <th>af_7</th>\n",
       "      <th>af_8</th>\n",
       "      <th>af_9</th>\n",
       "      <th>...</th>\n",
       "      <th>tt2_758</th>\n",
       "      <th>tt2_759</th>\n",
       "      <th>tt2_760</th>\n",
       "      <th>tt2_761</th>\n",
       "      <th>tt2_762</th>\n",
       "      <th>tt2_763</th>\n",
       "      <th>tt2_764</th>\n",
       "      <th>tt2_765</th>\n",
       "      <th>tt2_766</th>\n",
       "      <th>tt2_767</th>\n",
       "    </tr>\n",
       "  </thead>\n",
       "  <tbody>\n",
       "    <tr>\n",
       "      <th>0</th>\n",
       "      <td>-0.204502</td>\n",
       "      <td>0.017821</td>\n",
       "      <td>0.706966</td>\n",
       "      <td>-0.197429</td>\n",
       "      <td>-0.091684</td>\n",
       "      <td>-0.077414</td>\n",
       "      <td>0.046208</td>\n",
       "      <td>0.826226</td>\n",
       "      <td>-0.586201</td>\n",
       "      <td>-0.422937</td>\n",
       "      <td>...</td>\n",
       "      <td>0.478796</td>\n",
       "      <td>-0.584901</td>\n",
       "      <td>-0.353543</td>\n",
       "      <td>-0.537089</td>\n",
       "      <td>0.59407</td>\n",
       "      <td>-0.39651</td>\n",
       "      <td>-1.090545</td>\n",
       "      <td>0.579924</td>\n",
       "      <td>-0.18147</td>\n",
       "      <td>-0.034727</td>\n",
       "    </tr>\n",
       "  </tbody>\n",
       "</table>\n",
       "<p>1 rows × 4608 columns</p>\n",
       "</div>"
      ],
      "text/plain": [
       "       af_0      af_1      af_2      af_3      af_4      af_5      af_6  \\\n",
       "0 -0.204502  0.017821  0.706966 -0.197429 -0.091684 -0.077414  0.046208   \n",
       "\n",
       "       af_7      af_8      af_9  ...   tt2_758   tt2_759   tt2_760   tt2_761  \\\n",
       "0  0.826226 -0.586201 -0.422937  ...  0.478796 -0.584901 -0.353543 -0.537089   \n",
       "\n",
       "   tt2_762  tt2_763   tt2_764   tt2_765  tt2_766   tt2_767  \n",
       "0  0.59407 -0.39651 -1.090545  0.579924 -0.18147 -0.034727  \n",
       "\n",
       "[1 rows x 4608 columns]"
      ]
     },
     "execution_count": 61,
     "metadata": {},
     "output_type": "execute_result"
    }
   ],
   "source": [
    "emb = model3.model_encode(model2.train.values[0,0],\n",
    "                             model2.train.values[0,1],\n",
    "                             model2.train.values[0,2],\n",
    "                             model2.train.values[0,3],\n",
    "                             model2.train.values[0,4])\n",
    "emb"
   ]
  },
  {
   "cell_type": "code",
   "execution_count": 62,
   "metadata": {},
   "outputs": [
    {
     "data": {
      "text/plain": [
       "'specialist independent business travel agent. tel email info abttravel. anderson business travel ltd abt independent company fully bonded licensed iata abta staff highly qualified experienced aspects providing needs today business traveller. loyal diverse client base testimony fact service offer highest standard going step. member abta means benefit abta assistance code conduct. provide financial protection money buy package holiday. buy travel arrangements accommodation protection doesn apply. contact staff hcuk fri 6th mar gmt. copyright anderson business travel ltd. specialist independent business travel agent. tel email info abttravel. operating independent travel agency years. small company offer clients personal service arranging aspects corporate travel behalf. member abta means benefit abta assistance code conduct. provide financial protection money buy package holiday. buy travel arrangements accommodation protection doesn apply. contact staff hcuk fri 6th mar gmt. copyright anderson business travel ltd.'"
      ]
     },
     "execution_count": 62,
     "metadata": {},
     "output_type": "execute_result"
    }
   ],
   "source": [
    "model2.train.values[0,0]"
   ]
  },
  {
   "cell_type": "code",
   "execution_count": 63,
   "metadata": {},
   "outputs": [
    {
     "data": {
      "text/plain": [
       "'insurance brokerage, insurance agents, travel operator, travel agency, ticket booking agents, business support services, administrative support services, back office support services, commission agents, third party agency services'"
      ]
     },
     "execution_count": 63,
     "metadata": {},
     "output_type": "execute_result"
    }
   ],
   "source": [
    "model2.train.values[0,1]"
   ]
  },
  {
   "cell_type": "code",
   "execution_count": 64,
   "metadata": {},
   "outputs": [
    {
     "data": {
      "text/plain": [
       "'software development, wholesale, retail sale, trade, import, export, manufacture, production, design, freight forwarding, tour operat, ownership and operation of hotels and resorts, event management services, ownership of fleets'"
      ]
     },
     "execution_count": 64,
     "metadata": {},
     "output_type": "execute_result"
    }
   ],
   "source": [
    "model2.train.values[0,2]"
   ]
  },
  {
   "cell_type": "code",
   "execution_count": null,
   "metadata": {},
   "outputs": [],
   "source": [
    "model2.train.values[0,3]"
   ]
  },
  {
   "cell_type": "code",
   "execution_count": null,
   "metadata": {},
   "outputs": [],
   "source": []
  },
  {
   "cell_type": "code",
   "execution_count": null,
   "metadata": {},
   "outputs": [],
   "source": []
  },
  {
   "cell_type": "code",
   "execution_count": null,
   "metadata": {},
   "outputs": [],
   "source": []
  },
  {
   "cell_type": "code",
   "execution_count": null,
   "metadata": {},
   "outputs": [],
   "source": []
  },
  {
   "cell_type": "code",
   "execution_count": null,
   "metadata": {},
   "outputs": [],
   "source": []
  },
  {
   "cell_type": "code",
   "execution_count": null,
   "metadata": {},
   "outputs": [],
   "source": []
  },
  {
   "cell_type": "code",
   "execution_count": null,
   "metadata": {},
   "outputs": [],
   "source": []
  },
  {
   "cell_type": "code",
   "execution_count": 1,
   "metadata": {},
   "outputs": [
    {
     "name": "stderr",
     "output_type": "stream",
     "text": [
      "/Users/trokhymovych/.local/lib/python3.7/site-packages/tensorflow/python/framework/dtypes.py:526: FutureWarning: Passing (type, 1) or '1type' as a synonym of type is deprecated; in a future version of numpy, it will be understood as (type, (1,)) / '(1,)type'.\n",
      "  _np_qint8 = np.dtype([(\"qint8\", np.int8, 1)])\n",
      "/Users/trokhymovych/.local/lib/python3.7/site-packages/tensorflow/python/framework/dtypes.py:527: FutureWarning: Passing (type, 1) or '1type' as a synonym of type is deprecated; in a future version of numpy, it will be understood as (type, (1,)) / '(1,)type'.\n",
      "  _np_quint8 = np.dtype([(\"quint8\", np.uint8, 1)])\n",
      "/Users/trokhymovych/.local/lib/python3.7/site-packages/tensorflow/python/framework/dtypes.py:528: FutureWarning: Passing (type, 1) or '1type' as a synonym of type is deprecated; in a future version of numpy, it will be understood as (type, (1,)) / '(1,)type'.\n",
      "  _np_qint16 = np.dtype([(\"qint16\", np.int16, 1)])\n",
      "/Users/trokhymovych/.local/lib/python3.7/site-packages/tensorflow/python/framework/dtypes.py:529: FutureWarning: Passing (type, 1) or '1type' as a synonym of type is deprecated; in a future version of numpy, it will be understood as (type, (1,)) / '(1,)type'.\n",
      "  _np_quint16 = np.dtype([(\"quint16\", np.uint16, 1)])\n",
      "/Users/trokhymovych/.local/lib/python3.7/site-packages/tensorflow/python/framework/dtypes.py:530: FutureWarning: Passing (type, 1) or '1type' as a synonym of type is deprecated; in a future version of numpy, it will be understood as (type, (1,)) / '(1,)type'.\n",
      "  _np_qint32 = np.dtype([(\"qint32\", np.int32, 1)])\n",
      "/Users/trokhymovych/.local/lib/python3.7/site-packages/tensorflow/python/framework/dtypes.py:535: FutureWarning: Passing (type, 1) or '1type' as a synonym of type is deprecated; in a future version of numpy, it will be understood as (type, (1,)) / '(1,)type'.\n",
      "  np_resource = np.dtype([(\"resource\", np.ubyte, 1)])\n"
     ]
    }
   ],
   "source": [
    "from ModelProd import *"
   ]
  },
  {
   "cell_type": "code",
   "execution_count": 2,
   "metadata": {},
   "outputs": [],
   "source": [
    "model = ModelProd()"
   ]
  },
  {
   "cell_type": "code",
   "execution_count": 3,
   "metadata": {},
   "outputs": [],
   "source": [
    "model.load_pretrained()"
   ]
  },
  {
   "cell_type": "code",
   "execution_count": 4,
   "metadata": {},
   "outputs": [
    {
     "name": "stderr",
     "output_type": "stream",
     "text": [
      "[INFO] The trainset is processed.\n",
      "INFO:__name__:[INFO] The trainset is processed.\n"
     ]
    },
    {
     "name": "stdout",
     "output_type": "stream",
     "text": [
      "      af_0      af_1      af_2      af_3     af_4      af_5      af_6  \\\n",
      "0 -0.03549  0.035172  0.385674  0.314185  0.02803  0.044485 -0.171558   \n",
      "\n",
      "       af_7      af_8      af_9  ...   tt2_758   tt2_759   tt2_760   tt2_761  \\\n",
      "0  0.112108 -0.201007 -0.461877  ...  0.426415  0.169367 -0.166764 -0.162112   \n",
      "\n",
      "    tt2_762   tt2_763   tt2_764   tt2_765   tt2_766   tt2_767  \n",
      "0 -0.149155 -0.640797  0.204744  0.545092  0.088933 -0.366915  \n",
      "\n",
      "[1 rows x 4608 columns]\n"
     ]
    },
    {
     "data": {
      "text/plain": [
       "1"
      ]
     },
     "execution_count": 4,
     "metadata": {},
     "output_type": "execute_result"
    }
   ],
   "source": [
    "model.predict('Mykola is a good boy', 'boy', 'girl', 'ant', 'lol kek ahahah')"
   ]
  },
  {
   "cell_type": "code",
   "execution_count": null,
   "metadata": {},
   "outputs": [],
   "source": []
  },
  {
   "cell_type": "code",
   "execution_count": null,
   "metadata": {},
   "outputs": [],
   "source": []
  },
  {
   "cell_type": "code",
   "execution_count": null,
   "metadata": {},
   "outputs": [],
   "source": []
  }
 ],
 "metadata": {
  "kernelspec": {
   "display_name": "Python 3",
   "language": "python",
   "name": "python3"
  },
  "language_info": {
   "codemirror_mode": {
    "name": "ipython",
    "version": 3
   },
   "file_extension": ".py",
   "mimetype": "text/x-python",
   "name": "python",
   "nbconvert_exporter": "python",
   "pygments_lexer": "ipython3",
   "version": "3.7.3"
  }
 },
 "nbformat": 4,
 "nbformat_minor": 4
}
